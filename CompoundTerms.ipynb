{
 "cells": [
  {
   "cell_type": "markdown",
   "metadata": {},
   "source": [
    "# Objective"
   ]
  },
  {
   "cell_type": "markdown",
   "metadata": {},
   "source": [
    "Many agronomic terms appear in natural language in multiple forms, e.g.:\n",
    "* \"The awns are rough\", \"It has rough awns\", or \"It is rough-awned\". In all these cases, the plant part (PLAN), awn, is modified by an adjective, rough. The combination, \"rough\" + \"awn\" is a trait (TRAT).\n",
    "* \"early maturing\", \"matures early\". In these cases, a trait (TRAT), 'maturing' is modified by an adjective, early. This combination \"early\" + \"maturing\" is a compound trait (TRAT).\n",
    "\n",
    "In this notebook, we will run a small section of text against a trained NLP model, read the predictions, identify compoud traits based on the above rules, and output modified named entities in JSON format that include the compound traits."
   ]
  },
  {
   "cell_type": "code",
   "execution_count": 1,
   "metadata": {},
   "outputs": [],
   "source": [
    "import spacy"
   ]
  },
  {
   "cell_type": "markdown",
   "metadata": {},
   "source": [
    "\n",
    "# Do a quick training test"
   ]
  },
  {
   "cell_type": "code",
   "execution_count": 1,
   "metadata": {},
   "outputs": [
    {
     "name": "stdout",
     "output_type": "stream",
     "text": [
      "Created pre-trained 'en' model\n",
      "Training 25% done\n",
      "Training 50% done\n",
      "Training 75% done\n",
      "Training complete!\n",
      "Saved model to NerModelTest\n"
     ]
    }
   ],
   "source": [
    "from nerTraining import *\n",
    "\n",
    "output_dir=\"NerModelTest\"\n",
    "training_file = 'Data/DavisLJ11/barley_p30_td.json'\n",
    "n_iter = 100\n",
    "trainModel(None,training_file, output_dir,n_iter)"
   ]
  },
  {
   "cell_type": "markdown",
   "metadata": {},
   "source": [
    "# NLP parse some sample text"
   ]
  },
  {
   "cell_type": "code",
   "execution_count": 68,
   "metadata": {},
   "outputs": [
    {
     "data": {
      "text/html": [
       "<span class=\"tex2jax_ignore\"><div class=\"entities\" style=\"line-height: 2.5; direction: ltr\">\n",
       "<mark class=\"entity\" style=\"background: Chartreuse; padding: 0.45em 0.6em; margin: 0 0.25em; line-height: 1; border-radius: 0.35em;\">\n",
       "    Kold\n",
       "    <span style=\"font-size: 0.8em; font-weight: bold; line-height: 1; border-radius: 0.35em; text-transform: uppercase; vertical-align: middle; margin-left: 0.5rem\">CVAR</span>\n",
       "</mark>\n",
       " is a \n",
       "<mark class=\"entity\" style=\"background: yellow; padding: 0.45em 0.6em; margin: 0 0.25em; line-height: 1; border-radius: 0.35em;\">\n",
       "    six-rowed\n",
       "    <span style=\"font-size: 0.8em; font-weight: bold; line-height: 1; border-radius: 0.35em; text-transform: uppercase; vertical-align: middle; margin-left: 0.5rem\">TRAT</span>\n",
       "</mark>\n",
       " \n",
       "<mark class=\"entity\" style=\"background: yellow; padding: 0.45em 0.6em; margin: 0 0.25em; line-height: 1; border-radius: 0.35em;\">\n",
       "    winter\n",
       "    <span style=\"font-size: 0.8em; font-weight: bold; line-height: 1; border-radius: 0.35em; text-transform: uppercase; vertical-align: middle; margin-left: 0.5rem\">TRAT</span>\n",
       "</mark>\n",
       " \n",
       "<mark class=\"entity\" style=\"background: yellow; padding: 0.45em 0.6em; margin: 0 0.25em; line-height: 1; border-radius: 0.35em;\">\n",
       "    feed\n",
       "    <span style=\"font-size: 0.8em; font-weight: bold; line-height: 1; border-radius: 0.35em; text-transform: uppercase; vertical-align: middle; margin-left: 0.5rem\">TRAT</span>\n",
       "</mark>\n",
       " \n",
       "<mark class=\"entity\" style=\"background: Aqua; padding: 0.45em 0.6em; margin: 0 0.25em; line-height: 1; border-radius: 0.35em;\">\n",
       "    barley\n",
       "    <span style=\"font-size: 0.8em; font-weight: bold; line-height: 1; border-radius: 0.35em; text-transform: uppercase; vertical-align: middle; margin-left: 0.5rem\">CROP</span>\n",
       "</mark>\n",
       ". It was released by the Oregon AES in 1993. It has rough \n",
       "<mark class=\"entity\" style=\"background: pink; padding: 0.45em 0.6em; margin: 0 0.25em; line-height: 1; border-radius: 0.35em;\">\n",
       "    awns\n",
       "    <span style=\"font-size: 0.8em; font-weight: bold; line-height: 1; border-radius: 0.35em; text-transform: uppercase; vertical-align: middle; margin-left: 0.5rem\">PLAN</span>\n",
       "</mark>\n",
       " and the \n",
       "<mark class=\"entity\" style=\"background: pink; padding: 0.45em 0.6em; margin: 0 0.25em; line-height: 1; border-radius: 0.35em;\">\n",
       "    aleurone\n",
       "    <span style=\"font-size: 0.8em; font-weight: bold; line-height: 1; border-radius: 0.35em; text-transform: uppercase; vertical-align: middle; margin-left: 0.5rem\">PLAN</span>\n",
       "</mark>\n",
       " is white. It has low \n",
       "<mark class=\"entity\" style=\"background: yellow; padding: 0.45em 0.6em; margin: 0 0.25em; line-height: 1; border-radius: 0.35em;\">\n",
       "    lodging\n",
       "    <span style=\"font-size: 0.8em; font-weight: bold; line-height: 1; border-radius: 0.35em; text-transform: uppercase; vertical-align: middle; margin-left: 0.5rem\">TRAT</span>\n",
       "</mark>\n",
       ", and \n",
       "<mark class=\"entity\" style=\"background: yellow; padding: 0.45em 0.6em; margin: 0 0.25em; line-height: 1; border-radius: 0.35em;\">\n",
       "    matures\n",
       "    <span style=\"font-size: 0.8em; font-weight: bold; line-height: 1; border-radius: 0.35em; text-transform: uppercase; vertical-align: middle; margin-left: 0.5rem\">TRAT</span>\n",
       "</mark>\n",
       " early.</div></span>"
      ],
      "text/plain": [
       "<IPython.core.display.HTML object>"
      ]
     },
     "metadata": {},
     "output_type": "display_data"
    }
   ],
   "source": [
    "import PyPDF2\n",
    "from spacy import displacy\n",
    "\n",
    "# nlp = spacy.load('en_core_web_sm')\n",
    "nlp = spacy.load('NerModelTest')\n",
    "\n",
    "test_text = '''Kold is a six-rowed winter feed barley. It was released by the Oregon AES in 1993. It has rough awns and the aleurone is white. It has low lodging, and matures early.'''\n",
    "\n",
    "doc = nlp(test_text)\n",
    "\n",
    "colors = {'ALAS':'BlueViolet','CROP': 'Aqua','CVAR':'Chartreuse','PATH':'red','PED':'orange','PLAN':'pink','PPTD':'brown','TRAT':'yellow'}\n",
    "cust_options = {'ents': ['ALAS','CROP','CVAR','PATH','PED','PLAN','PPTD','TRAT'], 'colors':colors}\n",
    "\n",
    "displacy.render(doc, style='ent', jupyter=True, options=cust_options)\n"
   ]
  },
  {
   "cell_type": "markdown",
   "metadata": {},
   "source": [
    "# Identify compound traits ADJ + PLAN = TRAT\n",
    "## first flag entities and POS"
   ]
  },
  {
   "cell_type": "code",
   "execution_count": 50,
   "metadata": {},
   "outputs": [
    {
     "name": "stdout",
     "output_type": "stream",
     "text": [
      "Entities:\n",
      "Kold 0 4 CVAR\n",
      "six-rowed 10 19 TRAT\n",
      "winter 20 26 TRAT\n",
      "feed 27 31 TRAT\n",
      "barley 32 38 CROP\n",
      "1993 77 81 DATE\n",
      "awns 96 100 PLAN\n",
      "aleurone 109 117 PLAN\n",
      "lodging 139 146 TRAT\n",
      "matures 152 159 TRAT\n",
      "\n",
      "Parts of Speech:\n",
      "Kold Kold PROPN NNP nsubj\n",
      "is be AUX VBZ ROOT\n",
      "a a DET DT det\n",
      "six six NUM CD advmod\n",
      "- - PUNCT HYPH punct\n",
      "rowed row VERB VBN amod\n",
      "winter winter NOUN NN compound\n",
      "feed feed NOUN NN compound\n",
      "barley barley NOUN NN attr\n",
      ". . PUNCT . punct\n",
      "It -PRON- PRON PRP nsubjpass\n",
      "was be AUX VBD auxpass\n",
      "released release VERB VBN ROOT\n",
      "by by ADP IN agent\n",
      "the the DET DT det\n",
      "Idaho Idaho PROPN NNP compound\n",
      "AESs AESs PROPN NNPS pobj\n",
      "in in ADP IN prep\n",
      "1993 1993 NUM CD pobj\n",
      ". . PUNCT . punct\n",
      "It -PRON- PRON PRP nsubj\n",
      "has have AUX VBZ ROOT\n",
      "rough rough ADJ JJ amod\n",
      "awns awn NOUN NNS dobj\n",
      "and and CCONJ CC cc\n",
      "the the DET DT det\n",
      "aleurone aleurone NOUN NN nsubj\n",
      "is be AUX VBZ conj\n",
      "white white ADJ JJ acomp\n",
      ". . PUNCT . punct\n",
      "It -PRON- PRON PRP nsubj\n",
      "has have AUX VBZ ROOT\n",
      "low low ADJ JJ amod\n",
      "lodging lodging NOUN NN dobj\n",
      ", , PUNCT , punct\n",
      "and and CCONJ CC cc\n",
      "matures mature VERB VBZ conj\n",
      "early early ADV RB advmod\n",
      ". . PUNCT . punct\n"
     ]
    }
   ],
   "source": [
    "print(\"Entities:\")\n",
    "for ent in doc.ents:\n",
    "    print(ent.text, ent.start_char, ent.end_char, ent.label_)\n",
    "    \n",
    "# Comment out the following due to lack of statistical training for NERModel\n",
    "# print(\"\\nNoun Chunks:\")\n",
    "# for chunk in doc.noun_chunks:\n",
    "#     print(chunk.text, chunk.root.text, chunk.root.dep_,\n",
    "#             chunk.root.head.text)\n",
    "    \n",
    "print(\"\\nParts of Speech:\")\n",
    "for token in doc:\n",
    "    print(token.text, token.lemma_, token.pos_, token.tag_, token.dep_)"
   ]
  },
  {
   "cell_type": "markdown",
   "metadata": {},
   "source": [
    "## Next, identify clauses fitting ADJ + PLAN = TRAT"
   ]
  },
  {
   "cell_type": "markdown",
   "metadata": {},
   "source": [
    "from spacy.matcher import Matcher\n",
    "\n",
    "matcher = Matcher(nlp.vocab)\n",
    "pattern = [{\"ENT_TYPE\": \"PLAN\"}, {\"POS\": \"NOUN\"}, {\"DEP\": \"dobj\"}]\n",
    "matcher.add(\"Plan2Trait\", None, pattern)\n",
    "matches = matcher(doc)\n",
    "for match_id, start, end in matches:\n",
    "    string_id = nlp.vocab.strings[match_id]  # Get string representation\n",
    "    span = doc[start:end]  # The matched span\n",
    "    print(match_id, string_id, start, end, span.text)"
   ]
  },
  {
   "cell_type": "markdown",
   "metadata": {},
   "source": [
    "OK, that didn't work. Let's try another way"
   ]
  },
  {
   "cell_type": "code",
   "execution_count": 53,
   "metadata": {},
   "outputs": [
    {
     "name": "stdout",
     "output_type": "stream",
     "text": [
      "DEBUG:  awns 23 PLAN rough ADJ amod\n",
      "DEBUG:  aleurone 26 PLAN the DET det\n",
      "Kold is a six-rowed winter feed barley. It was released by the Oregon AES in 1993. It has rough awns and the aleurone is white. It has low lodging, and matures early.\n",
      "Entities:\n",
      "Kold 0 4 CVAR\n",
      "six-rowed 10 19 TRAT\n",
      "winter 20 26 TRAT\n",
      "feed 27 31 TRAT\n",
      "barley 32 38 CROP\n",
      "Oregon AES 63 73 ORG\n",
      "1993 77 81 DATE\n",
      "rough awns 90 100 TRAT\n",
      "aleurone 109 117 PLAN\n",
      "lodging 139 146 TRAT\n",
      "matures 152 159 TRAT\n"
     ]
    }
   ],
   "source": [
    "from spacy.tokens import Span\n",
    "\n",
    "def compound_trait_entities(doc):\n",
    "    new_ents = []\n",
    "    for ent in doc.ents:\n",
    "        # Only check for PLAN entities with a preceding one-token adjective\n",
    "        # This needs to be generalized to explicitly include any dependency relationehip\n",
    "        # (e.g., 'the awns are rough' in addition to 'rough awns')\n",
    "        if ent.label_ == \"PLAN\" and ent.start != 0:\n",
    "            prev_token = doc[ent.start - 1]\n",
    "            print('DEBUG: ', ent.text, ent.start, ent.label_, prev_token.text, prev_token.pos_, prev_token.dep_)\n",
    "            if prev_token.pos_ == 'ADJ' and prev_token.dep_ == 'amod':\n",
    "                new_ent = Span(doc, ent.start - 1, ent.end, label='TRAT')\n",
    "                new_ents.append(new_ent)\n",
    "            else:\n",
    "                new_ents.append(ent)\n",
    "        else:\n",
    "            new_ents.append(ent)\n",
    "    doc.ents = new_ents\n",
    "    return doc\n",
    "\n",
    "new_doc = compound_trait_entities(doc)\n",
    "print(new_doc)\n",
    "print(\"Entities:\")\n",
    "for ent in new_doc.ents:\n",
    "    print(ent.text, ent.start_char, ent.end_char, ent.label_)\n"
   ]
  },
  {
   "cell_type": "markdown",
   "metadata": {},
   "source": [
    "## Add the above as a pipeline"
   ]
  },
  {
   "cell_type": "code",
   "execution_count": null,
   "metadata": {},
   "outputs": [],
   "source": [
    "# TODO in the future: Add the component after the named entity recognizer\n",
    "# nlp.add_pipe(compound_trait_entities, after='ner')\n"
   ]
  },
  {
   "cell_type": "markdown",
   "metadata": {},
   "source": [
    "The example above is rigid. It only check for PLAN entities with a preceding one-token adjective. This needs to be generalized to explicitly include any dependency relationehips (e.g., 'the awns are rough' in addition to 'rough awns')"
   ]
  },
  {
   "cell_type": "code",
   "execution_count": 54,
   "metadata": {},
   "outputs": [
    {
     "name": "stdout",
     "output_type": "stream",
     "text": [
      "white aleurone is a TRAT (trait)\n"
     ]
    }
   ],
   "source": [
    "plan_entities = [ent for ent in doc.ents if ent.label_ == \"PLAN\"]\n",
    "for ent in plan_entities:\n",
    "    # Because the entity is a spans, we need to use its root token. The head\n",
    "    # is the syntactic governor of the person, e.g. the verb\n",
    "    head = ent.root.head\n",
    "    if head.lemma_ == \"be\":\n",
    "        # Check if the children contain an adjectival complement (acomp)\n",
    "        acomps = [token for token in head.children if token.dep_ == \"acomp\"]\n",
    "        for acomp in acomps:\n",
    "            print(acomp, ent, \"is a TRAT (trait)\")"
   ]
  },
  {
   "cell_type": "markdown",
   "metadata": {},
   "source": [
    "## Quick gut-check on spacy basics"
   ]
  },
  {
   "cell_type": "markdown",
   "metadata": {},
   "source": [
    "Ah, now all we need to do is add this piece of logic to the earlier compound_trait_entities function we will add to the pipeline. This handles phrases where the adjective doesn't precede the noun it modifies, and the original code already handles the phrases where the adjective directly precedes the noun it modifies. But first, let's make sure we understand [Tokens](https://spacy.io/api/token), [Spans](https://spacy.io/api/span) and [Docs](https://spacy.io/api/doc)."
   ]
  },
  {
   "cell_type": "code",
   "execution_count": 55,
   "metadata": {},
   "outputs": [
    {
     "name": "stdout",
     "output_type": "stream",
     "text": [
      "SPAN FRAG: is a simple FRAG\n",
      "Token: simple at position 3\n",
      "Span start: is at position 1\n"
     ]
    }
   ],
   "source": [
    "nlp = spacy.load('en_core_web_sm')\n",
    "from spacy.tokens import Span\n",
    "\n",
    "# Figure out alternatives to creating a Span\n",
    "test_doc = nlp('This is a simple sentence used for testing.')\n",
    "# span = test_doc[1:4]\n",
    "# The next one doesn't assign the label\n",
    "# span = test_doc[1:4].char_span(0, 11, label=\"FRAG\")\n",
    "span = Span(test_doc, 1, 4, label=\"FRAG\")\n",
    "print(\"SPAN FRAG:\", span.text, span.label_)\n",
    "\n",
    "# Now figure out how to figure out the right token number in the doc for a token\n",
    "token = test_doc[3]\n",
    "print(\"Token:\", token.text, \"at position\", token.i)\n",
    "\n",
    "# What is the first token in the span?\n",
    "token = test_doc[span.start]\n",
    "print(\"Span start:\", token.text, \"at position\", token.i)"
   ]
  },
  {
   "cell_type": "markdown",
   "metadata": {},
   "source": [
    "## Combined approach: Handling ADJ PLAN = TRAT and PLAN (be) ADJ = TRAT"
   ]
  },
  {
   "cell_type": "code",
   "execution_count": 56,
   "metadata": {},
   "outputs": [
    {
     "name": "stdout",
     "output_type": "stream",
     "text": [
      "Kold is a six-rowed winter feed barley. It was released by the Oregon AES in 1993. It has rough awns and the aleurone is white. It has low lodging, and matures early.\n",
      "Entities:\n",
      "Kold 0 4 CVAR\n",
      "six-rowed 10 19 TRAT\n",
      "winter 20 26 TRAT\n",
      "feed 27 31 TRAT\n",
      "barley 32 38 CROP\n",
      "Oregon AES 63 73 ORG\n",
      "1993 77 81 DATE\n",
      "rough awns 90 100 TRAT\n",
      "aleurone is white 109 126 TRAT\n",
      "lodging 139 146 TRAT\n",
      "matures 152 159 TRAT\n"
     ]
    }
   ],
   "source": [
    "from spacy.tokens import Span\n",
    "\n",
    "def adj_plan_entities(doc):\n",
    "    # only deals with ADJ PLAN = TRAT entities (e.g, 'rough awns')\n",
    "    new_ents = []\n",
    "    for ent in doc.ents:\n",
    "        if ent.label_ == \"PLAN\" and ent.start != 0:\n",
    "            prev_token = doc[ent.start - 1]\n",
    "            # print('DEBUG: ', ent.text, ent.start, ent.label_, prev_token.text, prev_token.pos_, prev_token.dep_)\n",
    "            if prev_token.pos_ == 'ADJ' and prev_token.dep_ == 'amod':\n",
    "                new_ent = Span(doc, ent.start - 1, ent.end, label='TRAT')\n",
    "                new_ents.append(new_ent)\n",
    "            else:\n",
    "                new_ents.append(ent)\n",
    "        else:\n",
    "            new_ents.append(ent)\n",
    "    doc.ents = new_ents\n",
    "    return doc\n",
    "\n",
    "def plan_adj_entities(doc):\n",
    "    #only deals with PLAN (be) ADJ = TRAT entities (e.g., 'awns are rough')\n",
    "    new_ents = []\n",
    "    for ent in doc.ents:\n",
    "        if ent.label_ == \"PLAN\":\n",
    "            # Because the entity is a spans, we need to use its root token. The head\n",
    "            # is the syntactic governor of the person, e.g. the verb\n",
    "            head = ent.root.head\n",
    "            # print('DEBUG: entity head lemma', head.lemma_)\n",
    "            if head.lemma_ == \"be\":\n",
    "                # Check if the children contain an adjectival complement (acomp)\n",
    "                acomps = [token for token in head.children if token.dep_ == \"acomp\"]\n",
    "                # CAVEAT 1: For now let's assume adjectives are single-word\n",
    "                # Later we should figure out the lowest and highest index among the adjectives\n",
    "                acomp = acomps[0]\n",
    "                # print('DEBUG: ', acomp, ent, \"is a new TRAT (trait)\")\n",
    "                # CAVEAT 2: The document remains unchanged, so the term that will get stored\n",
    "                # will be the original phrase 'awns are rough' instead of the standardized\n",
    "                # 'rough awns'\n",
    "                #\n",
    "                # Having trouble defining a span from the first token of the Span 'ent' to the last token of 'acomp'\n",
    "                # print('DEBUG: acomp', doc[acomp.i+1])\n",
    "                new_ent = Span(doc, doc[ent.start].i, acomp.i+1, label=\"TRAT\")\n",
    "                new_ents.append(new_ent)\n",
    "                # I would much rather overwrite the phrase as 'rough awns' like this DEBUG statement shows\n",
    "                # by printing acomp + ent\n",
    "            else:\n",
    "                new_ents.append(ent)\n",
    "        else:\n",
    "            new_ents.append(ent)\n",
    "    doc.ents = new_ents\n",
    "    return doc\n",
    "\n",
    "\n",
    "def compound_trait_entities(doc):\n",
    "    doc = adj_plan_entities(doc)\n",
    "    doc = plan_adj_entities(doc)\n",
    "    return doc\n",
    "\n",
    "\n",
    "new_doc = compound_trait_entities(doc)\n",
    "print(new_doc)\n",
    "print(\"Entities:\")\n",
    "for ent in new_doc.ents:\n",
    "    print(ent.text, ent.start_char, ent.end_char, ent.label_)\n"
   ]
  },
  {
   "cell_type": "markdown",
   "metadata": {},
   "source": [
    "# Identify compound traits ADJ + TRAT = TRAT"
   ]
  },
  {
   "cell_type": "code",
   "execution_count": 69,
   "metadata": {},
   "outputs": [
    {
     "name": "stdout",
     "output_type": "stream",
     "text": [
      "Kold is a six-rowed winter feed barley. It was released by the Oregon AES in 1993. It has rough awns and the aleurone is white. It has low lodging, and matures early.\n",
      "Entities:\n",
      "Kold 0 4 CVAR\n",
      "six-rowed 10 19 TRAT\n",
      "winter 20 26 TRAT\n",
      "feed 27 31 TRAT\n",
      "barley 32 38 CROP\n",
      "Oregon AES 63 73 ORG\n",
      "1993 77 81 DATE\n",
      "rough awns 90 100 TRAT\n",
      "aleurone is white 109 126 TRAT\n",
      "low lodging 135 146 TRAT\n",
      "matures early 152 165 TRAT\n"
     ]
    }
   ],
   "source": [
    "from spacy.tokens import Span\n",
    "\n",
    "def adj_ent_entities(doc):\n",
    "    # only deals with ADJ TRAT (or PLAN) = TRAT entities (e.g, 'low lodging' or 'rough awns')\n",
    "    new_ents = []\n",
    "    for ent in doc.ents:\n",
    "        if ent.label_ in ('PLAN', 'TRAT') and ent.start != 0:\n",
    "            prev_token = doc[ent.start - 1]\n",
    "            # print('DEBUG: ', ent.text, ent.start, ent.label_, prev_token.text, prev_token.pos_, prev_token.dep_)\n",
    "            if prev_token.pos_ == 'ADJ' and prev_token.dep_ == 'amod':\n",
    "                new_ent = Span(doc, ent.start - 1, ent.end, label='TRAT')\n",
    "                new_ents.append(new_ent)\n",
    "            else:\n",
    "                new_ents.append(ent)\n",
    "        else:\n",
    "            new_ents.append(ent)\n",
    "    doc.ents = new_ents\n",
    "    return doc\n",
    "\n",
    "def trat_adj_entities(doc):\n",
    "    # only deals with TRAT ADJ = TRAT entities (e.g., 'matures early')\n",
    "    # CAVEAT: we still need to do deal with TRAT (be) ADJ (e.g., 'its protein levels are low')\n",
    "    new_ents = []\n",
    "    for ent in doc.ents:\n",
    "        if ent.label_ in ('TRAT'):\n",
    "            next_token = doc[ent.start + 1]\n",
    "            # print('DEBUG: ', ent.text, ent.start, ent.label_, next_token.text, next_token.pos_, next_token.dep_)\n",
    "            if next_token.pos_ == 'ADV' and next_token.dep_ == 'advmod':\n",
    "                new_ent = Span(doc, ent.start, ent.end + 1, label='TRAT')\n",
    "                new_ents.append(new_ent)    \n",
    "            else:\n",
    "                new_ents.append(ent)\n",
    "        else:\n",
    "            new_ents.append(ent)\n",
    "    doc.ents = new_ents\n",
    "    return doc\n",
    "\n",
    "\n",
    "def compound_trait_entities(doc):\n",
    "    doc = adj_ent_entities(doc)\n",
    "    doc = plan_adj_entities(doc)\n",
    "    doc = trat_adj_entities(doc)\n",
    "    return doc\n",
    "\n",
    "\n",
    "new_doc = compound_trait_entities(doc)\n",
    "print(new_doc)\n",
    "print(\"Entities:\")\n",
    "for ent in new_doc.ents:\n",
    "    print(ent.text, ent.start_char, ent.end_char, ent.label_)\n"
   ]
  },
  {
   "cell_type": "markdown",
   "metadata": {},
   "source": [
    "# Add our new compound trait function to the pipeline"
   ]
  },
  {
   "cell_type": "code",
   "execution_count": 70,
   "metadata": {},
   "outputs": [
    {
     "name": "stdout",
     "output_type": "stream",
     "text": [
      "Kold is a six-rowed winter feed barley. It was released by the Oregon AES in 1993. It has rough awns and the aleurone is white. It has low lodging, and matures early.\n",
      "Entities:\n",
      "Kold 0 4 CVAR\n",
      "six-rowed 10 19 TRAT\n",
      "winter 20 26 TRAT\n",
      "feed 27 31 TRAT\n",
      "barley 32 38 CROP\n",
      "Oregon AES 63 73 ORG\n",
      "1993 77 81 DATE\n",
      "rough awns 90 100 TRAT\n",
      "aleurone is white 109 126 TRAT\n",
      "low lodging 135 146 TRAT\n",
      "matures early 152 165 TRAT\n"
     ]
    }
   ],
   "source": [
    "nlp.add_pipe(compound_trait_entities, after='ner')\n",
    "doc = nlp(test_text)\n",
    "print(doc)\n",
    "print(\"Entities:\")\n",
    "for ent in doc.ents:\n",
    "    print(ent.text, ent.start_char, ent.end_char, ent.label_)\n"
   ]
  },
  {
   "cell_type": "markdown",
   "metadata": {},
   "source": [
    "We now have the basics working. But here is a recap on the caveats: We don't handle multiple-word adjectival or adverbial modifiers like 'mid to late maturity' and 'height is very low'. We also don't handle TRAT (be) ADJ constructs (e.g., 'its yield is low'). These will need to be added."
   ]
  }
 ],
 "metadata": {
  "kernelspec": {
   "display_name": "Python 3",
   "language": "python",
   "name": "python3"
  },
  "language_info": {
   "codemirror_mode": {
    "name": "ipython",
    "version": 3
   },
   "file_extension": ".py",
   "mimetype": "text/x-python",
   "name": "python",
   "nbconvert_exporter": "python",
   "pygments_lexer": "ipython3",
   "version": "3.8.5"
  }
 },
 "nbformat": 4,
 "nbformat_minor": 4
}
