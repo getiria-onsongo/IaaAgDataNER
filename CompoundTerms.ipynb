{
 "cells": [
  {
   "cell_type": "markdown",
   "metadata": {},
   "source": [
    "# Objective"
   ]
  },
  {
   "cell_type": "markdown",
   "metadata": {},
   "source": [
    "Many agronomic terms appear in natural language in multiple forms, e.g.:\n",
    "* \"The awns are rough\", \"It has rough awns\", or \"It is rough-awned\". In all these cases, the plant part (PLAN), awn, is modified by an adjective, rough. The combination, \"rough\" + \"awn\" is a trait (TRAT).\n",
    "* \"early maturing\", \"matures early\". In these cases, a trait (TRAT), 'maturing' is modified by an adjective, early. This combination \"early\" + \"maturing\" is a compound trait (TRAT).\n",
    "\n",
    "In this notebook, we will run a small section of text against a trained NLP model, read the predictions, identify compoud traits based on the above rules, and output modified named entities in JSON format that include the compound traits."
   ]
  },
  {
   "cell_type": "markdown",
   "metadata": {},
   "source": [
    "\n",
    "# Do a quick training test"
   ]
  },
  {
   "cell_type": "code",
   "execution_count": 1,
   "metadata": {},
   "outputs": [
    {
     "name": "stdout",
     "output_type": "stream",
     "text": [
      "Created pre-trained 'en' model\n",
      "Training 25% done\n",
      "Training 50% done\n",
      "Training 75% done\n",
      "Training complete!\n",
      "Saved model to NerModelTest\n"
     ]
    }
   ],
   "source": [
    "import spacy\n",
    "\n",
    "from nerTraining import *\n",
    "\n",
    "output_dir=\"NerModelTest\"\n",
    "training_file = 'Data/DavisLJ11/barley_p30_td.json'\n",
    "n_iter = 100\n",
    "trainModel(None,training_file, output_dir,n_iter)"
   ]
  },
  {
   "cell_type": "markdown",
   "metadata": {},
   "source": [
    "# NLP parse some sample text"
   ]
  },
  {
   "cell_type": "code",
   "execution_count": 2,
   "metadata": {},
   "outputs": [
    {
     "data": {
      "text/html": [
       "<span class=\"tex2jax_ignore\"><div class=\"entities\" style=\"line-height: 2.5; direction: ltr\">\n",
       "<mark class=\"entity\" style=\"background: Chartreuse; padding: 0.45em 0.6em; margin: 0 0.25em; line-height: 1; border-radius: 0.35em;\">\n",
       "    Kold\n",
       "    <span style=\"font-size: 0.8em; font-weight: bold; line-height: 1; border-radius: 0.35em; text-transform: uppercase; vertical-align: middle; margin-left: 0.5rem\">CVAR</span>\n",
       "</mark>\n",
       " is a \n",
       "<mark class=\"entity\" style=\"background: yellow; padding: 0.45em 0.6em; margin: 0 0.25em; line-height: 1; border-radius: 0.35em;\">\n",
       "    six-rowed\n",
       "    <span style=\"font-size: 0.8em; font-weight: bold; line-height: 1; border-radius: 0.35em; text-transform: uppercase; vertical-align: middle; margin-left: 0.5rem\">TRAT</span>\n",
       "</mark>\n",
       " \n",
       "<mark class=\"entity\" style=\"background: yellow; padding: 0.45em 0.6em; margin: 0 0.25em; line-height: 1; border-radius: 0.35em;\">\n",
       "    winter\n",
       "    <span style=\"font-size: 0.8em; font-weight: bold; line-height: 1; border-radius: 0.35em; text-transform: uppercase; vertical-align: middle; margin-left: 0.5rem\">TRAT</span>\n",
       "</mark>\n",
       " \n",
       "<mark class=\"entity\" style=\"background: yellow; padding: 0.45em 0.6em; margin: 0 0.25em; line-height: 1; border-radius: 0.35em;\">\n",
       "    feed\n",
       "    <span style=\"font-size: 0.8em; font-weight: bold; line-height: 1; border-radius: 0.35em; text-transform: uppercase; vertical-align: middle; margin-left: 0.5rem\">TRAT</span>\n",
       "</mark>\n",
       " \n",
       "<mark class=\"entity\" style=\"background: Aqua; padding: 0.45em 0.6em; margin: 0 0.25em; line-height: 1; border-radius: 0.35em;\">\n",
       "    barley\n",
       "    <span style=\"font-size: 0.8em; font-weight: bold; line-height: 1; border-radius: 0.35em; text-transform: uppercase; vertical-align: middle; margin-left: 0.5rem\">CROP</span>\n",
       "</mark>\n",
       ". It was released by the \n",
       "<mark class=\"entity\" style=\"background: Chartreuse; padding: 0.45em 0.6em; margin: 0 0.25em; line-height: 1; border-radius: 0.35em;\">\n",
       "    Oregon\n",
       "    <span style=\"font-size: 0.8em; font-weight: bold; line-height: 1; border-radius: 0.35em; text-transform: uppercase; vertical-align: middle; margin-left: 0.5rem\">CVAR</span>\n",
       "</mark>\n",
       " and Idaho AESs in 1993. It has rough \n",
       "<mark class=\"entity\" style=\"background: pink; padding: 0.45em 0.6em; margin: 0 0.25em; line-height: 1; border-radius: 0.35em;\">\n",
       "    awns\n",
       "    <span style=\"font-size: 0.8em; font-weight: bold; line-height: 1; border-radius: 0.35em; text-transform: uppercase; vertical-align: middle; margin-left: 0.5rem\">PLAN</span>\n",
       "</mark>\n",
       ", is early \n",
       "<mark class=\"entity\" style=\"background: yellow; padding: 0.45em 0.6em; margin: 0 0.25em; line-height: 1; border-radius: 0.35em;\">\n",
       "    maturing\n",
       "    <span style=\"font-size: 0.8em; font-weight: bold; line-height: 1; border-radius: 0.35em; text-transform: uppercase; vertical-align: middle; margin-left: 0.5rem\">TRAT</span>\n",
       "</mark>\n",
       ", and is high yielding.</div></span>"
      ],
      "text/plain": [
       "<IPython.core.display.HTML object>"
      ]
     },
     "metadata": {},
     "output_type": "display_data"
    }
   ],
   "source": [
    "import PyPDF2\n",
    "from spacy import displacy\n",
    "\n",
    "# nlp = spacy.load('en_core_web_sm')\n",
    "nlp = spacy.load('NerModelTest')\n",
    "\n",
    "test_text = '''Kold is a six-rowed winter feed barley. It was released by the Oregon and Idaho AESs in 1993. It has rough awns, is early maturing, and is high yielding.'''\n",
    "\n",
    "doc = nlp(test_text)\n",
    "\n",
    "colors = {'ALAS':'BlueViolet','CROP': 'Aqua','CVAR':'Chartreuse','PATH':'red','PED':'orange','PLAN':'pink','PPTD':'brown','TRAT':'yellow'}\n",
    "cust_options = {'ents': ['ALAS','CROP','CVAR','PATH','PED','PLAN','PPTD','TRAT'], 'colors':colors}\n",
    "\n",
    "displacy.render(doc, style='ent', jupyter=True, options=cust_options)\n"
   ]
  },
  {
   "cell_type": "markdown",
   "metadata": {},
   "source": [
    "# Identify compound traits ADJ + PLAN = TRAT"
   ]
  },
  {
   "cell_type": "code",
   "execution_count": 3,
   "metadata": {},
   "outputs": [
    {
     "name": "stdout",
     "output_type": "stream",
     "text": [
      "Entities:\n",
      "Kold 0 4 CVAR\n",
      "six-rowed 10 19 TRAT\n",
      "winter 20 26 TRAT\n",
      "feed 27 31 TRAT\n",
      "barley 32 38 CROP\n",
      "Oregon 63 69 CVAR\n",
      "Idaho 74 79 GPE\n",
      "1993 88 92 DATE\n",
      "awns 107 111 PLAN\n",
      "maturing 122 130 TRAT\n",
      "\n",
      "Parts of Speech:\n",
      "Kold Kold PROPN NNP nsubj\n",
      "is be AUX VBZ ROOT\n",
      "a a DET DT det\n",
      "six six NUM CD advmod\n",
      "- - PUNCT HYPH punct\n",
      "rowed row VERB VBN amod\n",
      "winter winter NOUN NN compound\n",
      "feed feed NOUN NN compound\n",
      "barley barley NOUN NN attr\n",
      ". . PUNCT . punct\n",
      "It -PRON- PRON PRP nsubjpass\n",
      "was be AUX VBD auxpass\n",
      "released release VERB VBN ROOT\n",
      "by by ADP IN agent\n",
      "the the DET DT det\n",
      "Oregon Oregon PROPN NNP nmod\n",
      "and and CCONJ CC cc\n",
      "Idaho Idaho PROPN NNP conj\n",
      "AESs AESs PROPN NNPS pobj\n",
      "in in ADP IN prep\n",
      "1993 1993 NUM CD pobj\n",
      ". . PUNCT . punct\n",
      "It -PRON- PRON PRP nsubj\n",
      "has have AUX VBZ ROOT\n",
      "rough rough ADJ JJ amod\n",
      "awns awn NOUN NNS dobj\n",
      ", , PUNCT , punct\n",
      "is be AUX VBZ conj\n",
      "early early ADV RB advmod\n",
      "maturing mature VERB VBG acomp\n",
      ", , PUNCT , punct\n",
      "and and CCONJ CC cc\n",
      "is be AUX VBZ conj\n",
      "high high ADJ JJ amod\n",
      "yielding yield VERB VBG acomp\n",
      ". . PUNCT . punct\n"
     ]
    }
   ],
   "source": [
    "print(\"Entities:\")\n",
    "for ent in doc.ents:\n",
    "    print(ent.text, ent.start_char, ent.end_char, ent.label_)\n",
    "    \n",
    "# Comment out the following due to lack of statistical training for NERModel\n",
    "# print(\"\\nNoun Chunks:\")\n",
    "# for chunk in doc.noun_chunks:\n",
    "#     print(chunk.text, chunk.root.text, chunk.root.dep_,\n",
    "#             chunk.root.head.text)\n",
    "    \n",
    "print(\"\\nParts of Speech:\")\n",
    "for token in doc:\n",
    "    print(token.text, token.lemma_, token.pos_, token.tag_, token.dep_)"
   ]
  },
  {
   "cell_type": "markdown",
   "metadata": {},
   "source": [
    "Strangely, if we use the custom NerModel instead of the standard English training, Parts of Speech are not recorded, and name chuncks have no statistics. I suspect we need to alter the way we've done training..."
   ]
  }
 ],
 "metadata": {
  "kernelspec": {
   "display_name": "Python 3",
   "language": "python",
   "name": "python3"
  },
  "language_info": {
   "codemirror_mode": {
    "name": "ipython",
    "version": 3
   },
   "file_extension": ".py",
   "mimetype": "text/x-python",
   "name": "python",
   "nbconvert_exporter": "python",
   "pygments_lexer": "ipython3",
   "version": "3.8.2"
  }
 },
 "nbformat": 4,
 "nbformat_minor": 4
}
