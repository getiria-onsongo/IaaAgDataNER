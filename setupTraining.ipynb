{
 "cells": [
  {
   "cell_type": "markdown",
   "metadata": {},
   "source": [
    "# Generate Training Data"
   ]
  },
  {
   "cell_type": "markdown",
   "metadata": {},
   "source": [
    "We wish to speed up the process of having a human being name entities that they recognize in a paragraph, and having their positions in the paragraph identified and placed in a syntax usable by spaCy's NER training routine."
   ]
  },
  {
   "cell_type": "markdown",
   "metadata": {},
   "source": [
    "## Open PDF file, extract page two and display as sentences"
   ]
  },
  {
   "cell_type": "code",
   "execution_count": 1,
   "metadata": {
    "scrolled": false
   },
   "outputs": [
    {
     "name": "stdout",
     "output_type": "stream",
     "text": [
      "0 :  25    MANKER  Manker is a six-rowed spring malting barley.\n",
      "1 :  It was released by the Minnesota AES in 1974.\n",
      "2 :  It was selected from the cross\n",
      "3 :  Cree/4/Parkland *2/NDB112/3/Vantage//Kindred/Jotun.\n",
      "4 :  Its experimental designation was M16.\n",
      "5 :  It is medium-early maturing, mid-tall, and has moderately strong straw.\n",
      "6 :  Spikes are rough-awned, medium-lax, long and semi-erect.\n",
      "7 :  Kernels are covered, medium sized with short-haired rachilla and white aleurone.\n",
      "8 :  It has more kernels per spike, fewer tillers and lower tiller mortality than Larker.\n",
      "9 :  It is adapted to the Red River Valley of Minnesota.\n",
      "10 :  At the time of release it was resistant to stem rust and spot blotch.\n",
      "11 :  It was evaluated as Entry 581 in the UC Regional Cereal Testing program from 1980-1984 for spring planting in the intermountain region of northern California.\n",
      "12 :  Crop Science 15:603 (1975)    MARANNA  Maranna is a six-rowed spring feed barley.\n",
      "13 :  It was released by the Oregon, Idaho, and Washington AESs in 1993.\n",
      "14 :  It was selected from the cross OSB74133/M33.\n",
      "15 :  Its experimental designation was ORS-2.\n",
      "16 :  It has very high yield potential under irrigated or high rainfall conditions with high inputs.\n",
      "17 :  It is several days later in heading than Steptoe, short statured (average height of 68 cm), and resistant to lodging.\n",
      "18 :  It has smooth awns and white aleurone.\n",
      "19 :  Spikes are semi-lax.\n",
      "20 :  At the time of release it was susceptible to stripe rust and to the Russian wheat aphid.\n",
      "21 :  It was evaluated as Entry 854 in the UC Regional Cereal Testing program from 1991-1997 for spring planting in the intermountain region of northern California.\n",
      "22 :  Crop Science 35:1504 (1995)    \n",
      "23 :  MAX  Max is a six-rowed spring feed barley.\n",
      "24 :  It was released by Farmers Marketing Corporation in 1992 and is distributed by World Wide Wheat.\n",
      "25 :  It was selected from a male-sterile facilitated recurrent selection population (CCXXXII).\n",
      "26 :  Its experimental designation was FMC 7024.\n",
      "27 :  It is late maturing with short stature and fair lodging resistance.\n",
      "28 :  At the time of evaluation it was resistant to BYD, moderately susceptible to leaf rust and susceptible to scald, powdery mildew, net blotch and stripe rust.\n",
      "29 :  It was evaluated as Entry 816 in the UC Regional Cereal Testing program from 1990-2011 for late fall planting in the Central Valley and the south-central coastal regions of California.    \n",
      "30 :  MENTOR  Mentor is a two-rowed spring malting barley.\n",
      "31 :  It was received for testing from Lynn Gallagher, UC Davis, in 1999.\n",
      "32 :  It is late maturing and has medium plant height and fair to poor straw strength.\n",
      "33 :  At the time of evaluation it was moderately susceptible to BYD.\n",
      "34 :  It was evaluated as Entry 1036 in the UC Regional Cereal Testing program in 1999 for spring planting in the intermountain region of northern California.    \n",
      "35 :  MENUET  Menuet is a two-rowed spring feed barley.\n",
      "36 :  It was developed by CENEX, Oregon.\n",
      "37 :  It is medium maturing (heads about 7 days later than Steptoe, similar to Clark) and medium height (it averages about 3 inches shorter than Steptoe or Klages under irrigated conditions) and has fair straw strength (less lodging than Klages).\n",
      "38 :  It has high test weight.\n",
      "39 :  At the time of evaluation it was resistant to leaf rust and susceptible to scald and BYD.\n",
      "40 :  It was evaluated as Entry 699 in the UC Regional Cereal Testing program from 1985-1987 for spring planting in the intermountain area of northern California and for late fall planting in the Central Valley and the south-central coastal regions of California.    \n",
      "41 :  MERIT  Merit is a two-rowed spring malting barley.  \n",
      "42 :  It was released by Busch Agricultural Resources.\n",
      "43 :  It was selected from the cross Manley/2B80-350.\n",
      "44 :  Its experimental designation was BA 2B91-4947.\n",
      "45 :  It is medium late maturing, mid-tall and has poor straw strength.\n",
      "46 :  At the time of evaluation it was resistant to net blotch and leaf rust, moderately resistant to BYD, and susceptible to scald and stripe rust.\n",
      "47 :  It was evaluated as Entry 977 in the UC Regional Cereal Testing program from 1997-1998, from 2001-2006, and in 2011 for spring planting in the intermountain region of northern California.    \n",
      "48 :  MICAH  Micah is a six-rowed spring feed barley.\n",
      "49 :  It is late maturing, short, and has fair straw strength.\n",
      "50 :  It was evaluated as Entry 772 in the UC Regional Cereal Testing program from 1987-1991 for spring planting in the intermountain region of northern California.    \n",
      "51 :  MORAVIAN 14  \n",
      "52 :  Moravian 14 is a two-rowed spring malting barley.\n",
      "53 :  It was released by Coors Brewing Company in 1991.\n",
      "54 :  It was selected\n"
     ]
    }
   ],
   "source": [
    "import spacy\n",
    "import PyPDF2\n",
    "nlp = spacy.load('en_core_web_sm')\n",
    "\n",
    "#Open PDF file for reading\n",
    "pdfFile = open(\"BarCvDescLJ11.pdf\", mode=\"rb\")\n",
    "pdfReader = PyPDF2.PdfFileReader(pdfFile)\n",
    "\n",
    "# Select a page to work on\n",
    "pageNumber = 25\n",
    "\n",
    "# Get text\n",
    "OnePage = pdfReader.getPage(pageNumber-1) #0-based count\n",
    "OnePageText = OnePage.extractText()\n",
    "\n",
    "# Close PDF file\n",
    "pdfFile.close()\n",
    "\n",
    "# Remove newlinesxmx82k-&a. It appears multiple newlines together makes\n",
    "# Spacy think that is the end of a sentence. The PDF reader reads the text in\n",
    "# an odd fashion\n",
    "OnePageText = OnePageText.replace('\\n','')\n",
    "\n",
    "# create a spaCy doc object from the page and break it into sentences\n",
    "doc = nlp(OnePageText)\n",
    "l=0\n",
    "for sent in doc.sents:\n",
    "     print(l, \": \", sent)\n",
    "     l = l+1\n"
   ]
  },
  {
   "cell_type": "markdown",
   "metadata": {},
   "source": [
    "## Read in Per-line named entity file and match entities to sentence positions."
   ]
  },
  {
   "cell_type": "code",
   "execution_count": 3,
   "metadata": {},
   "outputs": [
    {
     "name": "stdout",
     "output_type": "stream",
     "text": [
      "Handle manually:  ['4', 'Cree/4/Parkland *2/NDB112/3/Vantage//Kindred/Jotun', 'PED']\n",
      "Handle manually:  ['12', 'Crop Science 15:603 (1975)', 'JRNL']\n",
      "Handle manually:  ['22', 'Crop Science 35:1504 (1995)', 'JRNL']\n",
      "    Index                                           Sentence  \\\n",
      "0       0  25    MANKER  Manker is a six-rowed spring mal...   \n",
      "1       0  25    MANKER  Manker is a six-rowed spring mal...   \n",
      "2       0  25    MANKER  Manker is a six-rowed spring mal...   \n",
      "3       0  25    MANKER  Manker is a six-rowed spring mal...   \n",
      "4       0  25    MANKER  Manker is a six-rowed spring mal...   \n",
      "..    ...                                                ...   \n",
      "128    52  Moravian 14 is a two-rowed spring malting barley.   \n",
      "129    52  Moravian 14 is a two-rowed spring malting barley.   \n",
      "130    52  Moravian 14 is a two-rowed spring malting barley.   \n",
      "131    53  It was released by Coors Brewing Company in 1991.   \n",
      "132    53  It was released by Coors Brewing Company in 1991.   \n",
      "\n",
      "                    Phrase         MatchInfo  \n",
      "0                   Manker  (14, 20, 'CVAR')  \n",
      "1                six-rowed  (26, 35, 'TRAT')  \n",
      "2                   spring  (36, 42, 'TRAT')  \n",
      "3                  malting  (43, 50, 'TRAT')  \n",
      "4                   barley  (51, 57, 'CROP')  \n",
      "..                     ...               ...  \n",
      "128                 spring  (27, 33, 'TRAT')  \n",
      "129                malting  (34, 41, 'TRAT')  \n",
      "130                 barley  (42, 48, 'CROP')  \n",
      "131  Coors Brewing Company   (19, 40, 'ORG')  \n",
      "132                   1991  (44, 48, 'DATE')  \n",
      "\n",
      "[133 rows x 4 columns]\n"
     ]
    }
   ],
   "source": [
    "import re\n",
    "import csv\n",
    "import pandas as pd\n",
    "fname = \"Data/barley_p25_ner.txt\"\n",
    "\n",
    "# Covert the nlp senetence generator into a list of sentences\n",
    "sentences = list(doc.sents)\n",
    "\n",
    "# Open the file of manually matched pairs (sentence # <tab> word phrase <tab> named entity)\n",
    "# e.g.:\n",
    "#  0      AC Metcalfe     CVAR\n",
    "#  0      two-rowed       TRAT\n",
    "#  0      barley          CROP\n",
    "#  1      Agri-Food Candada   ORG\n",
    "#  1      1997    DATE\n",
    "file = open(fname)\n",
    "reader = csv.reader(file, delimiter='\\t', quoting=csv.QUOTE_NONE)\n",
    "data = list()\n",
    "\n",
    "for row in reader:\n",
    "    try:\n",
    "        (sentIndex, phrase, label) = row\n",
    "        sent = sentences[int(sentIndex)].string.rstrip()\n",
    "        \n",
    "        # find all instances of the 'phrase' in the 'sent'.\n",
    "        iter = re.finditer(r\"\\b\"+phrase+r\"\\b\", sent)\n",
    "        indices = [m.start(0) for m in iter]\n",
    "        \n",
    "        # check to make sure the phrase the user said was there was indeed found\n",
    "        if len(indices) == 0:\n",
    "            raise ValueError\n",
    "                \n",
    "        # print out all instances\n",
    "        for i in indices:\n",
    "#            print(sentIndex, sent, phrase, \"(\"+str(i), i+len(phrase), \"'\"+label+\"')\")\n",
    "            data.append([sentIndex, sent, phrase, \"(\"+str(i)+\", \"+str(i+len(phrase))+\", '\"+label+\"')\"])\n",
    "            \n",
    "    except:\n",
    "        print(\"Handle manually: \", row)\n",
    "        \n",
    "df = pd.DataFrame(data, columns = [\"Index\", \"Sentence\", \"Phrase\", \"MatchInfo\"])\n",
    "print(df)\n"
   ]
  },
  {
   "cell_type": "markdown",
   "metadata": {},
   "source": [
    "## Create a function to clean up overlapping intervals"
   ]
  },
  {
   "cell_type": "code",
   "execution_count": 4,
   "metadata": {},
   "outputs": [
    {
     "data": {
      "text/plain": [
       "\"(0, 12, 'CVAR'), (39, 49, 'CVAR'), (71, 77, 'CVAR'), (92, 113, 'TRAT'), (140, 150, 'CVAR'), (181, 187, 'CVAR')\""
      ]
     },
     "execution_count": 4,
     "metadata": {},
     "output_type": "execute_result"
    }
   ],
   "source": [
    "import re\n",
    "coordRegex = re.compile(r'(\\d+), (\\d+)')\n",
    "\n",
    "def sortByStart(coords):\n",
    "    \"\"\"For use in sort routines, return object with lowest (X,Y) values\"\"\"\n",
    "    # split out coordinates that come in as (5, 7, 'CVAR')\n",
    "    mo = coordRegex.search(coords)\n",
    "    return(int(mo.group(1)))\n",
    "\n",
    "def overlaps(coord1, coord2):\n",
    "    \"\"\"Check if coordinates of the form 5, 7, 'CVAR' and 32, 46, 'TRAT' overlap\"\"\"\n",
    "    mo1 = coordRegex.search(coord1)\n",
    "    mo2 = coordRegex.search(coord2)\n",
    "    coord1Low = int(mo1.group(1))\n",
    "    coord1High = int(mo1.group(2))\n",
    "    coord2Low = int(mo2.group(1))\n",
    "    coord2High = int(mo2.group(2))\n",
    "    \n",
    "    if ((coord1High >= coord2Low) and (coord1Low <= coord2Low) or\n",
    "        (coord2High >= coord1Low) and (coord2Low <= coord1Low)):\n",
    "        return True\n",
    "    else:\n",
    "        return False\n",
    "\n",
    "def keepFirst(coord1, coord2):\n",
    "    \"\"\"Given overlapping coordinates, return the wider encompassing one.\"\"\"\n",
    "    mo1 = coordRegex.search(coord1)\n",
    "    mo2 = coordRegex.search(coord2)\n",
    "    coord1Low = int(mo1.group(1))\n",
    "    coord1High = int(mo1.group(2))\n",
    "    coord2Low = int(mo2.group(1))\n",
    "    coord2High = int(mo2.group(2))\n",
    " \n",
    "    if (int(coord1High) - int(coord1Low)) >= (int(coord2High) - int(coord2Low)):\n",
    "        return True\n",
    "    else:\n",
    "        return False\n",
    "\n",
    "# print(\"Should be false:\", overlaps(\"(5, 7, 'CVAR')\", \"(32, 46, 'TRAT')\"))\n",
    "# print(\"Should be true:\", overlaps(\"(26, 46, 'TRAT')\", \"(32, 46, 'TRAT')\"))\n",
    "# print(\"Should be true:\", overlaps(\"(26, 46, 'TRAT')\", \"(26, 46, 'TRAT')\"))\n",
    "# print(\"Keeper:\", keepFirst(\"34, 46, 'TRAT'\", \"34, 46, 'TRAT'\"))\n",
    "\n",
    "def cleanIntervals(inputString=\"\"):\n",
    "    \"\"\"order intervals like (5, 7, 'CVAR'), (32, 46, 'TRAT'), (26, 46, 'TRAT') and remove overlapping ones.\"\"\"\n",
    "    inputString = inputString.lstrip(\"(\").rstrip(\")\")\n",
    "    intervalList = inputString.split(\"), (\")\n",
    "    intervalList.sort(key = sortByStart)\n",
    "#    print(\"Sorted Interval List:\", intervalList)\n",
    "\n",
    "    # Pairwise compare every interval in the list to every other interval to check overlap\n",
    "    keeperList = [True]*len(intervalList) # Logic array to determine if each interval should be kept\n",
    "    i=0\n",
    "    for interval1 in intervalList:\n",
    "        for interval2 in intervalList:\n",
    "            if interval1 == interval2:\n",
    "                if intervalList.index(interval1) != i: # when both are the same we reject the higher one\n",
    "                    keeperList[i] = False\n",
    "            else:\n",
    "                if overlaps(interval1, interval2) and keepFirst(interval1, interval2) == False:\n",
    "                    keeperList[i] = False\n",
    "        i = i+1\n",
    "        \n",
    "#    print(\"keeperList:\", keeperList)\n",
    "   \n",
    "    # Build up the return interval list\n",
    "    returnStr = \"(\"\n",
    "    for interval, isKeeper in zip(intervalList, keeperList):\n",
    "        if isKeeper:\n",
    "            returnStr = returnStr + interval + \"), (\"\n",
    "    return (returnStr.rstrip(\"), (\") + \")\")\n",
    "        \n",
    "# cleanIntervals(\"(5, 7, 'CVAR'), (32, 46, 'TRAT'), (5, 9, 'CVAR'), (48, 55, 'ORG'), (26, 46, 'TRAT')\")\n",
    "# cleanIntervals(\"(0, 8, 'CVAR'), (0, 5, 'CVAR'), (21, 26, 'PLAN'), (32, 37, 'CVAR')\")\n",
    "cleanIntervals(\"(0, 12, 'CVAR'), (39, 49, 'CVAR'), (39, 49, 'CVAR'), (71, 77, 'CVAR'), (71, 77, 'CVAR'), (92, 113, 'TRAT'), (140, 150, 'CVAR'), (140, 150, 'CVAR'), (181, 187, 'CVAR'), (181, 187, 'CVAR')\")\n"
   ]
  },
  {
   "cell_type": "markdown",
   "metadata": {},
   "source": [
    "## Aggregate all matches for each sentence on a single line and output in spaCy training format"
   ]
  },
  {
   "cell_type": "code",
   "execution_count": 5,
   "metadata": {
    "scrolled": false
   },
   "outputs": [
    {
     "name": "stdout",
     "output_type": "stream",
     "text": [
      "    ('25    MANKER  Manker is a six-rowed spring malting barley.', {'entities': [(14, 20, 'CVAR'), (26, 35, 'TRAT'), (36, 42, 'TRAT'), (43, 50, 'TRAT'), (51, 57, 'CROP')]}),\n",
      "    ('It was released by the Minnesota AES in 1974.', {'entities': [(23, 36, 'ORG'), (40, 44, 'DATE')]}),\n",
      "    ('At the time of release it was resistant to stem rust and spot blotch.', {'entities': [(30, 39, 'PPTD'), (43, 52, 'PATH'), (57, 68, 'PATH')]}),\n",
      "    ('Crop Science 15:603 (1975)    MARANNA  Maranna is a six-rowed spring feed barley.', {'entities': [(39, 46, 'CVAR'), (52, 61, 'TRAT'), (62, 68, 'TRAT'), (69, 73, 'TRAT'), (74, 80, 'CROP')]}),\n",
      "    ('It was released by the Oregon, Idaho, and Washington AESs in 1993.', {'entities': [(23, 57, 'ORG'), (61, 65, 'DATE')]}),\n",
      "    ('It was selected from the cross OSB74133/M33.', {'entities': [(31, 43, 'PED')]}),\n",
      "    ('Its experimental designation was ORS-2.', {'entities': [(33, 38, 'ALAS')]}),\n",
      "    ('It has very high yield potential under irrigated or high rainfall conditions with high inputs.', {'entities': [(17, 32, 'TRAT')]}),\n",
      "    ('It is several days later in heading than Steptoe, short statured (average height of 68 cm), and resistant to lodging.', {'entities': [(28, 35, 'TRAT'), (41, 48, 'CVAR'), (56, 64, 'TRAT'), (109, 116, 'TRAT')]}),\n",
      "    ('It has smooth awns and white aleurone.', {'entities': [(14, 18, 'PLAN'), (29, 37, 'PLAN')]}),\n",
      "    ('Spikes are semi-lax.', {'entities': [(0, 6, 'PLAN')]}),\n",
      "    ('At the time of release it was susceptible to stripe rust and to the Russian wheat aphid.', {'entities': [(30, 41, 'PPTD'), (45, 56, 'PATH'), (68, 87, 'PATH')]}),\n",
      "    ('MAX  Max is a six-rowed spring feed barley.', {'entities': [(5, 8, 'CVAR'), (14, 23, 'TRAT'), (24, 30, 'TRAT'), (31, 35, 'TRAT'), (36, 42, 'CROP')]}),\n",
      "    ('It was released by Farmers Marketing Corporation in 1992 and is distributed by World Wide Wheat.', {'entities': [(19, 48, 'ORG'), (52, 56, 'DATE'), (79, 95, 'ORG')]}),\n",
      "    ('Its experimental designation was FMC 7024.', {'entities': [(33, 41, 'ALAS')]}),\n",
      "    ('It is late maturing with short stature and fair lodging resistance.', {'entities': [(11, 19, 'TRAT'), (31, 38, 'TRAT'), (48, 66, 'TRAT')]}),\n",
      "    ('At the time of evaluation it was resistant to BYD, moderately susceptible to leaf rust and susceptible to scald, powdery mildew, net blotch and stripe rust.', {'entities': [(33, 42, 'PPTD'), (46, 49, 'PATH'), (51, 73, 'PPTD'), (77, 86, 'PATH'), (91, 102, 'PPTD'), (106, 111, 'PATH'), (113, 127, 'PATH'), (129, 139, 'PATH'), (144, 155, 'PATH')]}),\n",
      "    ('MENTOR  Mentor is a two-rowed spring malting barley.', {'entities': [(8, 14, 'CVAR'), (20, 29, 'TRAT'), (30, 36, 'TRAT'), (37, 44, 'TRAT'), (45, 51, 'CROP')]}),\n",
      "    ('It was received for testing from Lynn Gallagher, UC Davis, in 1999.', {'entities': [(49, 57, 'ORG'), (62, 66, 'DATE')]}),\n",
      "    ('It is late maturing and has medium plant height and fair to poor straw strength.', {'entities': [(11, 19, 'TRAT'), (35, 47, 'TRAT'), (65, 79, 'TRAT')]}),\n",
      "    ('At the time of evaluation it was moderately susceptible to BYD.', {'entities': [(33, 55, 'PPTD'), (59, 62, 'PATH')]}),\n",
      "    ('MENUET  Menuet is a two-rowed spring feed barley.', {'entities': [(8, 14, 'CVAR'), (20, 29, 'TRAT'), (30, 36, 'TRAT'), (37, 41, 'TRAT'), (42, 48, 'CROP')]}),\n",
      "    ('It was developed by CENEX, Oregon.', {'entities': [(20, 33, 'ORG')]}),\n",
      "    ('It is medium maturing (heads about 7 days later than Steptoe, similar to Clark) and medium height (it averages about 3 inches shorter than Steptoe or Klages under irrigated conditions) and has fair straw strength (less lodging than Klages).', {'entities': [(13, 21, 'TRAT'), (23, 28, 'TRAT'), (53, 60, 'CVAR'), (73, 78, 'CVAR'), (91, 97, 'TRAT'), (139, 146, 'CVAR'), (150, 156, 'CVAR'), (198, 212, 'TRAT'), (219, 226, 'TRAT'), (232, 238, 'CVAR')]}),\n",
      "    ('It has high test weight.', {'entities': [(12, 23, 'TRAT')]}),\n",
      "    ('At the time of evaluation it was resistant to leaf rust and susceptible to scald and BYD.', {'entities': [(33, 42, 'PPTD'), (46, 55, 'PATH'), (60, 71, 'PPTD'), (75, 80, 'PATH'), (85, 88, 'PATH')]}),\n",
      "    ('MERIT  Merit is a two-rowed spring malting barley.', {'entities': [(7, 12, 'CVAR'), (18, 27, 'TRAT'), (28, 34, 'TRAT'), (35, 42, 'TRAT'), (43, 49, 'CROP')]}),\n",
      "    ('It was released by Busch Agricultural Resources.', {'entities': [(19, 47, 'ORG')]}),\n",
      "    ('It was selected from the cross Manley/2B80-350.', {'entities': [(31, 46, 'PED')]}),\n",
      "    ('Its experimental designation was BA 2B91-4947.', {'entities': [(33, 45, 'ALAS')]}),\n",
      "    ('It is medium late maturing, mid-tall and has poor straw strength.', {'entities': [(18, 26, 'TRAT'), (28, 36, 'TRAT'), (50, 64, 'TRAT')]}),\n",
      "    ('At the time of evaluation it was resistant to net blotch and leaf rust, moderately resistant to BYD, and susceptible to scald and stripe rust.', {'entities': [(33, 42, 'PPTD'), (46, 56, 'PATH'), (61, 70, 'PATH'), (72, 92, 'PPTD'), (96, 99, 'PATH'), (105, 116, 'PPTD'), (120, 125, 'PATH'), (130, 141, 'PATH')]}),\n",
      "    ('MICAH  Micah is a six-rowed spring feed barley.', {'entities': [(7, 12, 'CVAR'), (18, 27, 'TRAT'), (28, 34, 'TRAT'), (35, 39, 'TRAT'), (40, 46, 'CROP')]}),\n",
      "    ('It is late maturing, short, and has fair straw strength.', {'entities': [(11, 19, 'TRAT'), (21, 26, 'TRAT'), (41, 55, 'TRAT')]}),\n",
      "    ('It is medium-early maturing, mid-tall, and has moderately strong straw.', {'entities': [(19, 27, 'TRAT'), (29, 37, 'TRAT'), (65, 70, 'PLAN')]}),\n",
      "    ('Moravian 14 is a two-rowed spring malting barley.', {'entities': [(0, 11, 'CVAR'), (17, 26, 'TRAT'), (27, 33, 'TRAT'), (34, 41, 'TRAT'), (42, 48, 'CROP')]}),\n",
      "    ('It was released by Coors Brewing Company in 1991.', {'entities': [(19, 40, 'ORG'), (44, 48, 'DATE')]}),\n",
      "    ('Spikes are rough-awned, medium-lax, long and semi-erect.', {'entities': [(0, 6, 'PLAN')]}),\n",
      "    ('Kernels are covered, medium sized with short-haired rachilla and white aleurone.', {'entities': [(0, 7, 'PLAN'), (52, 60, 'PLAN'), (71, 79, 'PLAN')]}),\n",
      "    ('It has more kernels per spike, fewer tillers and lower tiller mortality than Larker.', {'entities': [(12, 19, 'PLAN'), (24, 29, 'PLAN'), (37, 44, 'PLAN'), (55, 71, 'TRAT'), (77, 83, 'CVAR')]}),\n"
     ]
    }
   ],
   "source": [
    "# use Pandas dataframes to aggregate all entity matches together for a single sentence\n",
    "agg_rules = {'Sentence': 'first', 'Phrase': 'first', 'MatchInfo': lambda x: ', '.join(x)}\n",
    "res = df.groupby('Index').agg(agg_rules)\n",
    "#print(res)\n",
    "\n",
    "# Now format it just like what is needed for the spaCy training module: \n",
    "# E.g.:\n",
    "# ('Eight-Twelve is a six-rowed winter feed barley', {'entities': [(0, 12, 'CVAR'), (18, 27, 'TRAT'), (28, 39, 'TRAT'),(40, 46, 'CROP')]}),\n",
    "records = res.to_dict('records')\n",
    "for i in range(0,len(records)):\n",
    "    print(\"    ('\"+records[i]['Sentence']+\"', {'entities': [\"+cleanIntervals(records[i]['MatchInfo'])+\"]}),\")\n",
    "    #print(\"    ('\"+records[i]['Sentence']+\"', {'entities': [\"+records[i]['MatchInfo']+\"]}),\")\n"
   ]
  }
 ],
 "metadata": {
  "kernelspec": {
   "display_name": "Python 3",
   "language": "python",
   "name": "python3"
  },
  "language_info": {
   "codemirror_mode": {
    "name": "ipython",
    "version": 3
   },
   "file_extension": ".py",
   "mimetype": "text/x-python",
   "name": "python",
   "nbconvert_exporter": "python",
   "pygments_lexer": "ipython3",
   "version": "3.6.9"
  }
 },
 "nbformat": 4,
 "nbformat_minor": 2
}
