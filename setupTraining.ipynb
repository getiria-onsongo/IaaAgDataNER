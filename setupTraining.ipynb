{
 "cells": [
  {
   "cell_type": "markdown",
   "metadata": {},
   "source": [
    "# Generate Training Data"
   ]
  },
  {
   "cell_type": "markdown",
   "metadata": {},
   "source": [
    "We wish to speed up the process of having a human being name entities that they recognize in a paragraph, and having their positions in the paragraph identified and placed in a syntax usable by spaCy's NER training routine."
   ]
  },
  {
   "cell_type": "markdown",
   "metadata": {},
   "source": [
    "## Open PDF file, extract page two and display as sentences"
   ]
  },
  {
   "cell_type": "code",
   "execution_count": 11,
   "metadata": {
    "scrolled": false
   },
   "outputs": [
    {
     "name": "stdout",
     "output_type": "stream",
     "text": [
      "0 :  producing well in irrigated southern Idaho conditions.\n",
      "1 :  In southern Idaho, Lenetah has average yield, test weight and plump, slightly earlier than average heading date and is two inches taller in height.\n",
      "2 :  Lenetah yields and lodging are similar Champion.\n",
      "3 :  Millennium (UT004603)  a six-row spring feed barley released in 2000 through Utah AES, Millennium does very well under irrigation, and has been in the top-yielding groups under dryland conditions when moisture was adequate.\n",
      "4 :  Millennium also has excellent straw strength, showing minimal lodging even under high-yield conditions.\n",
      "5 :  Millennium is of average height and protein for six-rowed varieties, and taller than two-rowed lines.\n",
      "6 :  Millennium has lower test weight and plump, and heads several days earlier than average.\n",
      "7 :  Millennium is susceptible to FHB and will accumulate high levels of DON.\n",
      "8 :  Oreana  (BZ509-448)  a two-rowed feed barley originally developed through WestBred, Oreana is carried by Highland Specialty Grains.\n",
      "9 :  In three-year data averages (Table 57), Oreana had good test weight, excellent yields similar to Millennium and Altorado, and was 4-5 inches shorter than average.\n",
      "10 :  Oreana showed intermediate reaction to FHB and showed higher levels of DON accumulated in the seed.\n",
      "11 :  Xena (BZ594-19)  a two-rowed spring feed barley released by Western Plant Breeders that is now handled by Highland Specialty Grain.\n",
      "12 :  Xena has had very high yields over the locations tested from 2010-2019, similar to Champion.\n",
      "13 :  Xena is of average height and straw strength.\n",
      "14 :  Test weight tends to be slightly higher than average, but less than Champion.\n",
      "15 :  Xena has shown low FHB disease and lower DON levels.\n",
      "16 :  WINTER BARLEY  Malt, Feed, Food Buck  Buck\n",
      "17 :  (09-OR-86)  \n",
      "18 :  Oregon State University hulless, six-rowed winter food  barley with intermediate levels of beta-glucan content in the seed, developed for human consumption and the heart-healthy food campaign.\n",
      "19 :  Buck is genetically related to #STRKR with better threshability.\n",
      "20 :  Buck yields are low if compared to hulled varieties, but yield is still high with a very high test weight (60.3 lbs/bu) due to the hulless seed trait (Table 26).\n",
      "21 :  In 2019, Buck yields (111 bu/A) and spring stand were low compared to Charles and other trial entries (Table 27).\n",
      "22 :  Buck is awned and can be used as food, feed or malt.\n",
      "23 :  Plumps are low.\n",
      "24 :  Charles (94Ab1274)  Charles is the first AMBA approved two-rowed winter malt variety released by the USDA-ARS and the IAES in 2005.\n",
      "25 :  Charles yields and test weights are lower than the winter variety average (Table 26, 27, Chart 5).\n",
      "26 :  Charles is shorter than the average, earlier maturing and has a tendency to lodge.\n",
      "27 :  Charles has good plumps and yields very well in the Twin Falls area, even when harsh winter conditions reduce stand.\n",
      "28 :  Both Charles and Endeavor can suffer significant stand losses under cold, dry winter conditions.  \n",
      "29 :  Eight-Twelve  \n",
      "30 :  a six-rowed winter feed barley released by the USDA-ARS and the Idaho AES in 1991.\n",
      "31 :  Eight-Twelve yields averaged 137 bu/A under irrigation in 2016-2019 (Table 26).\n",
      "32 :  Eight-Twelve has good winter survival but will lodge under high production conditions.\n",
      "33 :  Endeavor (95Ab2299)  \n",
      "34 :  Endeavor is the second two-rowed winter malt variety released by the USDA-ARS and the Idaho AES approved by AMBA for malt quality.\n",
      "35 :  Released in 2008, Endeavor has improved malt quality and yield over Charles,\n"
     ]
    }
   ],
   "source": [
    "import spacy\n",
    "import PyPDF2\n",
    "nlp = spacy.load('en_core_web_sm')\n",
    "\n",
    "#Open PDF file for reading\n",
    "# pdfFile = open(\"BarCvDescLJ11.pdf\", mode=\"rb\")\n",
    "pdfFile = open(\"Data/UIdaho2019/small-grains-report_2019.pdf\", mode=\"rb\")\n",
    "pdfReader = PyPDF2.PdfFileReader(pdfFile)\n",
    "\n",
    "# Select a page to work on\n",
    "pageNumber = 46\n",
    "\n",
    "# Get text\n",
    "OnePage = pdfReader.getPage(pageNumber-1) #0-based count\n",
    "OnePageText = OnePage.extractText()\n",
    "\n",
    "# Close PDF file\n",
    "pdfFile.close()\n",
    "\n",
    "# Remove newlinesxmx82k-&a. It appears multiple newlines together makes\n",
    "# Spacy think that is the end of a sentence. The PDF reader reads the text in\n",
    "# an odd fashion\n",
    "OnePageText = OnePageText.replace('\\n','')\n",
    "\n",
    "# create a spaCy doc object from the page and break it into sentences\n",
    "doc = nlp(OnePageText)\n",
    "l=0\n",
    "for sent in doc.sents:\n",
    "     print(l, \": \", sent)\n",
    "     l = l+1\n"
   ]
  },
  {
   "cell_type": "markdown",
   "metadata": {},
   "source": [
    "## Read in Per-line named entity file and match entities to sentence positions."
   ]
  },
  {
   "cell_type": "code",
   "execution_count": 13,
   "metadata": {},
   "outputs": [
    {
     "name": "stdout",
     "output_type": "stream",
     "text": [
      "    Index                                           Sentence        Phrase  \\\n",
      "0       1  In southern Idaho, Lenetah has average yield, ...         Idaho   \n",
      "1       1  In southern Idaho, Lenetah has average yield, ...       Lenetah   \n",
      "2       1  In southern Idaho, Lenetah has average yield, ...         yield   \n",
      "3       1  In southern Idaho, Lenetah has average yield, ...   test weight   \n",
      "4       1  In southern Idaho, Lenetah has average yield, ...         plump   \n",
      "..    ...                                                ...           ...   \n",
      "134    35  Released in 2008, Endeavor has improved malt q...          2008   \n",
      "135    35  Released in 2008, Endeavor has improved malt q...      Endeavor   \n",
      "136    35  Released in 2008, Endeavor has improved malt q...  malt quality   \n",
      "137    35  Released in 2008, Endeavor has improved malt q...         yield   \n",
      "138    35  Released in 2008, Endeavor has improved malt q...       Charles   \n",
      "\n",
      "            MatchInfo  \n",
      "0     (12, 17, 'GPE')  \n",
      "1    (19, 26, 'CVAR')  \n",
      "2    (39, 44, 'TRAT')  \n",
      "3    (46, 57, 'TRAT')  \n",
      "4    (62, 67, 'TRAT')  \n",
      "..                ...  \n",
      "134  (12, 16, 'DATE')  \n",
      "135  (18, 26, 'CVAR')  \n",
      "136  (40, 52, 'TRAT')  \n",
      "137  (57, 62, 'TRAT')  \n",
      "138  (68, 75, 'CVAR')  \n",
      "\n",
      "[139 rows x 4 columns]\n"
     ]
    }
   ],
   "source": [
    "import re\n",
    "import csv\n",
    "import pandas as pd\n",
    "\n",
    "#fname = \"Data/DavisLJ11/barley_p\"+str(pageNumber)+\"_ner.txt\"\n",
    "fname = \"Data/UIdaho2019/barley_p\"+str(pageNumber-40)+\"_ner.txt\" # Note p1 = 41 in the document\n",
    "\n",
    "# Covert the nlp senetence generator into a list of sentences\n",
    "sentences = list(doc.sents)\n",
    "\n",
    "# Open the file of manually matched pairs (sentence # <tab> word phrase <tab> named entity)\n",
    "# e.g.:\n",
    "#  0      AC Metcalfe     CVAR\n",
    "#  0      two-rowed       TRAT\n",
    "#  0      barley          CROP\n",
    "#  1      Agri-Food Candada   ORG\n",
    "#  1      1997    DATE\n",
    "file = open(fname)\n",
    "reader = csv.reader(file, delimiter='\\t', quoting=csv.QUOTE_NONE)\n",
    "data = list()\n",
    "\n",
    "for row in reader:\n",
    "    try:\n",
    "        (sentIndex, phrase, label) = row\n",
    "        sent = sentences[int(sentIndex)].string.rstrip()\n",
    "        \n",
    "        # find all instances of the 'phrase' in the 'sent'.\n",
    "        iter = re.finditer(r\"\\b\"+phrase+r\"\\b\", sent)\n",
    "        indices = [m.start(0) for m in iter]\n",
    "        \n",
    "        # check to make sure the phrase the user said was there was indeed found\n",
    "        if len(indices) == 0:\n",
    "            raise ValueError\n",
    "                \n",
    "        # print out all instances\n",
    "        for i in indices:\n",
    "#            print(sentIndex, sent, phrase, \"(\"+str(i), i+len(phrase), \"'\"+label+\"')\")\n",
    "            data.append([sentIndex, sent, phrase, \"(\"+str(i)+\", \"+str(i+len(phrase))+\", '\"+label+\"')\"])\n",
    "            \n",
    "    except:\n",
    "        print(\"Handle manually: \", row)\n",
    "        \n",
    "df = pd.DataFrame(data, columns = [\"Index\", \"Sentence\", \"Phrase\", \"MatchInfo\"])\n",
    "print(df)\n"
   ]
  },
  {
   "cell_type": "markdown",
   "metadata": {},
   "source": [
    "## Create a function to clean up overlapping intervals"
   ]
  },
  {
   "cell_type": "code",
   "execution_count": 14,
   "metadata": {},
   "outputs": [
    {
     "data": {
      "text/plain": [
       "\"(0, 12, 'CVAR'), (39, 49, 'CVAR'), (71, 77, 'CVAR'), (92, 113, 'TRAT'), (140, 150, 'CVAR'), (181, 187, 'CVAR')\""
      ]
     },
     "execution_count": 14,
     "metadata": {},
     "output_type": "execute_result"
    }
   ],
   "source": [
    "import re\n",
    "coordRegex = re.compile(r'(\\d+), (\\d+)')\n",
    "\n",
    "def sortByStart(coords):\n",
    "    \"\"\"For use in sort routines, return object with lowest (X,Y) values\"\"\"\n",
    "    # split out coordinates that come in as (5, 7, 'CVAR')\n",
    "    mo = coordRegex.search(coords)\n",
    "    return(int(mo.group(1)))\n",
    "\n",
    "def overlaps(coord1, coord2):\n",
    "    \"\"\"Check if coordinates of the form 5, 7, 'CVAR' and 32, 46, 'TRAT' overlap\"\"\"\n",
    "    mo1 = coordRegex.search(coord1)\n",
    "    mo2 = coordRegex.search(coord2)\n",
    "    coord1Low = int(mo1.group(1))\n",
    "    coord1High = int(mo1.group(2))\n",
    "    coord2Low = int(mo2.group(1))\n",
    "    coord2High = int(mo2.group(2))\n",
    "    \n",
    "    if ((coord1High >= coord2Low) and (coord1Low <= coord2Low) or\n",
    "        (coord2High >= coord1Low) and (coord2Low <= coord1Low)):\n",
    "        return True\n",
    "    else:\n",
    "        return False\n",
    "\n",
    "def keepFirst(coord1, coord2):\n",
    "    \"\"\"Given overlapping coordinates, return the wider encompassing one.\"\"\"\n",
    "    mo1 = coordRegex.search(coord1)\n",
    "    mo2 = coordRegex.search(coord2)\n",
    "    coord1Low = int(mo1.group(1))\n",
    "    coord1High = int(mo1.group(2))\n",
    "    coord2Low = int(mo2.group(1))\n",
    "    coord2High = int(mo2.group(2))\n",
    " \n",
    "    if (int(coord1High) - int(coord1Low)) >= (int(coord2High) - int(coord2Low)):\n",
    "        return True\n",
    "    else:\n",
    "        return False\n",
    "\n",
    "# print(\"Should be false:\", overlaps(\"(5, 7, 'CVAR')\", \"(32, 46, 'TRAT')\"))\n",
    "# print(\"Should be true:\", overlaps(\"(26, 46, 'TRAT')\", \"(32, 46, 'TRAT')\"))\n",
    "# print(\"Should be true:\", overlaps(\"(26, 46, 'TRAT')\", \"(26, 46, 'TRAT')\"))\n",
    "# print(\"Keeper:\", keepFirst(\"34, 46, 'TRAT'\", \"34, 46, 'TRAT'\"))\n",
    "\n",
    "def cleanIntervals(inputString=\"\"):\n",
    "    \"\"\"order intervals like (5, 7, 'CVAR'), (32, 46, 'TRAT'), (26, 46, 'TRAT') and remove overlapping ones.\"\"\"\n",
    "    inputString = inputString.lstrip(\"(\").rstrip(\")\")\n",
    "    intervalList = inputString.split(\"), (\")\n",
    "    intervalList.sort(key = sortByStart)\n",
    "#    print(\"Sorted Interval List:\", intervalList)\n",
    "\n",
    "    # Pairwise compare every interval in the list to every other interval to check overlap\n",
    "    keeperList = [True]*len(intervalList) # Logic array to determine if each interval should be kept\n",
    "    i=0\n",
    "    for interval1 in intervalList:\n",
    "        for interval2 in intervalList:\n",
    "            if interval1 == interval2:\n",
    "                if intervalList.index(interval1) != i: # when both are the same we reject the higher one\n",
    "                    keeperList[i] = False\n",
    "            else:\n",
    "                if overlaps(interval1, interval2) and keepFirst(interval1, interval2) == False:\n",
    "                    keeperList[i] = False\n",
    "        i = i+1\n",
    "        \n",
    "#    print(\"keeperList:\", keeperList)\n",
    "   \n",
    "    # Build up the return interval list\n",
    "    returnStr = \"(\"\n",
    "    for interval, isKeeper in zip(intervalList, keeperList):\n",
    "        if isKeeper:\n",
    "            returnStr = returnStr + interval + \"), (\"\n",
    "    return (returnStr.rstrip(\"), (\") + \")\")\n",
    "        \n",
    "# cleanIntervals(\"(5, 7, 'CVAR'), (32, 46, 'TRAT'), (5, 9, 'CVAR'), (48, 55, 'ORG'), (26, 46, 'TRAT')\")\n",
    "# cleanIntervals(\"(0, 8, 'CVAR'), (0, 5, 'CVAR'), (21, 26, 'PLAN'), (32, 37, 'CVAR')\")\n",
    "cleanIntervals(\"(0, 12, 'CVAR'), (39, 49, 'CVAR'), (39, 49, 'CVAR'), (71, 77, 'CVAR'), (71, 77, 'CVAR'), (92, 113, 'TRAT'), (140, 150, 'CVAR'), (140, 150, 'CVAR'), (181, 187, 'CVAR'), (181, 187, 'CVAR')\")\n"
   ]
  },
  {
   "cell_type": "markdown",
   "metadata": {},
   "source": [
    "## Aggregate all matches for each sentence on a single line and output in spaCy training format"
   ]
  },
  {
   "cell_type": "code",
   "execution_count": 15,
   "metadata": {
    "scrolled": false
   },
   "outputs": [
    {
     "name": "stdout",
     "output_type": "stream",
     "text": [
      "TRAIN_DATA = [\n",
      "    ('In southern Idaho, Lenetah has average yield, test weight and plump, slightly earlier than average heading date and is two inches taller in height.', {'entities': [(12, 17, 'GPE'), (19, 26, 'CVAR'), (39, 44, 'TRAT'), (46, 57, 'TRAT'), (62, 67, 'TRAT'), (99, 111, 'TRAT'), (140, 146, 'TRAT')]}),\n",
      "    ('Oreana showed intermediate reaction to FHB and showed higher levels of DON accumulated in the seed.', {'entities': [(0, 6, 'CVAR'), (14, 35, 'PPTD'), (39, 42, 'PATH'), (61, 98, 'TRAT')]}),\n",
      "    ('Xena (BZ594-19)  a two-rowed spring feed barley released by Western Plant Breeders that is now handled by Highland Specialty Grain.', {'entities': [(0, 4, 'CVAR'), (6, 14, 'ALAS'), (19, 28, 'TRAT'), (29, 35, 'TRAT'), (36, 40, 'TRAT'), (41, 47, 'CROP'), (60, 82, 'ORG'), (106, 130, 'ORG')]}),\n",
      "    ('Xena has had very high yields over the locations tested from 2010-2019, similar to Champion.', {'entities': [(0, 4, 'CVAR'), (23, 29, 'TRAT'), (61, 65, 'DATE'), (66, 70, 'DATE'), (83, 91, 'CVAR')]}),\n",
      "    ('Xena is of average height and straw strength.', {'entities': [(0, 4, 'CVAR'), (19, 25, 'TRAT'), (30, 44, 'TRAT')]}),\n",
      "    ('Test weight tends to be slightly higher than average, but less than Champion.', {'entities': [(0, 11, 'TRAT'), (68, 76, 'CVAR')]}),\n",
      "    ('Xena has shown low FHB disease and lower DON levels.', {'entities': [(0, 4, 'CVAR'), (19, 22, 'PATH'), (41, 51, 'TRAT')]}),\n",
      "    ('Lenetah yields and lodging are similar Champion.', {'entities': [(0, 7, 'CVAR'), (8, 14, 'TRAT'), (19, 26, 'TRAT'), (39, 47, 'CVAR')]}),\n",
      "    ('Buck yields are low if compared to hulled varieties, but yield is still high with a very high test weight (60.3 lbs/bu) due to the hulless seed trait (Table 26).', {'entities': [(0, 4, 'CVAR'), (5, 11, 'TRAT'), (35, 41, 'TRAT'), (57, 62, 'TRAT'), (94, 105, 'TRAT'), (139, 143, 'PLAN')]}),\n",
      "    ('Buck is awned and can be used as food, feed or malt.', {'entities': [(8, 13, 'PLAN'), (33, 37, 'TRAT'), (39, 43, 'TRAT'), (47, 51, 'TRAT')]}),\n",
      "    ('Plumps are low.', {'entities': [(0, 6, 'TRAT')]}),\n",
      "    ('Charles (94Ab1274)  Charles is the first AMBA approved two-rowed winter malt variety released by the USDA-ARS and the IAES in 2005.', {'entities': [(0, 7, 'CVAR'), (9, 17, 'ALAS'), (20, 27, 'CVAR'), (41, 45, 'ORG'), (55, 64, 'TRAT'), (65, 71, 'TRAT'), (72, 76, 'TRAT'), (101, 109, 'ORG'), (118, 122, 'ORG'), (126, 130, 'DATE')]}),\n",
      "    ('Charles yields and test weights are lower than the winter variety average (Table 26, 27, Chart 5).', {'entities': [(0, 7, 'CVAR'), (8, 14, 'TRAT'), (19, 31, 'TRAT')]}),\n",
      "    ('Charles is shorter than the average, earlier maturing and has a tendency to lodge.', {'entities': [(0, 7, 'CVAR'), (11, 18, 'TRAT'), (45, 53, 'TRAT'), (76, 81, 'TRAT')]}),\n",
      "    ('Charles has good plumps and yields very well in the Twin Falls area, even when harsh winter conditions reduce stand.', {'entities': [(0, 7, 'CVAR'), (17, 23, 'TRAT'), (28, 34, 'TRAT')]}),\n",
      "    ('Millennium (UT004603)  a six-row spring feed barley released in 2000 through Utah AES, Millennium does very well under irrigation, and has been in the top-yielding groups under dryland conditions when moisture was adequate.', {'entities': [(0, 10, 'CVAR'), (12, 20, 'ALAS'), (25, 32, 'TRAT'), (33, 39, 'TRAT'), (40, 44, 'TRAT'), (45, 51, 'CROP'), (64, 68, 'DATE'), (77, 85, 'ORG'), (87, 97, 'CVAR')]}),\n",
      "    ('a six-rowed winter feed barley released by the USDA-ARS and the Idaho AES in 1991.', {'entities': [(2, 11, 'TRAT'), (12, 18, 'TRAT'), (19, 23, 'TRAT'), (24, 30, 'CROP'), (47, 55, 'ORG'), (64, 73, 'ORG'), (77, 81, 'DATE')]}),\n",
      "    ('Eight-Twelve yields averaged 137 bu/A under irrigation in 2016-2019 (Table 26).', {'entities': [(0, 12, 'CVAR'), (13, 19, 'TRAT'), (58, 62, 'DATE'), (63, 67, 'DATE')]}),\n",
      "    ('Eight-Twelve has good winter survival but will lodge under high production conditions.', {'entities': [(0, 12, 'CVAR'), (22, 37, 'TRAT'), (47, 52, 'TRAT')]}),\n",
      "    ('Endeavor (95Ab2299)', {'entities': [(0, 8, 'CVAR'), (10, 18, 'ALAS')]}),\n",
      "    ('Endeavor is the second two-rowed winter malt variety released by the USDA-ARS and the Idaho AES approved by AMBA for malt quality.', {'entities': [(0, 8, 'CVAR'), (23, 32, 'TRAT'), (33, 39, 'TRAT'), (40, 44, 'TRAT'), (69, 77, 'ORG'), (86, 95, 'ORG'), (108, 112, 'ORG'), (117, 129, 'TRAT')]}),\n",
      "    ('Released in 2008, Endeavor has improved malt quality and yield over Charles,', {'entities': [(12, 16, 'DATE'), (18, 26, 'CVAR'), (40, 52, 'TRAT'), (57, 62, 'TRAT'), (68, 75, 'CVAR')]}),\n",
      "    ('Millennium also has excellent straw strength, showing minimal lodging even under high-yield conditions.', {'entities': [(0, 10, 'CVAR'), (30, 44, 'TRAT'), (62, 69, 'TRAT')]}),\n",
      "    ('Millennium is of average height and protein for six-rowed varieties, and taller than two-rowed lines.', {'entities': [(0, 10, 'CVAR'), (25, 31, 'TRAT'), (36, 43, 'TRAT'), (48, 57, 'TRAT'), (73, 79, 'TRAT'), (85, 94, 'TRAT')]}),\n",
      "    ('Millennium has lower test weight and plump, and heads several days earlier than average.', {'entities': [(0, 10, 'CVAR'), (21, 32, 'TRAT'), (37, 42, 'TRAT'), (48, 53, 'TRAT')]}),\n",
      "    ('Millennium is susceptible to FHB and will accumulate high levels of DON.', {'entities': [(0, 10, 'CVAR'), (14, 25, 'PPTD'), (29, 32, 'PATH'), (58, 71, 'TRAT')]}),\n",
      "    ('Oreana  (BZ509-448)  a two-rowed feed barley originally developed through WestBred, Oreana is carried by Highland Specialty Grains.', {'entities': [(0, 6, 'CVAR'), (9, 18, 'ALAS'), (23, 32, 'TRAT'), (33, 37, 'TRAT'), (38, 44, 'CROP'), (74, 82, 'ORG'), (84, 90, 'CVAR'), (105, 130, 'ORG')]}),\n",
      "    ('In three-year data averages (Table 57), Oreana had good test weight, excellent yields similar to Millennium and Altorado, and was 4-5 inches shorter than average.', {'entities': [(40, 46, 'CVAR'), (56, 67, 'TRAT'), (79, 85, 'TRAT'), (97, 107, 'CVAR'), (112, 120, 'CVAR'), (141, 148, 'TRAT')]})\n",
      "]\n"
     ]
    }
   ],
   "source": [
    "# use Pandas dataframes to aggregate all entity matches together for a single sentence\n",
    "agg_rules = {'Sentence': 'first', 'Phrase': 'first', 'MatchInfo': lambda x: ', '.join(x)}\n",
    "res = df.groupby('Index').agg(agg_rules)\n",
    "#print(res)\n",
    "\n",
    "# Now format it just like what is needed for the spaCy training module: \n",
    "# E.g.:\n",
    "# ('Eight-Twelve is a six-rowed winter feed barley', {'entities': [(0, 12, 'CVAR'), (18, 27, 'TRAT'), (28, 39, 'TRAT'),(40, 46, 'CROP')]}),\n",
    "records = res.to_dict('records')\n",
    "print(\"TRAIN_DATA = [\")\n",
    "maxr = len(records)\n",
    "for i in range(0,maxr):\n",
    "    print(\"    ('\"+records[i]['Sentence']+\"', {'entities': [\"+cleanIntervals(records[i]['MatchInfo'])+\"]})\", end='')\n",
    "    if (i == maxr-1):\n",
    "        print()\n",
    "    else:\n",
    "        print(\",\")\n",
    "\n",
    "print(\"]\")"
   ]
  },
  {
   "cell_type": "markdown",
   "metadata": {},
   "source": [
    "In my current process, I am writing the above content to a file e.g., `Data/DavisLJ11/barley_p5_td.py`, adding any manual corrections (usually PED and JRNL entries) and then running the script `python3 py2json.py --doc 'BarCvDescLJ11.pdf' --url 'https://smallgrains.ucdavis.edu/cereal_files/BarCvDescLJ11.pdf' --chunk 5 Data/DavisLJ11/barley_p5_td.py Data/DavisLJ11/barley_p5_td.json` to create the JSON file for Training."
   ]
  }
 ],
 "metadata": {
  "kernelspec": {
   "display_name": "Python 3",
   "language": "python",
   "name": "python3"
  },
  "language_info": {
   "codemirror_mode": {
    "name": "ipython",
    "version": 3
   },
   "file_extension": ".py",
   "mimetype": "text/x-python",
   "name": "python",
   "nbconvert_exporter": "python",
   "pygments_lexer": "ipython3",
   "version": "3.6.9"
  }
 },
 "nbformat": 4,
 "nbformat_minor": 2
}
