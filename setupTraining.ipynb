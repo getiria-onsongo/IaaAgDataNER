{
 "cells": [
  {
   "cell_type": "markdown",
   "metadata": {},
   "source": [
    "# Generate Training Data"
   ]
  },
  {
   "cell_type": "markdown",
   "metadata": {},
   "source": [
    "We wish to speed up the process of having a human being name entities that they recognize in a paragraph, and having their positions in the paragraph identified and placed in a syntax usable by spaCy's NER training routine."
   ]
  },
  {
   "cell_type": "markdown",
   "metadata": {},
   "source": [
    "## Open PDF file, extract page two and display as sentences"
   ]
  },
  {
   "cell_type": "code",
   "execution_count": 31,
   "metadata": {
    "scrolled": false
   },
   "outputs": [
    {
     "name": "stdout",
     "output_type": "stream",
     "text": [
      "0 :  37  \n",
      "1 :  there are numerous barbs on lateral kernels.\n",
      "2 :  The crease is wide, particularly at the awn end.\n",
      "3 :  The kernel has a hump on the back, particularly on plump kernels.\n",
      "4 :  Lateral kernels are moderately twisted.\n",
      "5 :  Winter Tennessee is less susceptible to the major diseases than Atlas.\n",
      "6 :  At the time of evaluation it was resistant to scald and susceptible to BYD.\n",
      "7 :  It was evaluated as Entry 10 in the UC Regional Cereal Testing program from 1980-1981 for late fall planting in the Central Valley and the south-central coastal regions of California.    \n",
      "8 :  WOCUS 71  \n",
      "9 :  Wocus 71 is a six-rowed spring feed barley.\n",
      "10 :  It was released by the University of California AES in 1972.\n",
      "11 :  It is a composite of 500 head rows selected from Wocus on the basis of improved straw quality (height and strength), earlier maturity, and increased kernel size.\n",
      "12 :  Wocus, which originated from the cross Coast/Lion//Winter Club made at Logan, Utah in 1949, was released by the Oregon Agricultural Experiment Station in 1958.\n",
      "13 :  Wocus 71 has stiffer straw, is 3 to 5 inches shorter, and 4 to 6 days earlier in maturity than Wocus.\n",
      "14 :  The spike is dense and medium long, with awns (semi-smooth) about three times as long as the spike.\n",
      "15 :  The rachis is tough with good shatter resistance.\n",
      "16 :  Kernels are large, with short rachilla hairs and white aleurone.\n",
      "17 :  It is adapted to fertile irrigated areas of the Tulelake Basin, intermountain valleys of northern California and Klamath, Jackson and Josephine counties of Oregon.\n",
      "18 :  It was evaluated as Entry 184 in the UC Regional Cereal Testing program from 1980-1984 for spring planting in the intermountain region of northern California.\n",
      "19 :  Crop Science 19:409 (1979)   \n",
      "20 :  XENA  Xena is a two-rowed spring feed barley.\n",
      "21 :  It was released by Western Plant Breeders in 1999.\n",
      "22 :  It was selected from the cross Stark/Baronesse.\n",
      "23 :  Its experimental designation was WPB BZ 594-19.\n",
      "24 :  It has medium maturity (3-5 days later than Steptoe), medium plant height (2-3 inches taller than Baronesse), and fair straw strength.\n",
      "25 :  The stem has waxy coating, a closed collar and the neck is straight.\n",
      "26 :  The leaves are slightly waxy in appearance and there is no anthocyanin in the leaf sheath or stem.\n",
      "27 :  However, there is anthocyanin in the veins of the lemma.\n",
      "28 :  The head is semi-erect (not dense), strap shaped, slightly waxy and semi nodding at maturity.\n",
      "29 :  The glume length is more than 1/2 the length of the lemma and the glume is covered with short hairs.\n",
      "30 :  The glume awns are equal to the length of the glumes and the surface is rough.\n",
      "31 :  The lemma is awned, and the awns are rough.\n",
      "32 :  Both lemma teeth and lemma hairs are absent, and the rachilla hair is long.\n",
      "33 :  The seed is mid long, wrinkled, and has a white (or colorless) aleurone.\n",
      "34 :  The lateral florets are extremely reduced in size.\n",
      "35 :  At the time of evaluation it was moderately resistant to scald and BYD, moderately susceptible to net blotch and stripe rust, and susceptible to leaf rust, stem rust, and powdery mildew.\n",
      "36 :  It was evaluated as Entry 1008 in the UC Regional Cereal Testing program from 1998-2009 for spring planting in the intermountain region of northern California.      \n"
     ]
    }
   ],
   "source": [
    "import spacy\n",
    "import PyPDF2\n",
    "nlp = spacy.load('en_core_web_sm')\n",
    "\n",
    "#Open PDF file for reading\n",
    "pdfFile = open(\"BarCvDescLJ11.pdf\", mode=\"rb\")\n",
    "pdfReader = PyPDF2.PdfFileReader(pdfFile)\n",
    "\n",
    "# Select a page to work on\n",
    "pageNumber = 37\n",
    "\n",
    "# Get text\n",
    "OnePage = pdfReader.getPage(pageNumber-1) #0-based count\n",
    "OnePageText = OnePage.extractText()\n",
    "\n",
    "# Close PDF file\n",
    "pdfFile.close()\n",
    "\n",
    "# Remove newlinesxmx82k-&a. It appears multiple newlines together makes\n",
    "# Spacy think that is the end of a sentence. The PDF reader reads the text in\n",
    "# an odd fashion\n",
    "OnePageText = OnePageText.replace('\\n','')\n",
    "\n",
    "# create a spaCy doc object from the page and break it into sentences\n",
    "doc = nlp(OnePageText)\n",
    "l=0\n",
    "for sent in doc.sents:\n",
    "     print(l, \": \", sent)\n",
    "     l = l+1\n"
   ]
  },
  {
   "cell_type": "markdown",
   "metadata": {},
   "source": [
    "## Read in Per-line named entity file and match entities to sentence positions."
   ]
  },
  {
   "cell_type": "code",
   "execution_count": 33,
   "metadata": {},
   "outputs": [
    {
     "name": "stdout",
     "output_type": "stream",
     "text": [
      "Handle manually:  ['19', 'Crop Science 19:409 (1979)']\n",
      "   Index                                           Sentence           Phrase  \\\n",
      "0      1       there are numerous barbs on lateral kernels.            barbs   \n",
      "1      1       there are numerous barbs on lateral kernels.  lateral kernels   \n",
      "2      2   The crease is wide, particularly at the awn end.           crease   \n",
      "3      2   The crease is wide, particularly at the awn end.              awn   \n",
      "4      3  The kernel has a hump on the back, particularl...           kernel   \n",
      "..   ...                                                ...              ...   \n",
      "94    35  At the time of evaluation it was moderately re...      susceptible   \n",
      "95    35  At the time of evaluation it was moderately re...      susceptible   \n",
      "96    35  At the time of evaluation it was moderately re...        leaf rust   \n",
      "97    35  At the time of evaluation it was moderately re...        stem rust   \n",
      "98    35  At the time of evaluation it was moderately re...   powdery mildew   \n",
      "\n",
      "             MatchInfo  \n",
      "0     (19, 24, 'PLAN')  \n",
      "1     (28, 43, 'PLAN')  \n",
      "2      (4, 10, 'PLAN')  \n",
      "3     (40, 43, 'PLAN')  \n",
      "4      (4, 10, 'PLAN')  \n",
      "..                 ...  \n",
      "94    (83, 94, 'PPTD')  \n",
      "95  (130, 141, 'PPTD')  \n",
      "96  (145, 154, 'PATH')  \n",
      "97  (156, 165, 'PATH')  \n",
      "98  (171, 185, 'PATH')  \n",
      "\n",
      "[99 rows x 4 columns]\n"
     ]
    }
   ],
   "source": [
    "import re\n",
    "import csv\n",
    "import pandas as pd\n",
    "fname = \"Data/barley_p37_ner.txt\"\n",
    "\n",
    "# Covert the nlp senetence generator into a list of sentences\n",
    "sentences = list(doc.sents)\n",
    "\n",
    "# Open the file of manually matched pairs (sentence # <tab> word phrase <tab> named entity)\n",
    "# e.g.:\n",
    "#  0      AC Metcalfe     CVAR\n",
    "#  0      two-rowed       TRAT\n",
    "#  0      barley          CROP\n",
    "#  1      Agri-Food Candada   ORG\n",
    "#  1      1997    DATE\n",
    "file = open(fname)\n",
    "reader = csv.reader(file, delimiter='\\t', quoting=csv.QUOTE_NONE)\n",
    "data = list()\n",
    "\n",
    "for row in reader:\n",
    "    try:\n",
    "        (sentIndex, phrase, label) = row\n",
    "        sent = sentences[int(sentIndex)].string.rstrip()\n",
    "        \n",
    "        # find all instances of the 'phrase' in the 'sent'.\n",
    "        iter = re.finditer(r\"\\b\"+phrase+r\"\\b\", sent)\n",
    "        indices = [m.start(0) for m in iter]\n",
    "        \n",
    "        # check to make sure the phrase the user said was there was indeed found\n",
    "        if len(indices) == 0:\n",
    "            raise ValueError\n",
    "                \n",
    "        # print out all instances\n",
    "        for i in indices:\n",
    "#            print(sentIndex, sent, phrase, \"(\"+str(i), i+len(phrase), \"'\"+label+\"')\")\n",
    "            data.append([sentIndex, sent, phrase, \"(\"+str(i)+\", \"+str(i+len(phrase))+\", '\"+label+\"')\"])\n",
    "            \n",
    "    except:\n",
    "        print(\"Handle manually: \", row)\n",
    "        \n",
    "df = pd.DataFrame(data, columns = [\"Index\", \"Sentence\", \"Phrase\", \"MatchInfo\"])\n",
    "print(df)\n"
   ]
  },
  {
   "cell_type": "markdown",
   "metadata": {},
   "source": [
    "## Create a function to clean up overlapping intervals"
   ]
  },
  {
   "cell_type": "code",
   "execution_count": 34,
   "metadata": {},
   "outputs": [
    {
     "data": {
      "text/plain": [
       "\"(0, 12, 'CVAR'), (39, 49, 'CVAR'), (71, 77, 'CVAR'), (92, 113, 'TRAT'), (140, 150, 'CVAR'), (181, 187, 'CVAR')\""
      ]
     },
     "execution_count": 34,
     "metadata": {},
     "output_type": "execute_result"
    }
   ],
   "source": [
    "import re\n",
    "coordRegex = re.compile(r'(\\d+), (\\d+)')\n",
    "\n",
    "def sortByStart(coords):\n",
    "    \"\"\"For use in sort routines, return object with lowest (X,Y) values\"\"\"\n",
    "    # split out coordinates that come in as (5, 7, 'CVAR')\n",
    "    mo = coordRegex.search(coords)\n",
    "    return(int(mo.group(1)))\n",
    "\n",
    "def overlaps(coord1, coord2):\n",
    "    \"\"\"Check if coordinates of the form 5, 7, 'CVAR' and 32, 46, 'TRAT' overlap\"\"\"\n",
    "    mo1 = coordRegex.search(coord1)\n",
    "    mo2 = coordRegex.search(coord2)\n",
    "    coord1Low = int(mo1.group(1))\n",
    "    coord1High = int(mo1.group(2))\n",
    "    coord2Low = int(mo2.group(1))\n",
    "    coord2High = int(mo2.group(2))\n",
    "    \n",
    "    if ((coord1High >= coord2Low) and (coord1Low <= coord2Low) or\n",
    "        (coord2High >= coord1Low) and (coord2Low <= coord1Low)):\n",
    "        return True\n",
    "    else:\n",
    "        return False\n",
    "\n",
    "def keepFirst(coord1, coord2):\n",
    "    \"\"\"Given overlapping coordinates, return the wider encompassing one.\"\"\"\n",
    "    mo1 = coordRegex.search(coord1)\n",
    "    mo2 = coordRegex.search(coord2)\n",
    "    coord1Low = int(mo1.group(1))\n",
    "    coord1High = int(mo1.group(2))\n",
    "    coord2Low = int(mo2.group(1))\n",
    "    coord2High = int(mo2.group(2))\n",
    " \n",
    "    if (int(coord1High) - int(coord1Low)) >= (int(coord2High) - int(coord2Low)):\n",
    "        return True\n",
    "    else:\n",
    "        return False\n",
    "\n",
    "# print(\"Should be false:\", overlaps(\"(5, 7, 'CVAR')\", \"(32, 46, 'TRAT')\"))\n",
    "# print(\"Should be true:\", overlaps(\"(26, 46, 'TRAT')\", \"(32, 46, 'TRAT')\"))\n",
    "# print(\"Should be true:\", overlaps(\"(26, 46, 'TRAT')\", \"(26, 46, 'TRAT')\"))\n",
    "# print(\"Keeper:\", keepFirst(\"34, 46, 'TRAT'\", \"34, 46, 'TRAT'\"))\n",
    "\n",
    "def cleanIntervals(inputString=\"\"):\n",
    "    \"\"\"order intervals like (5, 7, 'CVAR'), (32, 46, 'TRAT'), (26, 46, 'TRAT') and remove overlapping ones.\"\"\"\n",
    "    inputString = inputString.lstrip(\"(\").rstrip(\")\")\n",
    "    intervalList = inputString.split(\"), (\")\n",
    "    intervalList.sort(key = sortByStart)\n",
    "#    print(\"Sorted Interval List:\", intervalList)\n",
    "\n",
    "    # Pairwise compare every interval in the list to every other interval to check overlap\n",
    "    keeperList = [True]*len(intervalList) # Logic array to determine if each interval should be kept\n",
    "    i=0\n",
    "    for interval1 in intervalList:\n",
    "        for interval2 in intervalList:\n",
    "            if interval1 == interval2:\n",
    "                if intervalList.index(interval1) != i: # when both are the same we reject the higher one\n",
    "                    keeperList[i] = False\n",
    "            else:\n",
    "                if overlaps(interval1, interval2) and keepFirst(interval1, interval2) == False:\n",
    "                    keeperList[i] = False\n",
    "        i = i+1\n",
    "        \n",
    "#    print(\"keeperList:\", keeperList)\n",
    "   \n",
    "    # Build up the return interval list\n",
    "    returnStr = \"(\"\n",
    "    for interval, isKeeper in zip(intervalList, keeperList):\n",
    "        if isKeeper:\n",
    "            returnStr = returnStr + interval + \"), (\"\n",
    "    return (returnStr.rstrip(\"), (\") + \")\")\n",
    "        \n",
    "# cleanIntervals(\"(5, 7, 'CVAR'), (32, 46, 'TRAT'), (5, 9, 'CVAR'), (48, 55, 'ORG'), (26, 46, 'TRAT')\")\n",
    "# cleanIntervals(\"(0, 8, 'CVAR'), (0, 5, 'CVAR'), (21, 26, 'PLAN'), (32, 37, 'CVAR')\")\n",
    "cleanIntervals(\"(0, 12, 'CVAR'), (39, 49, 'CVAR'), (39, 49, 'CVAR'), (71, 77, 'CVAR'), (71, 77, 'CVAR'), (92, 113, 'TRAT'), (140, 150, 'CVAR'), (140, 150, 'CVAR'), (181, 187, 'CVAR'), (181, 187, 'CVAR')\")\n"
   ]
  },
  {
   "cell_type": "markdown",
   "metadata": {},
   "source": [
    "## Aggregate all matches for each sentence on a single line and output in spaCy training format"
   ]
  },
  {
   "cell_type": "code",
   "execution_count": 35,
   "metadata": {
    "scrolled": false
   },
   "outputs": [
    {
     "name": "stdout",
     "output_type": "stream",
     "text": [
      "    ('there are numerous barbs on lateral kernels.', {'entities': [(19, 24, 'PLAN'), (28, 43, 'PLAN')]}),\n",
      "    ('It was released by the University of California AES in 1972.', {'entities': [(23, 51, 'ORG'), (55, 59, 'DATE')]}),\n",
      "    ('It is a composite of 500 head rows selected from Wocus on the basis of improved straw quality (height and strength), earlier maturity, and increased kernel size.', {'entities': [(49, 54, 'CVAR'), (80, 93, 'TRAT'), (95, 101, 'TRAT'), (106, 114, 'TRAT'), (125, 133, 'TRAT'), (149, 160, 'TRAT')]}),\n",
      "    ('Wocus, which originated from the cross Coast/Lion//Winter Club made at Logan, Utah in 1949, was released by the Oregon Agricultural Experiment Station in 1958.', {'entities': [(0, 5, 'CVAR'), (39, 62, 'PED'), (71, 82, 'GPE'), (86, 90, 'DATE'), (112, 150, 'ORG'), (154, 158, 'DATE')]}),\n",
      "    ('Wocus 71 has stiffer straw, is 3 to 5 inches shorter, and 4 to 6 days earlier in maturity than Wocus.', {'entities': [(0, 8, 'CVAR'), (21, 26, 'PLAN'), (45, 52, 'TRAT'), (81, 89, 'TRAT'), (95, 100, 'CVAR')]}),\n",
      "    ('The spike is dense and medium long, with awns (semi-smooth) about three times as long as the spike.', {'entities': [(4, 9, 'PLAN'), (41, 45, 'PLAN'), (93, 98, 'PLAN')]}),\n",
      "    ('The rachis is tough with good shatter resistance.', {'entities': [(4, 10, 'PLAN')]}),\n",
      "    ('Kernels are large, with short rachilla hairs and white aleurone.', {'entities': [(0, 7, 'PLAN'), (30, 44, 'PLAN'), (55, 63, 'PLAN')]}),\n",
      "    ('The crease is wide, particularly at the awn end.', {'entities': [(4, 10, 'PLAN'), (40, 43, 'PLAN')]}),\n",
      "    ('XENA  Xena is a two-rowed spring feed barley.', {'entities': [(6, 10, 'CVAR'), (16, 25, 'TRAT'), (26, 32, 'TRAT'), (33, 37, 'TRAT'), (38, 44, 'CROP')]}),\n",
      "    ('It was released by Western Plant Breeders in 1999.', {'entities': [(19, 41, 'ORG'), (45, 49, 'DATE')]}),\n",
      "    ('It was selected from the cross Stark/Baronesse.', {'entities': [(31, 46, 'PED')]}),\n",
      "    ('Its experimental designation was WPB BZ 594-19.', {'entities': [(33, 46, 'ALAS')]}),\n",
      "    ('It has medium maturity (3-5 days later than Steptoe), medium plant height (2-3 inches taller than Baronesse), and fair straw strength.', {'entities': [(14, 22, 'TRAT'), (44, 51, 'CVAR'), (61, 73, 'TRAT'), (86, 92, 'TRAT'), (98, 107, 'CVAR'), (119, 133, 'TRAT')]}),\n",
      "    ('The stem has waxy coating, a closed collar and the neck is straight.', {'entities': [(4, 8, 'PLAN'), (36, 42, 'PLAN'), (51, 55, 'PLAN')]}),\n",
      "    ('The leaves are slightly waxy in appearance and there is no anthocyanin in the leaf sheath or stem.', {'entities': [(4, 10, 'PLAN'), (59, 70, 'TRAT'), (78, 89, 'PLAN'), (93, 97, 'PLAN')]}),\n",
      "    ('However, there is anthocyanin in the veins of the lemma.', {'entities': [(18, 29, 'TRAT'), (37, 42, 'PLAN'), (50, 55, 'PLAN')]}),\n",
      "    ('The head is semi-erect (not dense), strap shaped, slightly waxy and semi nodding at maturity.', {'entities': [(4, 8, 'PLAN')]}),\n",
      "    ('The glume length is more than 1/2 the length of the lemma and the glume is covered with short hairs.', {'entities': [(4, 9, 'PLAN'), (52, 57, 'PLAN'), (66, 71, 'PLAN'), (94, 99, 'PLAN')]}),\n",
      "    ('The kernel has a hump on the back, particularly on plump kernels.', {'entities': [(4, 10, 'PLAN'), (57, 64, 'PLAN')]}),\n",
      "    ('The glume awns are equal to the length of the glumes and the surface is rough.', {'entities': [(4, 14, 'PLAN'), (46, 52, 'PLAN')]}),\n",
      "    ('The lemma is awned, and the awns are rough.', {'entities': [(4, 9, 'PLAN'), (13, 18, 'PLAN'), (28, 32, 'PLAN')]}),\n",
      "    ('Both lemma teeth and lemma hairs are absent, and the rachilla hair is long.', {'entities': [(5, 16, 'PLAN'), (21, 32, 'PLAN'), (53, 66, 'PLAN')]}),\n",
      "    ('The seed is mid long, wrinkled, and has a white (or colorless) aleurone.', {'entities': [(4, 8, 'PLAN'), (63, 71, 'PLAN')]}),\n",
      "    ('The lateral florets are extremely reduced in size.', {'entities': [(4, 19, 'PLAN')]}),\n",
      "    ('At the time of evaluation it was moderately resistant to scald and BYD, moderately susceptible to net blotch and stripe rust, and susceptible to leaf rust, stem rust, and powdery mildew.', {'entities': [(33, 53, 'PPTD'), (57, 62, 'PATH'), (67, 70, 'PATH'), (72, 94, 'PPTD'), (98, 108, 'PATH'), (113, 124, 'PATH'), (130, 141, 'PPTD'), (145, 154, 'PATH'), (156, 165, 'PATH'), (171, 185, 'PATH')]}),\n",
      "    ('Lateral kernels are moderately twisted.', {'entities': [(0, 15, 'PLAN')]}),\n",
      "    ('Winter Tennessee is less susceptible to the major diseases than Atlas.', {'entities': [(0, 16, 'CVAR'), (64, 69, 'CVAR')]}),\n",
      "    ('At the time of evaluation it was resistant to scald and susceptible to BYD.', {'entities': [(33, 42, 'PPTD'), (46, 51, 'PATH'), (56, 67, 'PPTD'), (71, 74, 'PATH')]}),\n",
      "    ('Wocus 71 is a six-rowed spring feed barley.', {'entities': [(0, 8, 'CVAR'), (14, 23, 'TRAT'), (24, 30, 'TRAT'), (31, 35, 'TRAT'), (36, 42, 'CROP')]}),\n"
     ]
    }
   ],
   "source": [
    "# use Pandas dataframes to aggregate all entity matches together for a single sentence\n",
    "agg_rules = {'Sentence': 'first', 'Phrase': 'first', 'MatchInfo': lambda x: ', '.join(x)}\n",
    "res = df.groupby('Index').agg(agg_rules)\n",
    "#print(res)\n",
    "\n",
    "# Now format it just like what is needed for the spaCy training module: \n",
    "# E.g.:\n",
    "# ('Eight-Twelve is a six-rowed winter feed barley', {'entities': [(0, 12, 'CVAR'), (18, 27, 'TRAT'), (28, 39, 'TRAT'),(40, 46, 'CROP')]}),\n",
    "records = res.to_dict('records')\n",
    "for i in range(0,len(records)):\n",
    "    print(\"    ('\"+records[i]['Sentence']+\"', {'entities': [\"+cleanIntervals(records[i]['MatchInfo'])+\"]}),\")\n",
    "    #print(\"    ('\"+records[i]['Sentence']+\"', {'entities': [\"+records[i]['MatchInfo']+\"]}),\")\n"
   ]
  }
 ],
 "metadata": {
  "kernelspec": {
   "display_name": "Python 3",
   "language": "python",
   "name": "python3"
  },
  "language_info": {
   "codemirror_mode": {
    "name": "ipython",
    "version": 3
   },
   "file_extension": ".py",
   "mimetype": "text/x-python",
   "name": "python",
   "nbconvert_exporter": "python",
   "pygments_lexer": "ipython3",
   "version": "3.6.9"
  }
 },
 "nbformat": 4,
 "nbformat_minor": 2
}
