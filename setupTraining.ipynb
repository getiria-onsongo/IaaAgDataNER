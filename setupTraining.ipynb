{
 "cells": [
  {
   "cell_type": "markdown",
   "metadata": {},
   "source": [
    "# Generate Training Data"
   ]
  },
  {
   "cell_type": "markdown",
   "metadata": {},
   "source": [
    "We wish to speed up the process of having a human being name entities that they recognize in a paragraph, and having their positions in the paragraph identified and placed in a syntax usable by spaCy's NER training routine."
   ]
  },
  {
   "cell_type": "markdown",
   "metadata": {},
   "source": [
    "## Open PDF file, extract page two and display as sentences"
   ]
  },
  {
   "cell_type": "code",
   "execution_count": 1,
   "metadata": {
    "scrolled": false
   },
   "outputs": [
    {
     "name": "stdout",
     "output_type": "stream",
     "text": [
      "0 :  1  \n",
      "1 :  Revised September, 2011    BARLEY CULTIVARS FOR CALIFORNIA  \n",
      "2 :  Lee Jackson, Extension Small Grain Specialist\n",
      "3 :  (Retired)  Department of Plant Sciences  University of California, Davis     \n",
      "4 :  The following are descriptions of barley cultivars evaluated in California from 1981 to 2011.\n",
      "5 :  The descriptions are based on published cultivar releases and data from the UC Regional Cereal Evaluation Tests conducted each year throughout California.\n",
      "6 :  Yield performance data for most of the cultivars can be found in University of California, Davis,\n",
      "7 :  Agronomy Progress Reports (\n",
      "8 :  No.'s 118, 128, 144, 155, 168, 180, 201,209, 217, 223, 229, 233, 236, 244, 249, 254, 259, 262, 265, 272, 276, 279, 286, 288, 290, 293, 295, 296, 301, 303, 304 for 1980-2011, respectively).\n",
      "9 :  Reports #262 through 304 also can be seen at http://smallgrains.ucdavis.edu.    \n",
      "10 :  CURRENT CULTIVARS\n",
      "11 :  WINTER BARLEY   \n",
      "12 :  EIGHT-TWELVE  \n",
      "13 :  Eight-Twelve is a six-rowed winter feed barley.\n",
      "14 :  It was released by the USDA-ARS and the Idaho AES in 1991.\n",
      "15 :  It was selected from the cross Steveland/Luther//Wintermalt.\n",
      "16 :  Its experimental designation was 79Ab812.\n",
      "17 :  It has rough awns, midseason maturity, good winter hardiness, and is medium height with intermediate lodging resistance.\n",
      "18 :  Spikes are short and dense.\n",
      "19 :  Kernels have white aleurone and short rachilla hairs.\n",
      "20 :  It is susceptible to stripe rust, scald, and snow mold, and moderately susceptible to BYD.\n",
      "21 :  It was evaluated as Entry 697 in the UC Regional Cereal Testing program from 1982-2006 for fall planting in the intermountain region of northern California.\n",
      "22 :  Crop Science 32(3):828 (1992)   \n",
      "23 :  MAJA  \n",
      "24 :  Maja is a six-rowed winter feed/malt barley.\n",
      "25 :  It was released by the Oregon AES in 2006 and licensed to AgriSource (Burley, Idaho).\n",
      "26 :  It is a doubled haploid developed from the F1 of the cross of Strider/88Ab536.\n",
      "27 :  Its experimental designation was STAB 113.\n",
      "28 :  Maja, like the 88Ab536 parent, is a facultative cultivar: it has a ﬁwinterﬂ allele at the Vrn-H1 locus on chromosome 5H but lacks the repressor encoded by the Vrn-H2 locus on 4H.\n",
      "29 :  This configuration of vernalization genes can lead to early maturity under some environmental conditions, and this feature could be an advantage in terms of flexibility in planting date, irrigation savings, and drought avoidance.\n",
      "30 :  It is a standard height selection (averages about 42 inches in plant height, with fair straw strength) with rough awns and a semi-compact spike.\n",
      "31 :  The grain has white aleurone.\n",
      "32 :  Maja has high test weight and showed promise as malting barley in repeated micro-malting tests, but it was ultimately not approved by the American Malting Barley Association (AMBA).\n",
      "33 :  It has a lower grain protein and enzyme level than is desired for production of lighter beers.\n",
      "34 :  At the time of evaluation it was resistant to stripe rust and susceptible to scald.\n",
      "35 :  It was evaluated as Entry 1129 in the UC Regional Cereal Testing program from 2001-2006 for fall planting in the intermountain region of northern California.\n",
      "36 :  Oregon AES (2006)    STRIDER  Strider is a six-rowed winter feed barley.\n",
      "37 :  It was released by the Oregon AES in 1997.\n",
      "38 :  It is a doubled-haploid line produced from the cross\n",
      "39 :  I1162-19/J-126//WA1245///Steptoe.\n",
      "40 :  Its experimental designation was ORW-6.\n",
      "41 :  It is medium height\n",
      "42 :  (averages about 41 inches, slightly taller than Kold) and medium early maturing with fair straw strength.\n",
      "43 :  It has rough awns and a semi-compact spike.\n",
      "44 :  At the time of evaluation it was resistant to stripe rust and moderately susceptible to scald, net blotch, and BYD.\n",
      "45 :  It was evaluated as Entry 964 in the UC Regional Cereal Testing program from 1997-2006 for fall planting in the intermountain region of northern California and in 2008 for fall planting in the Central Valley of California.\n",
      "46 :  Oregon AES (1997)       \n",
      "47 :  CURRENT CULTIVARS\n",
      "48 :  SPRING BARLEY  \n"
     ]
    }
   ],
   "source": [
    "import spacy\n",
    "import PyPDF2\n",
    "# import slate3k as slate\n",
    "nlp = spacy.load('en_core_web_sm')\n",
    "\n",
    "filename = \"BarCvDescLJ11.pdf\"\n",
    "\n",
    "#Open PDF file for reading\n",
    "pdfFile = open(filename, mode=\"rb\")\n",
    "pdfReader = PyPDF2.PdfFileReader(pdfFile)\n",
    "\n",
    "# Select a page to work on\n",
    "pageNumber = 1\n",
    "\n",
    "# Get text\n",
    "OnePage = pdfReader.getPage(pageNumber-1) #0-based count\n",
    "OnePageText = OnePage.extractText()\n",
    "\n",
    "# Close PDF file\n",
    "pdfFile.close()\n",
    "\n",
    "# Replacement code to use slate which handles spacing within some PDFs better\n",
    "# with open(filename, 'rb') as f:\n",
    "#     OnePageText = slate.PDF(f).text()\n",
    "\n",
    "# Remove newlinesxmx82k-&a. It appears multiple newlines together makes\n",
    "# Spacy think that is the end of a sentence. The PDF reader reads the text in\n",
    "# an odd fashion\n",
    "OnePageText = OnePageText.replace('\\n','')\n",
    "\n",
    "# create a spaCy doc object from the page and break it into sentences\n",
    "doc = nlp(OnePageText)\n",
    "l=0\n",
    "for sent in doc.sents:\n",
    "     print(l, \": \", sent)\n",
    "     l = l+1\n"
   ]
  },
  {
   "cell_type": "markdown",
   "metadata": {},
   "source": [
    "## Read in Per-line named entity file and match entities to sentence positions."
   ]
  },
  {
   "cell_type": "code",
   "execution_count": 2,
   "metadata": {},
   "outputs": [
    {
     "name": "stdout",
     "output_type": "stream",
     "text": [
      "Handle manually:  ['22', 'Crop Science 32(3):828 (1992)', 'JRNL']\n",
      "   Index                                           Sentence  \\\n",
      "0     13    Eight-Twelve is a six-rowed winter feed barley.   \n",
      "1     13    Eight-Twelve is a six-rowed winter feed barley.   \n",
      "2     13    Eight-Twelve is a six-rowed winter feed barley.   \n",
      "3     13    Eight-Twelve is a six-rowed winter feed barley.   \n",
      "4     13    Eight-Twelve is a six-rowed winter feed barley.   \n",
      "..   ...                                                ...   \n",
      "76    44  At the time of evaluation it was resistant to ...   \n",
      "77    44  At the time of evaluation it was resistant to ...   \n",
      "78    44  At the time of evaluation it was resistant to ...   \n",
      "79    44  At the time of evaluation it was resistant to ...   \n",
      "80    44  At the time of evaluation it was resistant to ...   \n",
      "\n",
      "                    Phrase           MatchInfo  \n",
      "0             Eight-Twelve     (0, 12, 'CVAR')  \n",
      "1                six-rowed    (18, 27, 'TRAT')  \n",
      "2                   winter    (28, 34, 'TRAT')  \n",
      "3                     feed    (35, 39, 'CVAR')  \n",
      "4                   barley    (40, 46, 'CROP')  \n",
      "..                     ...                 ...  \n",
      "76             stripe rust    (46, 57, 'PATH')  \n",
      "77  moderately susceptible    (62, 84, 'PPTD')  \n",
      "78                   scald    (88, 93, 'PATH')  \n",
      "79              net blotch   (95, 105, 'PATH')  \n",
      "80                     BYD  (111, 114, 'PATH')  \n",
      "\n",
      "[81 rows x 4 columns]\n"
     ]
    }
   ],
   "source": [
    "import re\n",
    "import csv\n",
    "import pandas as pd\n",
    "\n",
    "fname = \"Data/DavisLJ11/barley_p\"+str(pageNumber)+\"_ner.txt\"\n",
    "#fname = \"Data/UIdaho2019/barley_p\"+str(pageNumber-40)+\"_ner.txt\" # Note p1 = 41 in the document\n",
    "\n",
    "# Covert the nlp senetence generator into a list of sentences\n",
    "sentences = list(doc.sents)\n",
    "\n",
    "# Open the file of manually matched pairs (sentence # <tab> word phrase <tab> named entity)\n",
    "# e.g.:\n",
    "#  0      AC Metcalfe     CVAR\n",
    "#  0      two-rowed       TRAT\n",
    "#  0      barley          CROP\n",
    "#  1      Agri-Food Candada   ORG\n",
    "#  1      1997    DATE\n",
    "file = open(fname)\n",
    "reader = csv.reader(file, delimiter='\\t', quoting=csv.QUOTE_NONE)\n",
    "data = list()\n",
    "\n",
    "for row in reader:\n",
    "    try:\n",
    "        (sentIndex, phrase, label) = row\n",
    "        sent = sentences[int(sentIndex)].string.rstrip()\n",
    "        \n",
    "        # find all instances of the 'phrase' in the 'sent'.\n",
    "        iter = re.finditer(r\"\\b\"+phrase+r\"\\b\", sent)\n",
    "        indices = [m.start(0) for m in iter]\n",
    "        \n",
    "        # check to make sure the phrase the user said was there was indeed found\n",
    "        if len(indices) == 0:\n",
    "            raise ValueError\n",
    "                \n",
    "        # print out all instances\n",
    "        for i in indices:\n",
    "#            print(sentIndex, sent, phrase, \"(\"+str(i), i+len(phrase), \"'\"+label+\"')\")\n",
    "            data.append([sentIndex, sent, phrase, \"(\"+str(i)+\", \"+str(i+len(phrase))+\", '\"+label+\"')\"])\n",
    "            \n",
    "    except:\n",
    "        print(\"Handle manually: \", row)\n",
    "        \n",
    "df = pd.DataFrame(data, columns = [\"Index\", \"Sentence\", \"Phrase\", \"MatchInfo\"])\n",
    "print(df)\n"
   ]
  },
  {
   "cell_type": "markdown",
   "metadata": {},
   "source": [
    "## Create a function to clean up overlapping intervals"
   ]
  },
  {
   "cell_type": "code",
   "execution_count": 3,
   "metadata": {},
   "outputs": [
    {
     "data": {
      "text/plain": [
       "\"(0, 12, 'CVAR'), (39, 49, 'CVAR'), (71, 77, 'CVAR'), (92, 113, 'TRAT'), (140, 150, 'CVAR'), (181, 187, 'CVAR')\""
      ]
     },
     "execution_count": 3,
     "metadata": {},
     "output_type": "execute_result"
    }
   ],
   "source": [
    "import re\n",
    "coordRegex = re.compile(r'(\\d+), (\\d+)')\n",
    "\n",
    "def sortByStart(coords):\n",
    "    \"\"\"For use in sort routines, return object with lowest (X,Y) values\"\"\"\n",
    "    # split out coordinates that come in as (5, 7, 'CVAR')\n",
    "    mo = coordRegex.search(coords)\n",
    "    return(int(mo.group(1)))\n",
    "\n",
    "def overlaps(coord1, coord2):\n",
    "    \"\"\"Check if coordinates of the form 5, 7, 'CVAR' and 32, 46, 'TRAT' overlap\"\"\"\n",
    "    mo1 = coordRegex.search(coord1)\n",
    "    mo2 = coordRegex.search(coord2)\n",
    "    coord1Low = int(mo1.group(1))\n",
    "    coord1High = int(mo1.group(2))\n",
    "    coord2Low = int(mo2.group(1))\n",
    "    coord2High = int(mo2.group(2))\n",
    "    \n",
    "    if ((coord1High >= coord2Low) and (coord1Low <= coord2Low) or\n",
    "        (coord2High >= coord1Low) and (coord2Low <= coord1Low)):\n",
    "        return True\n",
    "    else:\n",
    "        return False\n",
    "\n",
    "def keepFirst(coord1, coord2):\n",
    "    \"\"\"Given overlapping coordinates, return the wider encompassing one.\"\"\"\n",
    "    mo1 = coordRegex.search(coord1)\n",
    "    mo2 = coordRegex.search(coord2)\n",
    "    coord1Low = int(mo1.group(1))\n",
    "    coord1High = int(mo1.group(2))\n",
    "    coord2Low = int(mo2.group(1))\n",
    "    coord2High = int(mo2.group(2))\n",
    " \n",
    "    if (int(coord1High) - int(coord1Low)) >= (int(coord2High) - int(coord2Low)):\n",
    "        return True\n",
    "    else:\n",
    "        return False\n",
    "\n",
    "# print(\"Should be false:\", overlaps(\"(5, 7, 'CVAR')\", \"(32, 46, 'TRAT')\"))\n",
    "# print(\"Should be true:\", overlaps(\"(26, 46, 'TRAT')\", \"(32, 46, 'TRAT')\"))\n",
    "# print(\"Should be true:\", overlaps(\"(26, 46, 'TRAT')\", \"(26, 46, 'TRAT')\"))\n",
    "# print(\"Keeper:\", keepFirst(\"34, 46, 'TRAT'\", \"34, 46, 'TRAT'\"))\n",
    "\n",
    "def cleanIntervals(inputString=\"\"):\n",
    "    \"\"\"order intervals like (5, 7, 'CVAR'), (32, 46, 'TRAT'), (26, 46, 'TRAT') and remove overlapping ones.\"\"\"\n",
    "    inputString = inputString.lstrip(\"(\").rstrip(\")\")\n",
    "    intervalList = inputString.split(\"), (\")\n",
    "    intervalList.sort(key = sortByStart)\n",
    "#    print(\"Sorted Interval List:\", intervalList)\n",
    "\n",
    "    # Pairwise compare every interval in the list to every other interval to check overlap\n",
    "    keeperList = [True]*len(intervalList) # Logic array to determine if each interval should be kept\n",
    "    i=0\n",
    "    for interval1 in intervalList:\n",
    "        for interval2 in intervalList:\n",
    "            if interval1 == interval2:\n",
    "                if intervalList.index(interval1) != i: # when both are the same we reject the higher one\n",
    "                    keeperList[i] = False\n",
    "            else:\n",
    "                if overlaps(interval1, interval2) and keepFirst(interval1, interval2) == False:\n",
    "                    keeperList[i] = False\n",
    "        i = i+1\n",
    "        \n",
    "#    print(\"keeperList:\", keeperList)\n",
    "   \n",
    "    # Build up the return interval list\n",
    "    returnStr = \"(\"\n",
    "    for interval, isKeeper in zip(intervalList, keeperList):\n",
    "        if isKeeper:\n",
    "            returnStr = returnStr + interval + \"), (\"\n",
    "    return (returnStr.rstrip(\"), (\") + \")\")\n",
    "        \n",
    "# cleanIntervals(\"(5, 7, 'CVAR'), (32, 46, 'TRAT'), (5, 9, 'CVAR'), (48, 55, 'ORG'), (26, 46, 'TRAT')\")\n",
    "# cleanIntervals(\"(0, 8, 'CVAR'), (0, 5, 'CVAR'), (21, 26, 'PLAN'), (32, 37, 'CVAR')\")\n",
    "cleanIntervals(\"(0, 12, 'CVAR'), (39, 49, 'CVAR'), (39, 49, 'CVAR'), (71, 77, 'CVAR'), (71, 77, 'CVAR'), (92, 113, 'TRAT'), (140, 150, 'CVAR'), (140, 150, 'CVAR'), (181, 187, 'CVAR'), (181, 187, 'CVAR')\")\n"
   ]
  },
  {
   "cell_type": "markdown",
   "metadata": {},
   "source": [
    "## Aggregate all matches for each sentence on a single line and output in spaCy training format"
   ]
  },
  {
   "cell_type": "code",
   "execution_count": 4,
   "metadata": {
    "scrolled": false
   },
   "outputs": [
    {
     "name": "stdout",
     "output_type": "stream",
     "text": [
      "TRAIN_DATA = [\n",
      "    ('Eight-Twelve is a six-rowed winter feed barley.', {'entities': [(0, 12, 'CVAR'), (18, 27, 'TRAT'), (28, 34, 'TRAT'), (35, 39, 'CVAR'), (40, 46, 'CROP')]}),\n",
      "    ('It was released by the USDA-ARS and the Idaho AES in 1991.', {'entities': [(23, 31, 'ORG'), (40, 49, 'ORG'), (53, 57, 'DATE')]}),\n",
      "    ('It was selected from the cross Steveland/Luther//Wintermalt.', {'entities': [(31, 59, 'PED')]}),\n",
      "    ('Its experimental designation was 79Ab812.', {'entities': [(33, 40, 'ALAS')]}),\n",
      "    ('It has rough awns, midseason maturity, good winter hardiness, and is medium height with intermediate lodging resistance.', {'entities': [(13, 17, 'PLAN'), (29, 37, 'TRAT'), (44, 60, 'TRAT'), (76, 82, 'TRAT'), (101, 119, 'TRAT')]}),\n",
      "    ('Spikes are short and dense.', {'entities': [(0, 6, 'PLAN')]}),\n",
      "    ('Kernels have white aleurone and short rachilla hairs.', {'entities': [(0, 7, 'PLAN'), (19, 27, 'PLAN'), (38, 52, 'PLAN')]}),\n",
      "    ('It is susceptible to stripe rust, scald, and snow mold, and moderately susceptible to BYD.', {'entities': [(6, 17, 'PPTD'), (21, 32, 'PATH'), (34, 39, 'PATH'), (45, 54, 'PATH'), (60, 82, 'PPTD'), (86, 89, 'PATH')]}),\n",
      "    ('Maja is a six-rowed winter feed/malt barley.', {'entities': [(0, 4, 'CVAR'), (10, 19, 'TRAT'), (20, 26, 'TRAT'), (27, 31, 'TRAT'), (32, 36, 'TRAT'), (37, 43, 'CROP')]}),\n",
      "    ('It was released by the Oregon AES in 2006 and licensed to AgriSource (Burley, Idaho).', {'entities': [(23, 33, 'ORG'), (37, 41, 'DATE'), (58, 68, 'ORG'), (70, 83, 'GPE')]}),\n",
      "    ('It is a doubled haploid developed from the F1 of the cross of Strider/88Ab536.', {'entities': [(8, 23, 'TRAT'), (62, 77, 'PED')]}),\n",
      "    ('Its experimental designation was STAB 113.', {'entities': [(33, 41, 'ALAS')]}),\n",
      "    ('Maja, like the 88Ab536 parent, is a facultative cultivar: it has a ﬁwinterﬂ allele at the Vrn-H1 locus on chromosome 5H but lacks the repressor encoded by the Vrn-H2 locus on 4H.', {'entities': [(0, 4, 'CVAR'), (15, 22, 'CVAR'), (36, 47, 'TRAT')]}),\n",
      "    ('It is a standard height selection (averages about 42 inches in plant height, with fair straw strength) with rough awns and a semi-compact spike.', {'entities': [(17, 23, 'TRAT'), (69, 75, 'TRAT'), (87, 101, 'TRAT'), (114, 118, 'PLAN'), (138, 143, 'PLAN')]}),\n",
      "    ('The grain has white aleurone.', {'entities': [(4, 9, 'PLAN'), (20, 28, 'PLAN')]}),\n",
      "    ('Maja has high test weight and showed promise as malting barley in repeated micro-malting tests, but it was ultimately not approved by the American Malting Barley Association (AMBA).', {'entities': [(0, 4, 'CVAR'), (14, 25, 'TRAT'), (56, 62, 'CROP'), (138, 173, 'ORG')]}),\n",
      "    ('It has a lower grain protein and enzyme level than is desired for production of lighter beers.', {'entities': [(15, 28, 'TRAT'), (33, 45, 'TRAT')]}),\n",
      "    ('At the time of evaluation it was resistant to stripe rust and susceptible to scald.', {'entities': [(33, 42, 'PPTD'), (46, 57, 'PATH'), (62, 73, 'PPTD'), (77, 82, 'PATH')]}),\n",
      "    ('Oregon AES (2006)    STRIDER  Strider is a six-rowed winter feed barley.', {'entities': [(30, 37, 'CVAR'), (43, 52, 'TRAT'), (53, 59, 'TRAT'), (60, 64, 'TRAT'), (65, 71, 'CROP')]}),\n",
      "    ('It was released by the Oregon AES in 1997.', {'entities': [(23, 33, 'ORG'), (37, 41, 'DATE')]}),\n",
      "    ('It is a doubled-haploid line produced from the cross', {'entities': [(8, 23, 'TRAT')]}),\n",
      "    ('I1162-19/J-126//WA1245///Steptoe.', {'entities': [(0, 32, 'PED')]}),\n",
      "    ('Its experimental designation was ORW-6.', {'entities': [(33, 38, 'ALAS')]}),\n",
      "    ('It is medium height', {'entities': [(13, 19, 'TRAT')]}),\n",
      "    ('(averages about 41 inches, slightly taller than Kold) and medium early maturing with fair straw strength.', {'entities': [(48, 52, 'CVAR'), (71, 79, 'TRAT'), (90, 104, 'TRAT')]}),\n",
      "    ('It has rough awns and a semi-compact spike.', {'entities': [(13, 17, 'PLAN'), (37, 42, 'PLAN')]}),\n",
      "    ('At the time of evaluation it was resistant to stripe rust and moderately susceptible to scald, net blotch, and BYD.', {'entities': [(33, 42, 'PPTD'), (46, 57, 'PATH'), (62, 84, 'PPTD'), (88, 93, 'PATH'), (95, 105, 'PATH'), (111, 114, 'PATH')]})\n",
      "]\n"
     ]
    }
   ],
   "source": [
    "# use Pandas dataframes to aggregate all entity matches together for a single sentence\n",
    "agg_rules = {'Sentence': 'first', 'Phrase': 'first', 'MatchInfo': lambda x: ', '.join(x)}\n",
    "res = df.groupby('Index').agg(agg_rules)\n",
    "#print(res)\n",
    "\n",
    "# Now format it just like what is needed for the spaCy training module: \n",
    "# E.g.:\n",
    "# ('Eight-Twelve is a six-rowed winter feed barley', {'entities': [(0, 12, 'CVAR'), (18, 27, 'TRAT'), (28, 39, 'TRAT'),(40, 46, 'CROP')]}),\n",
    "records = res.to_dict('records')\n",
    "print(\"TRAIN_DATA = [\")\n",
    "maxr = len(records)\n",
    "for i in range(0,maxr):\n",
    "    print(\"    ('\"+records[i]['Sentence']+\"', {'entities': [\"+cleanIntervals(records[i]['MatchInfo'])+\"]})\", end='')\n",
    "    if (i == maxr-1):\n",
    "        print()\n",
    "    else:\n",
    "        print(\",\")\n",
    "\n",
    "print(\"]\")"
   ]
  },
  {
   "cell_type": "markdown",
   "metadata": {},
   "source": [
    "In my current process, I am writing the above content to a file e.g., `Data/DavisLJ11/barley_p5_td.py`, adding any manual corrections (usually PED and JRNL entries) and then running the script `python3 py2json.py --doc 'BarCvDescLJ11.pdf' --url 'https://smallgrains.ucdavis.edu/cereal_files/BarCvDescLJ11.pdf' --chunk 5 Data/DavisLJ11/barley_p5_td.py Data/DavisLJ11/barley_p5_td.json` to create the JSON file for Training."
   ]
  }
 ],
 "metadata": {
  "kernelspec": {
   "display_name": "Python 3",
   "language": "python",
   "name": "python3"
  },
  "language_info": {
   "codemirror_mode": {
    "name": "ipython",
    "version": 3
   },
   "file_extension": ".py",
   "mimetype": "text/x-python",
   "name": "python",
   "nbconvert_exporter": "python",
   "pygments_lexer": "ipython3",
   "version": "3.6.9"
  }
 },
 "nbformat": 4,
 "nbformat_minor": 2
}
