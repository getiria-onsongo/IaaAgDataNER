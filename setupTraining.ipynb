{
 "cells": [
  {
   "cell_type": "markdown",
   "metadata": {},
   "source": [
    "# Generate Training Data"
   ]
  },
  {
   "cell_type": "markdown",
   "metadata": {},
   "source": [
    "We wish to speed up the process of having a human being name entities that they recognize in a paragraph, and having their positions in the paragraph identified and placed in a syntax usable by spaCy's NER training routine."
   ]
  },
  {
   "cell_type": "markdown",
   "metadata": {},
   "source": [
    "## Open PDF file, extract page two and display as sentences"
   ]
  },
  {
   "cell_type": "code",
   "execution_count": 14,
   "metadata": {
    "scrolled": false
   },
   "outputs": [
    {
     "name": "stdout",
     "output_type": "stream",
     "text": [
      "0 :   other soft white spring wheat varieties over four irrigated locations, but in 2019 (Table 42) irrigated yields were below average and similar to Louise.\n",
      "1 :  Under dryland conditions, yield was similar to SY Saltese and WB6430\n",
      "2 :  (Table 47).\n",
      "3 :  Ryan has Hessian fly resistance, tolerance to low acid / high aluminum soils, and HTAP (high temperature adult plant) resistance to stripe rust.\n",
      "4 :  Ryan was early to heading, similar to UI Pettit, was shorter than average, had good test weight and resistance to lodging.  \n",
      "5 :  Seahawk (WA8162)  a soft white spring wheat released from Washington State  ram in 2014 adapted to dryland and irrigated production areas.\n",
      "6 :  Seahawk has resistance to Hessian fly, is very resistant to stripe rust, and one of the least susceptible soft white spring wheats to FHB.\n",
      "7 :  Seahawk has tolerance to high aluminum, low pH soils.\n",
      "8 :  Yield and test weight has been one the highest of all currently available soft white springs, with similar to UI Stone and WB6430\n",
      "9 :  (Table 40).\n",
      "10 :  Plant height is a little above average and heading date 2-4 days later than average.\n",
      "11 :  Seahawk may have a tendency to lodge under high production practices.   \n",
      "12 :  SY Saltese (SY3024-2)  a soft white spring wheat released in 2016 by Syngenta Cereals.\n",
      "13 :  SY Saltese has yield potential similar to Seahawk and UI Stone.\n",
      "14 :  Averaged over three years and four irrigated locations, SY Saltese yielded 120 bu/A (see Table 40).\n",
      "15 :  In 2019, SY Saltese yields were 7 bu below WB6121, and 3 bu/A greater than UI Stone (Table 42).\n",
      "16 :  SY Saltese also has good test weight and resistance to stripe rust (SR), but may be susceptible to currently developing SR races.\n",
      "17 :  SY Saltese may lodge under higher production situations and is susceptible to FHB.\n",
      "18 :  SY Saltese is also susceptible to Hessian fly.\n",
      "19 :  Tekoa (WA8189)  a Washington State University 2016 release, Tekoa is a soft white spring wheat released for higher rainfall areas and will do well under irrigated conditions (Table 40).\n",
      "20 :  Tekoa did not yield as well in areas where irrigation was restricted at the end of the growing season.\n",
      "21 :  In 2018 and 2019, Tekoa yields were at trial average.\n",
      "22 :  Tekoa is adapted to low pH soils where aluminum toxicity can occur.\n",
      "23 :  Tekoa has good test weight, is a little later in maturity (heading date) than average and average for plant height.\n",
      "24 :  Tekoa is resistant to stripe rust, Hessian fly, and moderately resistant to FHB, similar to Seahawk.  \n",
      "25 :  UI Cookie (IDO1405S)  a soft white spring wheat released in 2019 by the University of Idaho Ag Experiment Station.\n",
      "26 :  Three-year irrigated averages (Table 47) show UI Cookie above trial average for yield, lower for test weight and higher for grain protein.\n",
      "27 :  UI Cookie has good end-use quality, similar or better resistance to FHB than UI Stone, better resistance to stripe rust and improved threshability.  \n",
      "28 :  UI Pettit (IDO632)  is a soft white spring wheat released in 2006 through the Idaho AES.\n",
      "29 :  Yields and test weight are lower than average.\n",
      "30 :  UI Pettit is short and heads 3-5 days earlier than Alturas.\n",
      "31 :  UI Pettit is very susceptible to current races of stripe rust and to FHB.    \n",
      "32 :  UI Stone (IDO599) - a soft white spring wheat released by Idaho AES in 2012\n",
      "33 :  , UI Stone has high yield potential, consistently greater than UI Pettit and similar to Alturas (Table 40).\n",
      "34 :  UI Stone was selected for good end-use quality and reduced FHB susceptibility (carries the Fhb1 resistance gene).\n",
      "35 :  In 2019, UI Stone yielded similar to Seahawk and about 10 bu/A below WB6121 (Table 42).\n",
      "36 :  The FHB reaction in UI Stone is\n"
     ]
    }
   ],
   "source": [
    "import spacy\n",
    "import PyPDF2\n",
    "nlp = spacy.load('en_core_web_sm')\n",
    "\n",
    "#Open PDF file for reading\n",
    "# pdfFile = open(\"BarCvDescLJ11.pdf\", mode=\"rb\")\n",
    "pdfFile = open(\"Data/UIdaho2019/small-grains-report_2019.pdf\", mode=\"rb\")\n",
    "pdfReader = PyPDF2.PdfFileReader(pdfFile)\n",
    "\n",
    "# Select a page to work on\n",
    "pageNumber = 49\n",
    "\n",
    "# Get text\n",
    "OnePage = pdfReader.getPage(pageNumber-1) #0-based count\n",
    "OnePageText = OnePage.extractText()\n",
    "\n",
    "# Close PDF file\n",
    "pdfFile.close()\n",
    "\n",
    "# Remove newlinesxmx82k-&a. It appears multiple newlines together makes\n",
    "# Spacy think that is the end of a sentence. The PDF reader reads the text in\n",
    "# an odd fashion\n",
    "OnePageText = OnePageText.replace('\\n','')\n",
    "\n",
    "# create a spaCy doc object from the page and break it into sentences\n",
    "doc = nlp(OnePageText)\n",
    "l=0\n",
    "for sent in doc.sents:\n",
    "     print(l, \": \", sent)\n",
    "     l = l+1\n"
   ]
  },
  {
   "cell_type": "markdown",
   "metadata": {},
   "source": [
    "## Read in Per-line named entity file and match entities to sentence positions."
   ]
  },
  {
   "cell_type": "code",
   "execution_count": 16,
   "metadata": {},
   "outputs": [
    {
     "name": "stdout",
     "output_type": "stream",
     "text": [
      "    Index                                           Sentence    Phrase  \\\n",
      "0       0   other soft white spring wheat varieties over ...      soft   \n",
      "1       0   other soft white spring wheat varieties over ...     white   \n",
      "2       0   other soft white spring wheat varieties over ...    spring   \n",
      "3       0   other soft white spring wheat varieties over ...     wheat   \n",
      "4       0   other soft white spring wheat varieties over ...      2019   \n",
      "..    ...                                                ...       ...   \n",
      "167    34  UI Stone was selected for good end-use quality...       FHB   \n",
      "168    35  In 2019, UI Stone yielded similar to Seahawk a...      2019   \n",
      "169    35  In 2019, UI Stone yielded similar to Seahawk a...  UI Stone   \n",
      "170    35  In 2019, UI Stone yielded similar to Seahawk a...   yielded   \n",
      "171    35  In 2019, UI Stone yielded similar to Seahawk a...   Seahawk   \n",
      "\n",
      "            MatchInfo  \n",
      "0     (7, 11, 'TRAT')  \n",
      "1    (12, 17, 'TRAT')  \n",
      "2    (18, 24, 'TRAT')  \n",
      "3    (25, 30, 'CROP')  \n",
      "4    (79, 83, 'DATE')  \n",
      "..                ...  \n",
      "167  (59, 62, 'PATH')  \n",
      "168    (3, 7, 'DATE')  \n",
      "169   (9, 17, 'CVAR')  \n",
      "170  (18, 25, 'TRAT')  \n",
      "171  (37, 44, 'CVAR')  \n",
      "\n",
      "[172 rows x 4 columns]\n"
     ]
    }
   ],
   "source": [
    "import re\n",
    "import csv\n",
    "import pandas as pd\n",
    "\n",
    "#fname = \"Data/DavisLJ11/barley_p\"+str(pageNumber)+\"_ner.txt\"\n",
    "fname = \"Data/UIdaho2019/barley_p\"+str(pageNumber-40)+\"_ner.txt\" # Note p1 = 41 in the document\n",
    "\n",
    "# Covert the nlp senetence generator into a list of sentences\n",
    "sentences = list(doc.sents)\n",
    "\n",
    "# Open the file of manually matched pairs (sentence # <tab> word phrase <tab> named entity)\n",
    "# e.g.:\n",
    "#  0      AC Metcalfe     CVAR\n",
    "#  0      two-rowed       TRAT\n",
    "#  0      barley          CROP\n",
    "#  1      Agri-Food Candada   ORG\n",
    "#  1      1997    DATE\n",
    "file = open(fname)\n",
    "reader = csv.reader(file, delimiter='\\t', quoting=csv.QUOTE_NONE)\n",
    "data = list()\n",
    "\n",
    "for row in reader:\n",
    "    try:\n",
    "        (sentIndex, phrase, label) = row\n",
    "        sent = sentences[int(sentIndex)].string.rstrip()\n",
    "        \n",
    "        # find all instances of the 'phrase' in the 'sent'.\n",
    "        iter = re.finditer(r\"\\b\"+phrase+r\"\\b\", sent)\n",
    "        indices = [m.start(0) for m in iter]\n",
    "        \n",
    "        # check to make sure the phrase the user said was there was indeed found\n",
    "        if len(indices) == 0:\n",
    "            raise ValueError\n",
    "                \n",
    "        # print out all instances\n",
    "        for i in indices:\n",
    "#            print(sentIndex, sent, phrase, \"(\"+str(i), i+len(phrase), \"'\"+label+\"')\")\n",
    "            data.append([sentIndex, sent, phrase, \"(\"+str(i)+\", \"+str(i+len(phrase))+\", '\"+label+\"')\"])\n",
    "            \n",
    "    except:\n",
    "        print(\"Handle manually: \", row)\n",
    "        \n",
    "df = pd.DataFrame(data, columns = [\"Index\", \"Sentence\", \"Phrase\", \"MatchInfo\"])\n",
    "print(df)\n"
   ]
  },
  {
   "cell_type": "markdown",
   "metadata": {},
   "source": [
    "## Create a function to clean up overlapping intervals"
   ]
  },
  {
   "cell_type": "code",
   "execution_count": 17,
   "metadata": {},
   "outputs": [
    {
     "data": {
      "text/plain": [
       "\"(0, 12, 'CVAR'), (39, 49, 'CVAR'), (71, 77, 'CVAR'), (92, 113, 'TRAT'), (140, 150, 'CVAR'), (181, 187, 'CVAR')\""
      ]
     },
     "execution_count": 17,
     "metadata": {},
     "output_type": "execute_result"
    }
   ],
   "source": [
    "import re\n",
    "coordRegex = re.compile(r'(\\d+), (\\d+)')\n",
    "\n",
    "def sortByStart(coords):\n",
    "    \"\"\"For use in sort routines, return object with lowest (X,Y) values\"\"\"\n",
    "    # split out coordinates that come in as (5, 7, 'CVAR')\n",
    "    mo = coordRegex.search(coords)\n",
    "    return(int(mo.group(1)))\n",
    "\n",
    "def overlaps(coord1, coord2):\n",
    "    \"\"\"Check if coordinates of the form 5, 7, 'CVAR' and 32, 46, 'TRAT' overlap\"\"\"\n",
    "    mo1 = coordRegex.search(coord1)\n",
    "    mo2 = coordRegex.search(coord2)\n",
    "    coord1Low = int(mo1.group(1))\n",
    "    coord1High = int(mo1.group(2))\n",
    "    coord2Low = int(mo2.group(1))\n",
    "    coord2High = int(mo2.group(2))\n",
    "    \n",
    "    if ((coord1High >= coord2Low) and (coord1Low <= coord2Low) or\n",
    "        (coord2High >= coord1Low) and (coord2Low <= coord1Low)):\n",
    "        return True\n",
    "    else:\n",
    "        return False\n",
    "\n",
    "def keepFirst(coord1, coord2):\n",
    "    \"\"\"Given overlapping coordinates, return the wider encompassing one.\"\"\"\n",
    "    mo1 = coordRegex.search(coord1)\n",
    "    mo2 = coordRegex.search(coord2)\n",
    "    coord1Low = int(mo1.group(1))\n",
    "    coord1High = int(mo1.group(2))\n",
    "    coord2Low = int(mo2.group(1))\n",
    "    coord2High = int(mo2.group(2))\n",
    " \n",
    "    if (int(coord1High) - int(coord1Low)) >= (int(coord2High) - int(coord2Low)):\n",
    "        return True\n",
    "    else:\n",
    "        return False\n",
    "\n",
    "# print(\"Should be false:\", overlaps(\"(5, 7, 'CVAR')\", \"(32, 46, 'TRAT')\"))\n",
    "# print(\"Should be true:\", overlaps(\"(26, 46, 'TRAT')\", \"(32, 46, 'TRAT')\"))\n",
    "# print(\"Should be true:\", overlaps(\"(26, 46, 'TRAT')\", \"(26, 46, 'TRAT')\"))\n",
    "# print(\"Keeper:\", keepFirst(\"34, 46, 'TRAT'\", \"34, 46, 'TRAT'\"))\n",
    "\n",
    "def cleanIntervals(inputString=\"\"):\n",
    "    \"\"\"order intervals like (5, 7, 'CVAR'), (32, 46, 'TRAT'), (26, 46, 'TRAT') and remove overlapping ones.\"\"\"\n",
    "    inputString = inputString.lstrip(\"(\").rstrip(\")\")\n",
    "    intervalList = inputString.split(\"), (\")\n",
    "    intervalList.sort(key = sortByStart)\n",
    "#    print(\"Sorted Interval List:\", intervalList)\n",
    "\n",
    "    # Pairwise compare every interval in the list to every other interval to check overlap\n",
    "    keeperList = [True]*len(intervalList) # Logic array to determine if each interval should be kept\n",
    "    i=0\n",
    "    for interval1 in intervalList:\n",
    "        for interval2 in intervalList:\n",
    "            if interval1 == interval2:\n",
    "                if intervalList.index(interval1) != i: # when both are the same we reject the higher one\n",
    "                    keeperList[i] = False\n",
    "            else:\n",
    "                if overlaps(interval1, interval2) and keepFirst(interval1, interval2) == False:\n",
    "                    keeperList[i] = False\n",
    "        i = i+1\n",
    "        \n",
    "#    print(\"keeperList:\", keeperList)\n",
    "   \n",
    "    # Build up the return interval list\n",
    "    returnStr = \"(\"\n",
    "    for interval, isKeeper in zip(intervalList, keeperList):\n",
    "        if isKeeper:\n",
    "            returnStr = returnStr + interval + \"), (\"\n",
    "    return (returnStr.rstrip(\"), (\") + \")\")\n",
    "        \n",
    "# cleanIntervals(\"(5, 7, 'CVAR'), (32, 46, 'TRAT'), (5, 9, 'CVAR'), (48, 55, 'ORG'), (26, 46, 'TRAT')\")\n",
    "# cleanIntervals(\"(0, 8, 'CVAR'), (0, 5, 'CVAR'), (21, 26, 'PLAN'), (32, 37, 'CVAR')\")\n",
    "cleanIntervals(\"(0, 12, 'CVAR'), (39, 49, 'CVAR'), (39, 49, 'CVAR'), (71, 77, 'CVAR'), (71, 77, 'CVAR'), (92, 113, 'TRAT'), (140, 150, 'CVAR'), (140, 150, 'CVAR'), (181, 187, 'CVAR'), (181, 187, 'CVAR')\")\n"
   ]
  },
  {
   "cell_type": "markdown",
   "metadata": {},
   "source": [
    "## Aggregate all matches for each sentence on a single line and output in spaCy training format"
   ]
  },
  {
   "cell_type": "code",
   "execution_count": 18,
   "metadata": {
    "scrolled": false
   },
   "outputs": [
    {
     "name": "stdout",
     "output_type": "stream",
     "text": [
      "TRAIN_DATA = [\n",
      "    (' other soft white spring wheat varieties over four irrigated locations, but in 2019 (Table 42) irrigated yields were below average and similar to Louise.', {'entities': [(7, 11, 'TRAT'), (12, 17, 'TRAT'), (18, 24, 'TRAT'), (25, 30, 'CROP'), (79, 83, 'DATE'), (95, 111, 'TRAT'), (146, 152, 'CVAR')]}),\n",
      "    ('Under dryland conditions, yield was similar to SY Saltese and WB6430', {'entities': [(26, 31, 'TRAT'), (47, 57, 'CVAR'), (62, 68, 'CVAR')]}),\n",
      "    ('Plant height is a little above average and heading date 2-4 days later than average.', {'entities': [(0, 12, 'TRAT'), (43, 55, 'TRAT')]}),\n",
      "    ('Seahawk may have a tendency to lodge under high production practices.', {'entities': [(0, 7, 'CVAR'), (31, 36, 'TRAT')]}),\n",
      "    ('SY Saltese (SY3024-2)  a soft white spring wheat released in 2016 by Syngenta Cereals.', {'entities': [(0, 10, 'CVAR'), (12, 20, 'ALAS'), (25, 29, 'TRAT'), (30, 35, 'TRAT'), (36, 42, 'TRAT'), (43, 48, 'CROP'), (61, 65, 'DATE'), (69, 85, 'ORG')]}),\n",
      "    ('SY Saltese has yield potential similar to Seahawk and UI Stone.', {'entities': [(0, 10, 'CVAR'), (15, 30, 'TRAT'), (42, 49, 'CVAR'), (54, 62, 'CVAR')]}),\n",
      "    ('Averaged over three years and four irrigated locations, SY Saltese yielded 120 bu/A (see Table 40).', {'entities': [(56, 66, 'CVAR'), (67, 74, 'TRAT')]}),\n",
      "    ('In 2019, SY Saltese yields were 7 bu below WB6121, and 3 bu/A greater than UI Stone (Table 42).', {'entities': [(3, 7, 'DATE'), (9, 19, 'CVAR'), (20, 26, 'TRAT'), (75, 83, 'CVAR')]}),\n",
      "    ('SY Saltese also has good test weight and resistance to stripe rust (SR), but may be susceptible to currently developing SR races.', {'entities': [(0, 10, 'CVAR'), (25, 36, 'TRAT'), (41, 51, 'PPTD'), (55, 66, 'PATH'), (68, 70, 'PATH'), (84, 95, 'PPTD'), (99, 128, 'PATH')]}),\n",
      "    ('SY Saltese may lodge under higher production situations and is susceptible to FHB.', {'entities': [(0, 10, 'CVAR'), (15, 20, 'TRAT'), (63, 74, 'PPTD'), (78, 81, 'PATH')]}),\n",
      "    ('SY Saltese is also susceptible to Hessian fly.', {'entities': [(0, 10, 'CVAR'), (19, 30, 'PPTD'), (34, 45, 'PATH')]}),\n",
      "    ('Tekoa (WA8189)  a Washington State University 2016 release, Tekoa is a soft white spring wheat released for higher rainfall areas and will do well under irrigated conditions (Table 40).', {'entities': [(0, 5, 'CVAR'), (7, 13, 'ALAS'), (18, 45, 'ORG'), (46, 50, 'DATE'), (60, 65, 'CVAR'), (71, 75, 'TRAT'), (76, 81, 'TRAT'), (82, 88, 'TRAT'), (89, 94, 'CROP')]}),\n",
      "    ('Tekoa did not yield as well in areas where irrigation was restricted at the end of the growing season.', {'entities': [(0, 5, 'CVAR'), (14, 19, 'TRAT')]}),\n",
      "    ('In 2018 and 2019, Tekoa yields were at trial average.', {'entities': [(3, 7, 'DATE'), (12, 16, 'DATE'), (18, 23, 'CVAR'), (24, 30, 'TRAT')]}),\n",
      "    ('Tekoa is adapted to low pH soils where aluminum toxicity can occur.', {'entities': [(0, 5, 'CVAR'), (9, 32, 'TRAT')]}),\n",
      "    ('Tekoa has good test weight, is a little later in maturity (heading date) than average and average for plant height.', {'entities': [(0, 5, 'CVAR'), (15, 26, 'TRAT'), (49, 57, 'TRAT'), (59, 71, 'TRAT'), (102, 114, 'TRAT')]}),\n",
      "    ('Tekoa is resistant to stripe rust, Hessian fly, and moderately resistant to FHB, similar to Seahawk.', {'entities': [(0, 5, 'CVAR'), (9, 18, 'PPTD'), (22, 33, 'PATH'), (35, 46, 'PATH'), (52, 72, 'PPTD'), (76, 79, 'PATH'), (92, 99, 'CVAR')]}),\n",
      "    ('UI Cookie (IDO1405S)  a soft white spring wheat released in 2019 by the University of Idaho Ag Experiment Station.', {'entities': [(0, 9, 'CVAR'), (11, 19, 'ALAS'), (24, 28, 'TRAT'), (29, 34, 'TRAT'), (35, 41, 'TRAT'), (42, 47, 'CROP'), (60, 64, 'DATE'), (72, 113, 'ORG')]}),\n",
      "    ('Three-year irrigated averages (Table 47) show UI Cookie above trial average for yield, lower for test weight and higher for grain protein.', {'entities': [(46, 55, 'CVAR'), (80, 85, 'TRAT'), (97, 108, 'TRAT'), (124, 137, 'TRAT')]}),\n",
      "    ('UI Cookie has good end-use quality, similar or better resistance to FHB than UI Stone, better resistance to stripe rust and improved threshability.', {'entities': [(0, 9, 'CVAR'), (19, 34, 'TRAT'), (54, 64, 'PPTD'), (68, 71, 'PATH'), (77, 85, 'CVAR'), (94, 104, 'PPTD'), (108, 119, 'PATH'), (133, 146, 'TRAT')]}),\n",
      "    ('UI Pettit (IDO632)  is a soft white spring wheat released in 2006 through the Idaho AES.', {'entities': [(0, 9, 'CVAR'), (11, 17, 'ALAS'), (25, 29, 'TRAT'), (30, 35, 'TRAT'), (36, 42, 'TRAT'), (43, 48, 'CROP'), (61, 65, 'DATE'), (78, 87, 'ORG')]}),\n",
      "    ('Yields and test weight are lower than average.', {'entities': [(0, 6, 'TRAT'), (11, 22, 'TRAT')]}),\n",
      "    ('Ryan has Hessian fly resistance, tolerance to low acid / high aluminum soils, and HTAP (high temperature adult plant) resistance to stripe rust.', {'entities': [(0, 4, 'CVAR'), (9, 20, 'PATH'), (21, 31, 'PPTD'), (118, 128, 'PPTD'), (132, 143, 'PATH')]}),\n",
      "    ('UI Pettit is short and heads 3-5 days earlier than Alturas.', {'entities': [(0, 9, 'CVAR'), (13, 18, 'TRAT'), (23, 28, 'TRAT'), (51, 58, 'CVAR')]}),\n",
      "    ('UI Pettit is very susceptible to current races of stripe rust and to FHB.', {'entities': [(0, 9, 'CVAR'), (13, 29, 'PPTD'), (33, 61, 'PATH'), (69, 72, 'PATH')]}),\n",
      "    ('UI Stone (IDO599) - a soft white spring wheat released by Idaho AES in 2012', {'entities': [(0, 8, 'CVAR'), (10, 16, 'ALAS'), (22, 26, 'TRAT'), (27, 32, 'TRAT'), (33, 39, 'TRAT'), (40, 45, 'CROP'), (58, 67, 'ORG'), (71, 75, 'DATE')]}),\n",
      "    (', UI Stone has high yield potential, consistently greater than UI Pettit and similar to Alturas (Table 40).', {'entities': [(2, 10, 'CVAR'), (20, 35, 'TRAT'), (63, 72, 'CVAR'), (88, 95, 'CVAR')]}),\n",
      "    ('UI Stone was selected for good end-use quality and reduced FHB susceptibility (carries the Fhb1 resistance gene).', {'entities': [(0, 8, 'CVAR'), (31, 46, 'TRAT'), (59, 62, 'PATH'), (63, 77, 'PPTD')]}),\n",
      "    ('In 2019, UI Stone yielded similar to Seahawk and about 10 bu/A below WB6121 (Table 42).', {'entities': [(3, 7, 'DATE'), (9, 17, 'CVAR'), (18, 25, 'TRAT'), (37, 44, 'CVAR')]}),\n",
      "    ('Ryan was early to heading, similar to UI Pettit, was shorter than average, had good test weight and resistance to lodging.', {'entities': [(0, 4, 'CVAR'), (18, 25, 'TRAT'), (38, 47, 'CVAR'), (53, 60, 'TRAT'), (84, 95, 'TRAT'), (100, 121, 'TRAT')]}),\n",
      "    ('Seahawk (WA8162)  a soft white spring wheat released from Washington State  ram in 2014 adapted to dryland and irrigated production areas.', {'entities': [(0, 7, 'CVAR'), (9, 15, 'ALAS'), (20, 24, 'TRAT'), (25, 30, 'TRAT'), (31, 37, 'TRAT'), (38, 43, 'CROP'), (58, 74, 'ORG'), (83, 87, 'DATE')]}),\n",
      "    ('Seahawk has resistance to Hessian fly, is very resistant to stripe rust, and one of the least susceptible soft white spring wheats to FHB.', {'entities': [(0, 7, 'CVAR'), (12, 22, 'PPTD'), (26, 37, 'PATH'), (42, 56, 'PPTD'), (60, 71, 'PATH'), (88, 105, 'PPTD'), (106, 110, 'TRAT'), (111, 116, 'TRAT'), (117, 123, 'TRAT'), (124, 130, 'CROP'), (134, 137, 'PATH')]}),\n",
      "    ('Yield and test weight has been one the highest of all currently available soft white springs, with similar to UI Stone and WB6430', {'entities': [(0, 5, 'TRAT'), (10, 21, 'TRAT'), (74, 78, 'TRAT'), (79, 84, 'TRAT'), (85, 92, 'TRAT'), (110, 118, 'CVAR'), (123, 129, 'CVAR')]})\n",
      "]\n"
     ]
    }
   ],
   "source": [
    "# use Pandas dataframes to aggregate all entity matches together for a single sentence\n",
    "agg_rules = {'Sentence': 'first', 'Phrase': 'first', 'MatchInfo': lambda x: ', '.join(x)}\n",
    "res = df.groupby('Index').agg(agg_rules)\n",
    "#print(res)\n",
    "\n",
    "# Now format it just like what is needed for the spaCy training module: \n",
    "# E.g.:\n",
    "# ('Eight-Twelve is a six-rowed winter feed barley', {'entities': [(0, 12, 'CVAR'), (18, 27, 'TRAT'), (28, 39, 'TRAT'),(40, 46, 'CROP')]}),\n",
    "records = res.to_dict('records')\n",
    "print(\"TRAIN_DATA = [\")\n",
    "maxr = len(records)\n",
    "for i in range(0,maxr):\n",
    "    print(\"    ('\"+records[i]['Sentence']+\"', {'entities': [\"+cleanIntervals(records[i]['MatchInfo'])+\"]})\", end='')\n",
    "    if (i == maxr-1):\n",
    "        print()\n",
    "    else:\n",
    "        print(\",\")\n",
    "\n",
    "print(\"]\")"
   ]
  },
  {
   "cell_type": "markdown",
   "metadata": {},
   "source": [
    "In my current process, I am writing the above content to a file e.g., `Data/DavisLJ11/barley_p5_td.py`, adding any manual corrections (usually PED and JRNL entries) and then running the script `python3 py2json.py --doc 'BarCvDescLJ11.pdf' --url 'https://smallgrains.ucdavis.edu/cereal_files/BarCvDescLJ11.pdf' --chunk 5 Data/DavisLJ11/barley_p5_td.py Data/DavisLJ11/barley_p5_td.json` to create the JSON file for Training."
   ]
  }
 ],
 "metadata": {
  "kernelspec": {
   "display_name": "Python 3",
   "language": "python",
   "name": "python3"
  },
  "language_info": {
   "codemirror_mode": {
    "name": "ipython",
    "version": 3
   },
   "file_extension": ".py",
   "mimetype": "text/x-python",
   "name": "python",
   "nbconvert_exporter": "python",
   "pygments_lexer": "ipython3",
   "version": "3.6.9"
  }
 },
 "nbformat": 4,
 "nbformat_minor": 2
}
