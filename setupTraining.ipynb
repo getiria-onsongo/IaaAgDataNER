{
 "cells": [
  {
   "cell_type": "markdown",
   "metadata": {},
   "source": [
    "# Generate Training Data"
   ]
  },
  {
   "cell_type": "markdown",
   "metadata": {},
   "source": [
    "We wish to speed up the process of having a human being name entities that they recognize in a paragraph, and having their positions in the paragraph identified and placed in a syntax usable by spaCy's NER training routine."
   ]
  },
  {
   "cell_type": "markdown",
   "metadata": {},
   "source": [
    "## Open PDF file, extract page two and display as sentences"
   ]
  },
  {
   "cell_type": "code",
   "execution_count": 15,
   "metadata": {
    "scrolled": false
   },
   "outputs": [
    {
     "name": "stdout",
     "output_type": "stream",
     "text": [
      "0 :  was greater than average in grain yield (Table 49), similar to LCS Genie with slightly lower test weight.\n",
      "1 :  Heading date, protein, plump and test weight were at trial averages.\n",
      "2 :  Explorer is shorter than average and lower than average for lodging.\n",
      "3 :  Explorer has good resistance to leaf diseases and is widely adapted.\n",
      "4 :  Explorer is a French maltsters preferred variety with excellent malting and brewing, and is good for distilling (whiskey).\n",
      "5 :  It also is currently favored by ABInBev in Europe for brewing.\n",
      "6 :  Fandaga  \n",
      "7 :  a European malting barley bred through Nordsaat\n",
      "8 :  , Fandaga was approved as a malting barley by French CBMO Committee in 2018, and was first in these trials in 2019 (one year, Table 50, Chart 8).\n",
      "9 :  Fandaga has resistance to powdery mildew, excellent agronomic advantages and high yield consistency in Europe.  \n",
      "10 :  In 2019, Fandage yields were similar to Bente, averaging 143 bu/A, similar to Moravian 179, with lower test weight.\n",
      "11 :  Heading was five days earlier than average, and even with high lodging, Fandaga had good plumps and test weight.\n",
      "12 :  Fangio (SC 9447 S2)  \n",
      "13 :  Fangio is a two-rowed malt barley newly released in 2019 and developed through the North Dakota State University barley breeding program.\n",
      "14 :  In the first year of the trials, Fangio yields were below trial average, comparable to CDC Copeland (Table 50 and Chart 8).\n",
      "15 :  Test weight was below average but still above the 48 lb/bu test weight required for No. 1 barley.\n",
      "16 :  Heading date was four days later than average, and two days later than CDC Copeland.\n",
      "17 :  Fangio was shorter than average with less than average lodging.  \n",
      "18 :  Full Pint  released in 2014 by Oregon State University for the Craft market, Full Pint was tested in 2018 and 2019 in the eastern Idaho variety trials.\n",
      "19 :  Yields averaged greater than LCS Genie and Moravian 69, with excellent test weight and protein (Table 50).\n",
      "20 :  Full Pint was early for heading, slightly shorter than average, with lower lodging and test weight.\n",
      "21 :  Plumps and protein were good.  \n",
      "22 :  GemCraft (2Ab08-X05M010-65)  released by the USDA-ARS and Idaho AES in 2018\n",
      "23 :  , GemCraft is a 2-row malt barley released for the craft industry and favored by the Brewers Association due to its good taste profile.\n",
      "24 :  Overall a great performing agronomic line, yields, test weight and plumps in 2019 were below Conrad.\n",
      "25 :  Taller than average with medium maturity, lodging tends to be greater under irrigated production systems.\n",
      "26 :  GemCraft was released under PVP.\n",
      "27 :  LCS Genie  \n",
      "28 :  a European malt barley released in the U.S. through Limagrain Cereal Seeds, Genie is a short-statured two-rowed malt variety with yields slightly greater and test weight less than ABI Voyager.\n",
      "29 :  Protein and plumps of Genie were at trial averages (Table 49).\n",
      "30 :  LCS Genie is about 3-5 inches shorter than average with average lodging.\n",
      "31 :  Genie is susceptible to FHB and had high levels of DON in seed in the FHB disease nurseries.\n",
      "32 :  Genie has excellent malt quality and can also be used in distilling.\n",
      "33 :  LCS Odyssey  LCS Odyssey is a European two-rowed malt barley released and distributed through Limagrain Cereal Seeds.\n",
      "34 :  In three years of testing, LCS Odyssey was the highest yielding variety, comparable to LCS Genie and ABI Voyager (Table 49).\n",
      "35 :  Test weights were lower and lodging was average, even as LCS Odyssey is 3-5 inches shorter than the trial average.\n",
      "36 :  Heading date is one to three days later than average and similar to LCS Genie.\n",
      "37 :  Proteins were average, and plumps were good.\n",
      "38 :  LCS Odyssey is more susceptible than current\n"
     ]
    }
   ],
   "source": [
    "import spacy\n",
    "import PyPDF2\n",
    "nlp = spacy.load('en_core_web_sm')\n",
    "\n",
    "#Open PDF file for reading\n",
    "# pdfFile = open(\"BarCvDescLJ11.pdf\", mode=\"rb\")\n",
    "pdfFile = open(\"Data/UIdaho2019/small-grains-report_2019.pdf\", mode=\"rb\")\n",
    "pdfReader = PyPDF2.PdfFileReader(pdfFile)\n",
    "\n",
    "# Select a page to work on\n",
    "pageNumber = 43\n",
    "\n",
    "# Get text\n",
    "OnePage = pdfReader.getPage(pageNumber-1) #0-based count\n",
    "OnePageText = OnePage.extractText()\n",
    "\n",
    "# Close PDF file\n",
    "pdfFile.close()\n",
    "\n",
    "# Remove newlinesxmx82k-&a. It appears multiple newlines together makes\n",
    "# Spacy think that is the end of a sentence. The PDF reader reads the text in\n",
    "# an odd fashion\n",
    "OnePageText = OnePageText.replace('\\n','')\n",
    "\n",
    "# create a spaCy doc object from the page and break it into sentences\n",
    "doc = nlp(OnePageText)\n",
    "l=0\n",
    "for sent in doc.sents:\n",
    "     print(l, \": \", sent)\n",
    "     l = l+1\n"
   ]
  },
  {
   "cell_type": "markdown",
   "metadata": {},
   "source": [
    "## Read in Per-line named entity file and match entities to sentence positions."
   ]
  },
  {
   "cell_type": "code",
   "execution_count": 20,
   "metadata": {},
   "outputs": [
    {
     "name": "stdout",
     "output_type": "stream",
     "text": [
      "    Index                                           Sentence        Phrase  \\\n",
      "0       2  Explorer is shorter than average and lower tha...      Explorer   \n",
      "1       2  Explorer is shorter than average and lower tha...       shorter   \n",
      "2       2  Explorer is shorter than average and lower tha...       lodging   \n",
      "3       3  Explorer has good resistance to leaf diseases ...      Explorer   \n",
      "4       3  Explorer has good resistance to leaf diseases ...    resistance   \n",
      "..    ...                                                ...           ...   \n",
      "115    35  Test weights were lower and lodging was averag...       shorter   \n",
      "116    36  Heading date is one to three days later than a...  Heading date   \n",
      "117    36  Heading date is one to three days later than a...     LCS Genie   \n",
      "118    37       Proteins were average, and plumps were good.      Proteins   \n",
      "119    37       Proteins were average, and plumps were good.        plumps   \n",
      "\n",
      "            MatchInfo  \n",
      "0      (0, 8, 'CVAR')  \n",
      "1    (12, 19, 'TRAT')  \n",
      "2    (60, 67, 'TRAT')  \n",
      "3      (0, 8, 'CVAR')  \n",
      "4    (18, 28, 'PPTD')  \n",
      "..                ...  \n",
      "115  (83, 90, 'TRAT')  \n",
      "116   (0, 12, 'TRAT')  \n",
      "117  (68, 77, 'CVAR')  \n",
      "118    (0, 8, 'TRAT')  \n",
      "119  (27, 33, 'TRAT')  \n",
      "\n",
      "[120 rows x 4 columns]\n"
     ]
    }
   ],
   "source": [
    "import re\n",
    "import csv\n",
    "import pandas as pd\n",
    "\n",
    "#fname = \"Data/DavisLJ11/barley_p\"+str(pageNumber)+\"_ner.txt\"\n",
    "fname = \"Data/UIdaho2019/barley_p\"+str(pageNumber-40)+\"_ner.txt\" # Note p1 = 41 in the document\n",
    "\n",
    "# Covert the nlp senetence generator into a list of sentences\n",
    "sentences = list(doc.sents)\n",
    "\n",
    "# Open the file of manually matched pairs (sentence # <tab> word phrase <tab> named entity)\n",
    "# e.g.:\n",
    "#  0      AC Metcalfe     CVAR\n",
    "#  0      two-rowed       TRAT\n",
    "#  0      barley          CROP\n",
    "#  1      Agri-Food Candada   ORG\n",
    "#  1      1997    DATE\n",
    "file = open(fname)\n",
    "reader = csv.reader(file, delimiter='\\t', quoting=csv.QUOTE_NONE)\n",
    "data = list()\n",
    "\n",
    "for row in reader:\n",
    "    try:\n",
    "        (sentIndex, phrase, label) = row\n",
    "        sent = sentences[int(sentIndex)].string.rstrip()\n",
    "        \n",
    "        # find all instances of the 'phrase' in the 'sent'.\n",
    "        iter = re.finditer(r\"\\b\"+phrase+r\"\\b\", sent)\n",
    "        indices = [m.start(0) for m in iter]\n",
    "        \n",
    "        # check to make sure the phrase the user said was there was indeed found\n",
    "        if len(indices) == 0:\n",
    "            raise ValueError\n",
    "                \n",
    "        # print out all instances\n",
    "        for i in indices:\n",
    "#            print(sentIndex, sent, phrase, \"(\"+str(i), i+len(phrase), \"'\"+label+\"')\")\n",
    "            data.append([sentIndex, sent, phrase, \"(\"+str(i)+\", \"+str(i+len(phrase))+\", '\"+label+\"')\"])\n",
    "            \n",
    "    except:\n",
    "        print(\"Handle manually: \", row)\n",
    "        \n",
    "df = pd.DataFrame(data, columns = [\"Index\", \"Sentence\", \"Phrase\", \"MatchInfo\"])\n",
    "print(df)\n"
   ]
  },
  {
   "cell_type": "markdown",
   "metadata": {},
   "source": [
    "## Create a function to clean up overlapping intervals"
   ]
  },
  {
   "cell_type": "code",
   "execution_count": 21,
   "metadata": {},
   "outputs": [
    {
     "data": {
      "text/plain": [
       "\"(0, 12, 'CVAR'), (39, 49, 'CVAR'), (71, 77, 'CVAR'), (92, 113, 'TRAT'), (140, 150, 'CVAR'), (181, 187, 'CVAR')\""
      ]
     },
     "execution_count": 21,
     "metadata": {},
     "output_type": "execute_result"
    }
   ],
   "source": [
    "import re\n",
    "coordRegex = re.compile(r'(\\d+), (\\d+)')\n",
    "\n",
    "def sortByStart(coords):\n",
    "    \"\"\"For use in sort routines, return object with lowest (X,Y) values\"\"\"\n",
    "    # split out coordinates that come in as (5, 7, 'CVAR')\n",
    "    mo = coordRegex.search(coords)\n",
    "    return(int(mo.group(1)))\n",
    "\n",
    "def overlaps(coord1, coord2):\n",
    "    \"\"\"Check if coordinates of the form 5, 7, 'CVAR' and 32, 46, 'TRAT' overlap\"\"\"\n",
    "    mo1 = coordRegex.search(coord1)\n",
    "    mo2 = coordRegex.search(coord2)\n",
    "    coord1Low = int(mo1.group(1))\n",
    "    coord1High = int(mo1.group(2))\n",
    "    coord2Low = int(mo2.group(1))\n",
    "    coord2High = int(mo2.group(2))\n",
    "    \n",
    "    if ((coord1High >= coord2Low) and (coord1Low <= coord2Low) or\n",
    "        (coord2High >= coord1Low) and (coord2Low <= coord1Low)):\n",
    "        return True\n",
    "    else:\n",
    "        return False\n",
    "\n",
    "def keepFirst(coord1, coord2):\n",
    "    \"\"\"Given overlapping coordinates, return the wider encompassing one.\"\"\"\n",
    "    mo1 = coordRegex.search(coord1)\n",
    "    mo2 = coordRegex.search(coord2)\n",
    "    coord1Low = int(mo1.group(1))\n",
    "    coord1High = int(mo1.group(2))\n",
    "    coord2Low = int(mo2.group(1))\n",
    "    coord2High = int(mo2.group(2))\n",
    " \n",
    "    if (int(coord1High) - int(coord1Low)) >= (int(coord2High) - int(coord2Low)):\n",
    "        return True\n",
    "    else:\n",
    "        return False\n",
    "\n",
    "# print(\"Should be false:\", overlaps(\"(5, 7, 'CVAR')\", \"(32, 46, 'TRAT')\"))\n",
    "# print(\"Should be true:\", overlaps(\"(26, 46, 'TRAT')\", \"(32, 46, 'TRAT')\"))\n",
    "# print(\"Should be true:\", overlaps(\"(26, 46, 'TRAT')\", \"(26, 46, 'TRAT')\"))\n",
    "# print(\"Keeper:\", keepFirst(\"34, 46, 'TRAT'\", \"34, 46, 'TRAT'\"))\n",
    "\n",
    "def cleanIntervals(inputString=\"\"):\n",
    "    \"\"\"order intervals like (5, 7, 'CVAR'), (32, 46, 'TRAT'), (26, 46, 'TRAT') and remove overlapping ones.\"\"\"\n",
    "    inputString = inputString.lstrip(\"(\").rstrip(\")\")\n",
    "    intervalList = inputString.split(\"), (\")\n",
    "    intervalList.sort(key = sortByStart)\n",
    "#    print(\"Sorted Interval List:\", intervalList)\n",
    "\n",
    "    # Pairwise compare every interval in the list to every other interval to check overlap\n",
    "    keeperList = [True]*len(intervalList) # Logic array to determine if each interval should be kept\n",
    "    i=0\n",
    "    for interval1 in intervalList:\n",
    "        for interval2 in intervalList:\n",
    "            if interval1 == interval2:\n",
    "                if intervalList.index(interval1) != i: # when both are the same we reject the higher one\n",
    "                    keeperList[i] = False\n",
    "            else:\n",
    "                if overlaps(interval1, interval2) and keepFirst(interval1, interval2) == False:\n",
    "                    keeperList[i] = False\n",
    "        i = i+1\n",
    "        \n",
    "#    print(\"keeperList:\", keeperList)\n",
    "   \n",
    "    # Build up the return interval list\n",
    "    returnStr = \"(\"\n",
    "    for interval, isKeeper in zip(intervalList, keeperList):\n",
    "        if isKeeper:\n",
    "            returnStr = returnStr + interval + \"), (\"\n",
    "    return (returnStr.rstrip(\"), (\") + \")\")\n",
    "        \n",
    "# cleanIntervals(\"(5, 7, 'CVAR'), (32, 46, 'TRAT'), (5, 9, 'CVAR'), (48, 55, 'ORG'), (26, 46, 'TRAT')\")\n",
    "# cleanIntervals(\"(0, 8, 'CVAR'), (0, 5, 'CVAR'), (21, 26, 'PLAN'), (32, 37, 'CVAR')\")\n",
    "cleanIntervals(\"(0, 12, 'CVAR'), (39, 49, 'CVAR'), (39, 49, 'CVAR'), (71, 77, 'CVAR'), (71, 77, 'CVAR'), (92, 113, 'TRAT'), (140, 150, 'CVAR'), (140, 150, 'CVAR'), (181, 187, 'CVAR'), (181, 187, 'CVAR')\")\n"
   ]
  },
  {
   "cell_type": "markdown",
   "metadata": {},
   "source": [
    "## Aggregate all matches for each sentence on a single line and output in spaCy training format"
   ]
  },
  {
   "cell_type": "code",
   "execution_count": 22,
   "metadata": {
    "scrolled": false
   },
   "outputs": [
    {
     "name": "stdout",
     "output_type": "stream",
     "text": [
      "TRAIN_DATA = [\n",
      "    ('In 2019, Fandage yields were similar to Bente, averaging 143 bu/A, similar to Moravian 179, with lower test weight.', {'entities': [(3, 7, 'DATE'), (9, 16, 'CVAR'), (17, 23, 'TRAT'), (40, 45, 'CVAR'), (78, 90, 'CVAR'), (103, 114, 'TRAT')]}),\n",
      "    ('Fangio (SC 9447 S2)', {'entities': [(0, 6, 'CVAR'), (8, 18, 'ALAS')]}),\n",
      "    ('Fangio is a two-rowed malt barley newly released in 2019 and developed through the North Dakota State University barley breeding program.', {'entities': [(0, 6, 'CVAR'), (12, 21, 'TRAT'), (22, 26, 'TRAT'), (27, 33, 'CROP'), (52, 56, 'DATE'), (83, 112, 'ORG'), (113, 119, 'CROP')]}),\n",
      "    ('In the first year of the trials, Fangio yields were below trial average, comparable to CDC Copeland (Table 50 and Chart 8).', {'entities': [(33, 39, 'CVAR'), (40, 46, 'TRAT'), (87, 99, 'CVAR')]}),\n",
      "    ('Test weight was below average but still above the 48 lb/bu test weight required for No. 1 barley.', {'entities': [(0, 11, 'TRAT')]}),\n",
      "    ('Heading date was four days later than average, and two days later than CDC Copeland.', {'entities': [(0, 12, 'TRAT'), (71, 83, 'CVAR')]}),\n",
      "    ('Fangio was shorter than average with less than average lodging.', {'entities': [(0, 6, 'CVAR'), (11, 18, 'TRAT'), (55, 62, 'TRAT')]}),\n",
      "    ('Full Pint  released in 2014 by Oregon State University for the Craft market, Full Pint was tested in 2018 and 2019 in the eastern Idaho variety trials.', {'entities': [(0, 9, 'CVAR'), (23, 27, 'DATE'), (31, 54, 'ORG'), (77, 86, 'CVAR'), (101, 105, 'DATE'), (110, 114, 'DATE'), (130, 135, 'GPE')]}),\n",
      "    ('Yields averaged greater than LCS Genie and Moravian 69, with excellent test weight and protein (Table 50).', {'entities': [(0, 6, 'TRAT'), (29, 38, 'CVAR'), (43, 54, 'CVAR'), (71, 82, 'TRAT'), (87, 94, 'TRAT')]}),\n",
      "    ('Explorer is shorter than average and lower than average for lodging.', {'entities': [(0, 8, 'CVAR'), (12, 19, 'TRAT'), (60, 67, 'TRAT')]}),\n",
      "    ('Full Pint was early for heading, slightly shorter than average, with lower lodging and test weight.', {'entities': [(0, 9, 'CVAR'), (24, 31, 'TRAT'), (42, 49, 'TRAT'), (75, 82, 'TRAT'), (87, 98, 'TRAT')]}),\n",
      "    ('Plumps and protein were good.', {'entities': [(0, 6, 'TRAT'), (11, 18, 'TRAT')]}),\n",
      "    ('GemCraft (2Ab08-X05M010-65)  released by the USDA-ARS and Idaho AES in 2018', {'entities': [(0, 8, 'CVAR'), (10, 26, 'ALAS'), (45, 53, 'ORG'), (58, 67, 'ORG'), (71, 75, 'DATE')]}),\n",
      "    (', GemCraft is a 2-row malt barley released for the craft industry and favored by the Brewers Association due to its good taste profile.', {'entities': [(2, 10, 'CVAR'), (16, 21, 'TRAT'), (22, 26, 'TRAT'), (27, 33, 'CROP'), (85, 104, 'ORG'), (121, 134, 'TRAT')]}),\n",
      "    ('Overall a great performing agronomic line, yields, test weight and plumps in 2019 were below Conrad.', {'entities': [(43, 49, 'TRAT'), (51, 62, 'TRAT'), (67, 73, 'TRAT'), (77, 81, 'DATE'), (93, 99, 'CVAR')]}),\n",
      "    ('Taller than average with medium maturity, lodging tends to be greater under irrigated production systems.', {'entities': [(0, 6, 'TRAT'), (32, 40, 'TRAT'), (42, 49, 'TRAT')]}),\n",
      "    ('a European malt barley released in the U.S. through Limagrain Cereal Seeds, Genie is a short-statured two-rowed malt variety with yields slightly greater and test weight less than ABI Voyager.', {'entities': [(11, 15, 'TRAT'), (16, 22, 'CROP'), (52, 74, 'ORG'), (76, 81, 'CVAR'), (87, 101, 'TRAT'), (102, 111, 'TRAT'), (112, 116, 'TRAT'), (130, 136, 'TRAT'), (158, 169, 'TRAT'), (180, 191, 'CVAR')]}),\n",
      "    ('Protein and plumps of Genie were at trial averages (Table 49).', {'entities': [(0, 7, 'TRAT'), (12, 18, 'TRAT'), (22, 27, 'CVAR')]}),\n",
      "    ('Explorer has good resistance to leaf diseases and is widely adapted.', {'entities': [(0, 8, 'CVAR'), (18, 28, 'PPTD'), (32, 45, 'PATH')]}),\n",
      "    ('LCS Genie is about 3-5 inches shorter than average with average lodging.', {'entities': [(0, 9, 'CVAR'), (30, 37, 'TRAT'), (64, 71, 'TRAT')]}),\n",
      "    ('Genie is susceptible to FHB and had high levels of DON in seed in the FHB disease nurseries.', {'entities': [(0, 5, 'CVAR'), (9, 20, 'PPTD'), (24, 27, 'PATH'), (41, 62, 'TRAT'), (70, 73, 'PATH')]}),\n",
      "    ('Genie has excellent malt quality and can also be used in distilling.', {'entities': [(0, 5, 'CVAR'), (20, 32, 'TRAT')]}),\n",
      "    ('LCS Odyssey  LCS Odyssey is a European two-rowed malt barley released and distributed through Limagrain Cereal Seeds.', {'entities': [(0, 11, 'CVAR'), (13, 24, 'CVAR'), (39, 48, 'TRAT'), (49, 53, 'TRAT'), (54, 60, 'CROP'), (94, 116, 'ORG')]}),\n",
      "    ('In three years of testing, LCS Odyssey was the highest yielding variety, comparable to LCS Genie and ABI Voyager (Table 49).', {'entities': [(27, 38, 'CVAR'), (55, 63, 'TRAT'), (87, 96, 'CVAR'), (101, 112, 'CVAR')]}),\n",
      "    ('Test weights were lower and lodging was average, even as LCS Odyssey is 3-5 inches shorter than the trial average.', {'entities': [(0, 12, 'TRAT'), (28, 35, 'TRAT'), (57, 68, 'CVAR'), (83, 90, 'TRAT')]}),\n",
      "    ('Heading date is one to three days later than average and similar to LCS Genie.', {'entities': [(0, 12, 'TRAT'), (68, 77, 'CVAR')]}),\n",
      "    ('Proteins were average, and plumps were good.', {'entities': [(0, 8, 'TRAT'), (27, 33, 'TRAT')]}),\n",
      "    ('Explorer is a French maltsters preferred variety with excellent malting and brewing, and is good for distilling (whiskey).', {'entities': [(0, 8, 'CVAR'), (64, 71, 'TRAT'), (76, 83, 'TRAT')]}),\n",
      "    ('Fandaga has resistance to powdery mildew, excellent agronomic advantages and high yield consistency in Europe.', {'entities': [(0, 7, 'CVAR'), (12, 22, 'PPTD'), (26, 40, 'PATH'), (82, 99, 'TRAT')]})\n",
      "]\n"
     ]
    }
   ],
   "source": [
    "# use Pandas dataframes to aggregate all entity matches together for a single sentence\n",
    "agg_rules = {'Sentence': 'first', 'Phrase': 'first', 'MatchInfo': lambda x: ', '.join(x)}\n",
    "res = df.groupby('Index').agg(agg_rules)\n",
    "#print(res)\n",
    "\n",
    "# Now format it just like what is needed for the spaCy training module: \n",
    "# E.g.:\n",
    "# ('Eight-Twelve is a six-rowed winter feed barley', {'entities': [(0, 12, 'CVAR'), (18, 27, 'TRAT'), (28, 39, 'TRAT'),(40, 46, 'CROP')]}),\n",
    "records = res.to_dict('records')\n",
    "print(\"TRAIN_DATA = [\")\n",
    "maxr = len(records)\n",
    "for i in range(0,maxr):\n",
    "    print(\"    ('\"+records[i]['Sentence']+\"', {'entities': [\"+cleanIntervals(records[i]['MatchInfo'])+\"]})\", end='')\n",
    "    if (i == maxr-1):\n",
    "        print()\n",
    "    else:\n",
    "        print(\",\")\n",
    "\n",
    "print(\"]\")"
   ]
  },
  {
   "cell_type": "markdown",
   "metadata": {},
   "source": [
    "In my current process, I am writing the above content to a file e.g., `Data/DavisLJ11/barley_p5_td.py`, adding any manual corrections (usually PED and JRNL entries) and then running the script `python3 py2json.py --doc 'BarCvDescLJ11.pdf' --url 'https://smallgrains.ucdavis.edu/cereal_files/BarCvDescLJ11.pdf' --chunk 5 Data/DavisLJ11/barley_p5_td.py Data/DavisLJ11/barley_p5_td.json` to create the JSON file for Training."
   ]
  }
 ],
 "metadata": {
  "kernelspec": {
   "display_name": "Python 3",
   "language": "python",
   "name": "python3"
  },
  "language_info": {
   "codemirror_mode": {
    "name": "ipython",
    "version": 3
   },
   "file_extension": ".py",
   "mimetype": "text/x-python",
   "name": "python",
   "nbconvert_exporter": "python",
   "pygments_lexer": "ipython3",
   "version": "3.6.9"
  }
 },
 "nbformat": 4,
 "nbformat_minor": 2
}
