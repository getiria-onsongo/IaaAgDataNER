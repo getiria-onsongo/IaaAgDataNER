{
 "cells": [
  {
   "cell_type": "markdown",
   "metadata": {},
   "source": [
    "# Generate Training Data"
   ]
  },
  {
   "cell_type": "markdown",
   "metadata": {},
   "source": [
    "We wish to speed up the process of having a human being name entities that they recognize in a paragraph, and having their positions in the paragraph identified and placed in a syntax usable by spaCy's NER training routine."
   ]
  },
  {
   "cell_type": "markdown",
   "metadata": {},
   "source": [
    "## Open PDF file, extract page two and display as sentences"
   ]
  },
  {
   "cell_type": "code",
   "execution_count": 31,
   "metadata": {
    "scrolled": false
   },
   "outputs": [
    {
     "name": "stdout",
     "output_type": "stream",
     "text": [
      "0 :  37  \n",
      "1 :  there are numerous barbs on lateral kernels.\n",
      "2 :  The crease is wide, particularly at the awn end.\n",
      "3 :  The kernel has a hump on the back, particularly on plump kernels.\n",
      "4 :  Lateral kernels are moderately twisted.\n",
      "5 :  Winter Tennessee is less susceptible to the major diseases than Atlas.\n",
      "6 :  At the time of evaluation it was resistant to scald and susceptible to BYD.\n",
      "7 :  It was evaluated as Entry 10 in the UC Regional Cereal Testing program from 1980-1981 for late fall planting in the Central Valley and the south-central coastal regions of California.    \n",
      "8 :  WOCUS 71  \n",
      "9 :  Wocus 71 is a six-rowed spring feed barley.\n",
      "10 :  It was released by the University of California AES in 1972.\n",
      "11 :  It is a composite of 500 head rows selected from Wocus on the basis of improved straw quality (height and strength), earlier maturity, and increased kernel size.\n",
      "12 :  Wocus, which originated from the cross Coast/Lion//Winter Club made at Logan, Utah in 1949, was released by the Oregon Agricultural Experiment Station in 1958.\n",
      "13 :  Wocus 71 has stiffer straw, is 3 to 5 inches shorter, and 4 to 6 days earlier in maturity than Wocus.\n",
      "14 :  The spike is dense and medium long, with awns (semi-smooth) about three times as long as the spike.\n",
      "15 :  The rachis is tough with good shatter resistance.\n",
      "16 :  Kernels are large, with short rachilla hairs and white aleurone.\n",
      "17 :  It is adapted to fertile irrigated areas of the Tulelake Basin, intermountain valleys of northern California and Klamath, Jackson and Josephine counties of Oregon.\n",
      "18 :  It was evaluated as Entry 184 in the UC Regional Cereal Testing program from 1980-1984 for spring planting in the intermountain region of northern California.\n",
      "19 :  Crop Science 19:409 (1979)   \n",
      "20 :  XENA  Xena is a two-rowed spring feed barley.\n",
      "21 :  It was released by Western Plant Breeders in 1999.\n",
      "22 :  It was selected from the cross Stark/Baronesse.\n",
      "23 :  Its experimental designation was WPB BZ 594-19.\n",
      "24 :  It has medium maturity (3-5 days later than Steptoe), medium plant height (2-3 inches taller than Baronesse), and fair straw strength.\n",
      "25 :  The stem has waxy coating, a closed collar and the neck is straight.\n",
      "26 :  The leaves are slightly waxy in appearance and there is no anthocyanin in the leaf sheath or stem.\n",
      "27 :  However, there is anthocyanin in the veins of the lemma.\n",
      "28 :  The head is semi-erect (not dense), strap shaped, slightly waxy and semi nodding at maturity.\n",
      "29 :  The glume length is more than 1/2 the length of the lemma and the glume is covered with short hairs.\n",
      "30 :  The glume awns are equal to the length of the glumes and the surface is rough.\n",
      "31 :  The lemma is awned, and the awns are rough.\n",
      "32 :  Both lemma teeth and lemma hairs are absent, and the rachilla hair is long.\n",
      "33 :  The seed is mid long, wrinkled, and has a white (or colorless) aleurone.\n",
      "34 :  The lateral florets are extremely reduced in size.\n",
      "35 :  At the time of evaluation it was moderately resistant to scald and BYD, moderately susceptible to net blotch and stripe rust, and susceptible to leaf rust, stem rust, and powdery mildew.\n",
      "36 :  It was evaluated as Entry 1008 in the UC Regional Cereal Testing program from 1998-2009 for spring planting in the intermountain region of northern California.      \n"
     ]
    }
   ],
   "source": [
    "import spacy\n",
    "import PyPDF2\n",
    "nlp = spacy.load('en_core_web_sm')\n",
    "\n",
    "#Open PDF file for reading\n",
    "pdfFile = open(\"BarCvDescLJ11.pdf\", mode=\"rb\")\n",
    "pdfReader = PyPDF2.PdfFileReader(pdfFile)\n",
    "\n",
    "# Select a page to work on\n",
    "pageNumber = 37\n",
    "\n",
    "# Get text\n",
    "OnePage = pdfReader.getPage(pageNumber-1) #0-based count\n",
    "OnePageText = OnePage.extractText()\n",
    "\n",
    "# Close PDF file\n",
    "pdfFile.close()\n",
    "\n",
    "# Remove newlinesxmx82k-&a. It appears multiple newlines together makes\n",
    "# Spacy think that is the end of a sentence. The PDF reader reads the text in\n",
    "# an odd fashion\n",
    "OnePageText = OnePageText.replace('\\n','')\n",
    "\n",
    "# create a spaCy doc object from the page and break it into sentences\n",
    "doc = nlp(OnePageText)\n",
    "l=0\n",
    "for sent in doc.sents:\n",
    "     print(l, \": \", sent)\n",
    "     l = l+1\n"
   ]
  },
  {
   "cell_type": "markdown",
   "metadata": {},
   "source": [
    "## Read in Per-line named entity file and match entities to sentence positions."
   ]
  },
  {
   "cell_type": "code",
   "execution_count": 4,
   "metadata": {},
   "outputs": [
    {
     "name": "stdout",
     "output_type": "stream",
     "text": [
      "Handle manually:  ['4', 'Ataco/Achira//Higo x UC 960', 'PED']\n",
      "Handle manually:  ['35', 'Crop Science 30:1154-1155 (1990)', 'JRNL']\n",
      "Handle manually:  ['39', 'Steptoe/2*Diamant /3/Minn Dwarf 64.98-8/Briggs/4/Asse', 'PED']\n",
      "Handle manually:  ['56', 'Crop Science 43:437 (2003)', 'JRNL']\n",
      "Handle manually:  ['61', 'Steptoe/2*Diamant/3/Minn Dwarf 64.98-8/Briggs/4/Asse', 'PED']\n",
      "    Index                                           Sentence  \\\n",
      "0       2  Tamalpais is a six-rowed spring hulless feed/f...   \n",
      "1       2  Tamalpais is a six-rowed spring hulless feed/f...   \n",
      "2       2  Tamalpais is a six-rowed spring hulless feed/f...   \n",
      "3       2  Tamalpais is a six-rowed spring hulless feed/f...   \n",
      "4       2  Tamalpais is a six-rowed spring hulless feed/f...   \n",
      "..    ...                                                ...   \n",
      "145    69  UC 960 is short-statured with excellent straw ...   \n",
      "146    70  UC 960 is early maturing (about one week earli...   \n",
      "147    70  UC 960 is early maturing (about one week earli...   \n",
      "148    70  UC 960 is early maturing (about one week earli...   \n",
      "149    70  UC 960 is early maturing (about one week earli...   \n",
      "\n",
      "                Phrase           MatchInfo  \n",
      "0            Tamalpais      (0, 9, 'CVAR')  \n",
      "1            six-rowed    (15, 24, 'TRAT')  \n",
      "2               spring    (25, 31, 'TRAT')  \n",
      "3              hulless    (32, 39, 'TRAT')  \n",
      "4                 feed    (40, 44, 'TRAT')  \n",
      "..                 ...                 ...  \n",
      "145  Minn Dwarf 64.988  (148, 165, 'CVAR')  \n",
      "146             UC 960      (0, 6, 'CVAR')  \n",
      "147           maturing    (16, 24, 'TRAT')  \n",
      "148             Gustoe    (54, 60, 'CVAR')  \n",
      "149            Steptoe    (76, 83, 'CVAR')  \n",
      "\n",
      "[150 rows x 4 columns]\n"
     ]
    }
   ],
   "source": [
    "import re\n",
    "import csv\n",
    "import pandas as pd\n",
    "\n",
    "fname = \"Data/DavisLJ11/barley_p\"+str(pageNumber)+\"_ner.txt\"\n",
    "\n",
    "# Covert the nlp senetence generator into a list of sentences\n",
    "sentences = list(doc.sents)\n",
    "\n",
    "# Open the file of manually matched pairs (sentence # <tab> word phrase <tab> named entity)\n",
    "# e.g.:\n",
    "#  0      AC Metcalfe     CVAR\n",
    "#  0      two-rowed       TRAT\n",
    "#  0      barley          CROP\n",
    "#  1      Agri-Food Candada   ORG\n",
    "#  1      1997    DATE\n",
    "file = open(fname)\n",
    "reader = csv.reader(file, delimiter='\\t', quoting=csv.QUOTE_NONE)\n",
    "data = list()\n",
    "\n",
    "for row in reader:\n",
    "    try:\n",
    "        (sentIndex, phrase, label) = row\n",
    "        sent = sentences[int(sentIndex)].string.rstrip()\n",
    "        \n",
    "        # find all instances of the 'phrase' in the 'sent'.\n",
    "        iter = re.finditer(r\"\\b\"+phrase+r\"\\b\", sent)\n",
    "        indices = [m.start(0) for m in iter]\n",
    "        \n",
    "        # check to make sure the phrase the user said was there was indeed found\n",
    "        if len(indices) == 0:\n",
    "            raise ValueError\n",
    "                \n",
    "        # print out all instances\n",
    "        for i in indices:\n",
    "#            print(sentIndex, sent, phrase, \"(\"+str(i), i+len(phrase), \"'\"+label+\"')\")\n",
    "            data.append([sentIndex, sent, phrase, \"(\"+str(i)+\", \"+str(i+len(phrase))+\", '\"+label+\"')\"])\n",
    "            \n",
    "    except:\n",
    "        print(\"Handle manually: \", row)\n",
    "        \n",
    "df = pd.DataFrame(data, columns = [\"Index\", \"Sentence\", \"Phrase\", \"MatchInfo\"])\n",
    "print(df)\n"
   ]
  },
  {
   "cell_type": "markdown",
   "metadata": {},
   "source": [
    "## Create a function to clean up overlapping intervals"
   ]
  },
  {
   "cell_type": "code",
   "execution_count": 5,
   "metadata": {},
   "outputs": [
    {
     "data": {
      "text/plain": [
       "\"(0, 12, 'CVAR'), (39, 49, 'CVAR'), (71, 77, 'CVAR'), (92, 113, 'TRAT'), (140, 150, 'CVAR'), (181, 187, 'CVAR')\""
      ]
     },
     "execution_count": 5,
     "metadata": {},
     "output_type": "execute_result"
    }
   ],
   "source": [
    "import re\n",
    "coordRegex = re.compile(r'(\\d+), (\\d+)')\n",
    "\n",
    "def sortByStart(coords):\n",
    "    \"\"\"For use in sort routines, return object with lowest (X,Y) values\"\"\"\n",
    "    # split out coordinates that come in as (5, 7, 'CVAR')\n",
    "    mo = coordRegex.search(coords)\n",
    "    return(int(mo.group(1)))\n",
    "\n",
    "def overlaps(coord1, coord2):\n",
    "    \"\"\"Check if coordinates of the form 5, 7, 'CVAR' and 32, 46, 'TRAT' overlap\"\"\"\n",
    "    mo1 = coordRegex.search(coord1)\n",
    "    mo2 = coordRegex.search(coord2)\n",
    "    coord1Low = int(mo1.group(1))\n",
    "    coord1High = int(mo1.group(2))\n",
    "    coord2Low = int(mo2.group(1))\n",
    "    coord2High = int(mo2.group(2))\n",
    "    \n",
    "    if ((coord1High >= coord2Low) and (coord1Low <= coord2Low) or\n",
    "        (coord2High >= coord1Low) and (coord2Low <= coord1Low)):\n",
    "        return True\n",
    "    else:\n",
    "        return False\n",
    "\n",
    "def keepFirst(coord1, coord2):\n",
    "    \"\"\"Given overlapping coordinates, return the wider encompassing one.\"\"\"\n",
    "    mo1 = coordRegex.search(coord1)\n",
    "    mo2 = coordRegex.search(coord2)\n",
    "    coord1Low = int(mo1.group(1))\n",
    "    coord1High = int(mo1.group(2))\n",
    "    coord2Low = int(mo2.group(1))\n",
    "    coord2High = int(mo2.group(2))\n",
    " \n",
    "    if (int(coord1High) - int(coord1Low)) >= (int(coord2High) - int(coord2Low)):\n",
    "        return True\n",
    "    else:\n",
    "        return False\n",
    "\n",
    "# print(\"Should be false:\", overlaps(\"(5, 7, 'CVAR')\", \"(32, 46, 'TRAT')\"))\n",
    "# print(\"Should be true:\", overlaps(\"(26, 46, 'TRAT')\", \"(32, 46, 'TRAT')\"))\n",
    "# print(\"Should be true:\", overlaps(\"(26, 46, 'TRAT')\", \"(26, 46, 'TRAT')\"))\n",
    "# print(\"Keeper:\", keepFirst(\"34, 46, 'TRAT'\", \"34, 46, 'TRAT'\"))\n",
    "\n",
    "def cleanIntervals(inputString=\"\"):\n",
    "    \"\"\"order intervals like (5, 7, 'CVAR'), (32, 46, 'TRAT'), (26, 46, 'TRAT') and remove overlapping ones.\"\"\"\n",
    "    inputString = inputString.lstrip(\"(\").rstrip(\")\")\n",
    "    intervalList = inputString.split(\"), (\")\n",
    "    intervalList.sort(key = sortByStart)\n",
    "#    print(\"Sorted Interval List:\", intervalList)\n",
    "\n",
    "    # Pairwise compare every interval in the list to every other interval to check overlap\n",
    "    keeperList = [True]*len(intervalList) # Logic array to determine if each interval should be kept\n",
    "    i=0\n",
    "    for interval1 in intervalList:\n",
    "        for interval2 in intervalList:\n",
    "            if interval1 == interval2:\n",
    "                if intervalList.index(interval1) != i: # when both are the same we reject the higher one\n",
    "                    keeperList[i] = False\n",
    "            else:\n",
    "                if overlaps(interval1, interval2) and keepFirst(interval1, interval2) == False:\n",
    "                    keeperList[i] = False\n",
    "        i = i+1\n",
    "        \n",
    "#    print(\"keeperList:\", keeperList)\n",
    "   \n",
    "    # Build up the return interval list\n",
    "    returnStr = \"(\"\n",
    "    for interval, isKeeper in zip(intervalList, keeperList):\n",
    "        if isKeeper:\n",
    "            returnStr = returnStr + interval + \"), (\"\n",
    "    return (returnStr.rstrip(\"), (\") + \")\")\n",
    "        \n",
    "# cleanIntervals(\"(5, 7, 'CVAR'), (32, 46, 'TRAT'), (5, 9, 'CVAR'), (48, 55, 'ORG'), (26, 46, 'TRAT')\")\n",
    "# cleanIntervals(\"(0, 8, 'CVAR'), (0, 5, 'CVAR'), (21, 26, 'PLAN'), (32, 37, 'CVAR')\")\n",
    "cleanIntervals(\"(0, 12, 'CVAR'), (39, 49, 'CVAR'), (39, 49, 'CVAR'), (71, 77, 'CVAR'), (71, 77, 'CVAR'), (92, 113, 'TRAT'), (140, 150, 'CVAR'), (140, 150, 'CVAR'), (181, 187, 'CVAR'), (181, 187, 'CVAR')\")\n"
   ]
  },
  {
   "cell_type": "markdown",
   "metadata": {},
   "source": [
    "## Aggregate all matches for each sentence on a single line and output in spaCy training format"
   ]
  },
  {
   "cell_type": "code",
   "execution_count": 10,
   "metadata": {
    "scrolled": false
   },
   "outputs": [
    {
     "name": "stdout",
     "output_type": "stream",
     "text": [
      "TRAIN_DATA = [\n",
      "    ('It has full, rough awns and has good resistance to shattering.', {'entities': [(19, 23, 'PLAN'), (37, 61, 'TRAT')]}),\n",
      "    ('Kernels are beige (non-blue, transparent aleurone which is classified as white).', {'entities': [(0, 7, 'PLAN'), (41, 49, 'PLAN')]}),\n",
      "    ('As a hulless (naked) feed/food barley, Tamalpais should appeal to growers of organic barley for human consumption uses in breakfast cereal and soups.', {'entities': [(5, 12, 'TRAT'), (21, 25, 'TRAT'), (26, 30, 'TRAT'), (31, 37, 'CROP'), (39, 48, 'CVAR'), (85, 91, 'CROP')]}),\n",
      "    ('Tamalpais is high in Beta-glucan (above 6%), a measure of soluble fiber, and may be useful in lowering human cholesterol levels.', {'entities': [(0, 9, 'CVAR'), (21, 32, 'TRAT')]}),\n",
      "    ('At the time of release it was resistant to leaf rust and powdery mildew, moderately resistant to scald, net blotch, and BYD, and moderately susceptible to stripe rust.', {'entities': [(30, 39, 'PPTD'), (43, 52, 'PATH'), (57, 71, 'PATH'), (73, 93, 'PPTD'), (97, 102, 'PATH'), (104, 114, 'PATH'), (120, 123, 'PATH'), (129, 151, 'PPTD'), (155, 166, 'PATH')]}),\n",
      "    ('UC 603 is a six-rowed spring feed barley.', {'entities': [(0, 6, 'CVAR'), (12, 21, 'TRAT'), (22, 28, 'TRAT'), (29, 33, 'TRAT'), (34, 40, 'CROP')]}),\n",
      "    ('It was released by the University of California AES in 1988.', {'entities': [(23, 51, 'ORG'), (55, 59, 'DATE')]}),\n",
      "    ('Tamalpais is a six-rowed spring hulless feed/food barley.', {'entities': [(0, 9, 'CVAR'), (15, 24, 'TRAT'), (25, 31, 'TRAT'), (32, 39, 'TRAT'), (40, 44, 'TRAT'), (45, 49, 'TRAT'), (50, 56, 'CROP')]}),\n",
      "    ('It is a pure line selection from the cross Mari/Luther//Traill/3/Briggs/Prato sib.', {'entities': [(43, 81, 'PED')]}),\n",
      "    ('Its experimental designation was UC80206.', {'entities': [(33, 40, 'ALAS')]}),\n",
      "    ('UC 603 has medium short stature, good lodging resistance, and early maturity (about 1 day later than CM 72).', {'entities': [(0, 6, 'CVAR'), (24, 31, 'TRAT'), (38, 56, 'TRAT'), (68, 76, 'TRAT')]}),\n",
      "    ('The basal rachis internode is curved.', {'entities': [(4, 26, 'PLAN')]}),\n",
      "    ('The rachis edges are covered with hairs.', {'entities': [(4, 16, 'PLAN'), (34, 39, 'PLAN')]}),\n",
      "    ('The spike is parallel, mid-dense, and inclined at maturity.', {'entities': [(4, 9, 'PLAN')]}),\n",
      "    ('The lemma awn is long and rough.', {'entities': [(4, 13, 'PLAN')]}),\n",
      "    ('The glume awn is longer than the glume and is rough.', {'entities': [(4, 13, 'PLAN'), (33, 38, 'PLAN')]}),\n",
      "    ('The glume is longer than one-half the length of the lemma.', {'entities': [(4, 9, 'PLAN'), (52, 57, 'PLAN')]}),\n",
      "    ('It was released by the California AES in 2007.', {'entities': [(23, 37, 'ORG'), (41, 45, 'DATE')]}),\n",
      "    ('The rachilla has long hairs.', {'entities': [(4, 12, 'PLAN'), (22, 27, 'PLAN')]}),\n",
      "    ('Kernels are mid-long to long with semi-wrinkled hulls and white aleurone.', {'entities': [(0, 7, 'PLAN'), (48, 53, 'PLAN'), (64, 72, 'PLAN')]}),\n",
      "    ('At the time of release, UC 603 was resistant to BYD (carries the Yd2 gene for resistance to BYD), and resistant to moderately resistant to net blotch, scald, powdery mildew, and leaf rust.', {'entities': [(24, 30, 'CVAR'), (35, 44, 'PPTD'), (48, 51, 'PATH'), (92, 95, 'PATH'), (102, 135, 'PPTD'), (139, 149, 'PATH'), (151, 156, 'PATH'), (158, 172, 'PATH'), (178, 187, 'PATH')]}),\n",
      "    ('It subsequently became susceptible to net blotch, moderately susceptible to stripe rust and leaf rust, and moderately resistant to BYD.', {'entities': [(23, 34, 'PPTD'), (38, 48, 'PATH'), (50, 72, 'PPTD'), (76, 87, 'PATH'), (92, 101, 'PATH'), (107, 127, 'PPTD'), (131, 134, 'PATH')]}),\n",
      "    ('UC 933  UC 933 is a six-rowed spring feed barley.', {'entities': [(0, 6, 'CVAR'), (8, 14, 'CVAR'), (20, 29, 'TRAT'), (30, 36, 'TRAT'), (37, 41, 'TRAT')]}),\n",
      "    ('It was released by the California AES in 2001.', {'entities': [(23, 37, 'ORG'), (41, 45, 'DATE')]}),\n",
      "    ('It was selected from the cross Sma1/Sunbar 401/3/Gus/Kombyne//Sma1.', {'entities': [(31, 66, 'PED')]}),\n",
      "    ('Sma1 has the parentage Steptoe/2*Diamant /3/Minn Dwarf 64.98-8/Briggs/4', {'entities': [(0, 4, 'CVAR')]}),\n",
      "    ('A final head row was selected by Lynn Gallagher in 1992, bulked, and designated UCD 92-10,585 for preliminary yield trials.', {'entities': [(51, 55, 'DATE'), (80, 93, 'ALAS')]}),\n",
      "    ('UC 933 was released primarily for resistance to stripe rust.', {'entities': [(0, 6, 'CVAR'), (34, 44, 'PPTD'), (48, 59, 'PATH')]}),\n",
      "    ('UC 933 has spring growth habit, medium early maturity', {'entities': [(0, 6, 'CVAR'), (11, 30, 'TRAT'), (45, 53, 'TRAT')]}),\n",
      "    ('(heads 3-4 days earlier than UC 937 and about 4 days later than UC 603), is medium height (about 1 inch shorter than UC 937 and one inch taller than UC 603), and has fair straw strength (similar to UC 937 but inferior to UC 603).', {'entities': [(29, 35, 'CVAR'), (64, 70, 'CVAR'), (83, 89, 'TRAT'), (117, 123, 'CVAR'), (149, 155, 'CVAR'), (171, 185, 'TRAT'), (198, 204, 'CVAR'), (221, 227, 'CVAR')]}),\n",
      "    ('Spikes are fully awned, erect, and waxy.', {'entities': [(0, 6, 'PLAN')]}),\n",
      "    ('Glumes are completely covered with long hairs.', {'entities': [(0, 6, 'PLAN'), (40, 45, 'PLAN')]}),\n",
      "    ('Glume awns are rough and equal in length to glumes.', {'entities': [(0, 10, 'PLAN'), (44, 50, 'PLAN')]}),\n",
      "    ('Lemma awns are long and rough.', {'entities': [(0, 10, 'PLAN')]}),\n",
      "    ('Kernels are beige (non-blue aleurone), long, and slightly wrinkled.', {'entities': [(0, 7, 'PLAN'), (28, 36, 'PLAN')]}),\n",
      "    ('At the time of release UC 933 was resistant to scald, net blotch, stripe rust, and leaf rust, and moderately resistant to BYD and powdery mildew.', {'entities': [(23, 29, 'CVAR'), (34, 43, 'PPTD'), (47, 52, 'PATH'), (54, 64, 'PATH'), (66, 77, 'PATH'), (83, 92, 'PATH'), (98, 118, 'PPTD'), (122, 125, 'PATH'), (130, 144, 'PATH')]}),\n",
      "    ('It subsequently became susceptible to leaf rust.', {'entities': [(23, 34, 'PPTD'), (38, 47, 'PATH')]}),\n",
      "    ('UC 960 is a six-rowed spring feed barley.', {'entities': [(0, 6, 'CVAR'), (12, 21, 'TRAT'), (22, 28, 'TRAT'), (29, 33, 'TRAT'), (34, 40, 'CROP')]}),\n",
      "    ('It was released by the California AES in 1999.', {'entities': [(23, 37, 'ORG'), (41, 45, 'DATE')]}),\n",
      "    ('UC 960 was selected among the progeny from the hybrid Sma1/Sunbar 401/3/Gus/Kombyne//Sma1.', {'entities': [(0, 6, 'CVAR'), (54, 89, 'PED')]}),\n",
      "    ('Sma1 has the parentage Steptoe/2*Diamant/3/Minn Dwarf 64.98-8/Briggs/4', {'entities': [(0, 4, 'CVAR')]}),\n",
      "    ('NK 2867 was selected for agronomic appearance and resistance to barley stripe rust in 1995 at Tulelake, CA by Lynn Gallagher, designated UC 960, and subsequently evaluated for grain yield in the northern intermountain areas of California from 1996 to 1998.', {'entities': [(0, 7, 'CVAR')]}),\n",
      "    ('UC 960 is intended primarily for spring planting in the southern Klamath Basin.', {'entities': [(0, 6, 'CVAR'), (33, 48, 'TRAT')]}),\n",
      "    ('UC 960 is short-statured with excellent straw strength (similar to Gustoe for height, presumably as a result of the sdw gene either from Diamant or Minn Dwarf 64.988).', {'entities': [(0, 6, 'CVAR'), (10, 24, 'TRAT'), (40, 54, 'TRAT'), (67, 73, 'CVAR'), (137, 144, 'CVAR'), (148, 165, 'CVAR')]}),\n",
      "    ('Its experimental designation was UCD YP03-9/3.', {'entities': [(33, 45, 'ALAS')]}),\n",
      "    ('UC 960 is early maturing (about one week earlier than Gustoe and similar to Steptoe for time to', {'entities': [(0, 6, 'CVAR'), (16, 24, 'TRAT'), (54, 60, 'CVAR'), (76, 83, 'CVAR')]}),\n",
      "    ('It is medium maturing, medium-short height', {'entities': [(13, 21, 'TRAT'), (36, 42, 'TRAT')]}),\n",
      "    ('(averages about 32 inches in plant height), with good straw strength.', {'entities': [(54, 68, 'TRAT')]})\n",
      "]\n"
     ]
    }
   ],
   "source": [
    "# use Pandas dataframes to aggregate all entity matches together for a single sentence\n",
    "agg_rules = {'Sentence': 'first', 'Phrase': 'first', 'MatchInfo': lambda x: ', '.join(x)}\n",
    "res = df.groupby('Index').agg(agg_rules)\n",
    "#print(res)\n",
    "\n",
    "# Now format it just like what is needed for the spaCy training module: \n",
    "# E.g.:\n",
    "# ('Eight-Twelve is a six-rowed winter feed barley', {'entities': [(0, 12, 'CVAR'), (18, 27, 'TRAT'), (28, 39, 'TRAT'),(40, 46, 'CROP')]}),\n",
    "records = res.to_dict('records')\n",
    "print(\"TRAIN_DATA = [\")\n",
    "maxr = len(records)\n",
    "for i in range(0,maxr):\n",
    "    print(\"    ('\"+records[i]['Sentence']+\"', {'entities': [\"+cleanIntervals(records[i]['MatchInfo'])+\"]})\", end='')\n",
    "    if (i == maxr-1):\n",
    "        print()\n",
    "    else:\n",
    "        print(\",\")\n",
    "\n",
    "print(\"]\")"
   ]
  },
  {
   "cell_type": "markdown",
   "metadata": {},
   "source": [
    "In my current process, I am writing the above content to a file e.g., `Data/DavisLJ11/barley_p5_td.py`, adding any manual corrections (usually PED and JRNL entries) and then running the script `python3 py2json.py --doc 'BarCvDescLJ11.pdf' --url 'https://smallgrains.ucdavis.edu/cereal_files/BarCvDescLJ11.pdf' --chunk 5 Data/DavisLJ11/barley_p5_td.py Data/DavisLJ11/barley_p5_td.json` to create the JSON file for Training."
   ]
  }
 ],
 "metadata": {
  "kernelspec": {
   "display_name": "Python 3",
   "language": "python",
   "name": "python3"
  },
  "language_info": {
   "codemirror_mode": {
    "name": "ipython",
    "version": 3
   },
   "file_extension": ".py",
   "mimetype": "text/x-python",
   "name": "python",
   "nbconvert_exporter": "python",
   "pygments_lexer": "ipython3",
   "version": "3.6.9"
  }
 },
 "nbformat": 4,
 "nbformat_minor": 2
}
