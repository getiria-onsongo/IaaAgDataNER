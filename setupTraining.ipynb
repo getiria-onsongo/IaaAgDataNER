{
 "cells": [
  {
   "cell_type": "markdown",
   "metadata": {},
   "source": [
    "# Generate Training Data"
   ]
  },
  {
   "cell_type": "markdown",
   "metadata": {},
   "source": [
    "We wish to speed up the process of having a human being name entities that they recognize in a paragraph, and having their positions in the paragraph identified and placed in a syntax usable by spaCy's NER training routine."
   ]
  },
  {
   "cell_type": "markdown",
   "metadata": {},
   "source": [
    "## Open PDF file, extract page two and display as sentences"
   ]
  },
  {
   "cell_type": "code",
   "execution_count": 38,
   "metadata": {
    "scrolled": false
   },
   "outputs": [
    {
     "name": "stdout",
     "output_type": "stream",
     "text": [
      "0 :  Journal of Plant Registrations 171Other evaluations in Colorado or through the USDA Regional Testing Program have shown that Cowboy is moderately susceptible to Barley yellow dwarf virus and susceptible to Wheat soilborne mosaic virus.\n",
      "1 :  ˆe reaction of Cowboy to Wheat streak mosaic virus is not known, although it lacks the DNA markers associated with Wsm1 (Qi et al., 2007) and Wsm2\n",
      "2 :  (Lu et al., 2012).\n",
      "3 :  Cowboy is heterogeneous for resistance to a collection of endemic biotypes of the Hessiay [Mayetiola destructor (Say)]\n",
      "4 :  (Chen et al., 2009), susceptible to greenbug Biotype E\n",
      "5 :  [Schizaphis graminum (Rondani)], resistant to Russian wheat aphid (Diuraphis noxia Kurdjumov) Biotype 1, and susceptible to Russian wheat aphid Biotype 2.Field PerformanceIn ˙eld trials in Colorado, grain yield of Cowboy was similar (P > 0.05) to its sister selection Denali (as described in Haley et al., 2012).\n",
      "6 :  ˆese trials include the CSU Elite Trial (2009Œ2011; 29 trial locations), the Uniform Variety Performance Trial (2010Œ2011; 15 locations), and the Irrigated Variety Performance Trial (2010Œ2011; 6 locations).\n",
      "7 :  Signi˙cantly lower (P < 0.05)\n",
      "8 :  grain volume weight was observed for Cowboy relative to Denali in both in the CSU Elite Trial (777 vs. 782˘kg˘m3) and the Uniform Variety Performance Trial (768˘vs.\n",
      "9 :  785 kg m3).In\n",
      "10 :  the Wyoming nonirrigated\n",
      "11 :  state variety trial, grain yield of Cowboy (3291 kg ha1) was the highest among the entries in a combined analysis across years (2010Œ2012, 9 locations), similar to (P > 0.05)\n",
      "12 :  Denali (3056 kg ha1), and greater than (P < 0.05)\n",
      "13 :  all other entries tested, including ‚Settler CL™ (PI 653833; Baenziger et al., 2011)\n",
      "14 :  (2981 kg ha1), Hatcher (2925 kg ha1), Bill Brown (2917 kg ha1), ‚\n",
      "15 :  Robidoux™ (PI 659690; Baenziger et al., 2012)\n",
      "16 :  (2817 kg ha1), ‚\n",
      "17 :  Goodstreak™ (PI 632434, Baenziger et al., 2004) (2684 kg ha1), ‚\n",
      "18 :  Pronghorn™ (PI 593047, Baenziger et al., 1997) (2925 kg ha1), ‚\n",
      "19 :  Camelot™ (PI 653832; Baenziger et al., 2009)\n",
      "20 :  (2515 kg ha1), and ‚Buckskin™ (CItr 17263; Schmidt et al., 1976)\n",
      "21 :  (2463 kg ha1).\n",
      "22 :  In these trials, Cowboy had average grain volume weight (764 kg m3), greater than (P < 0.05)\n",
      "23 :  Camelot (749 kg m3) and similar to (P > 0.05) Goodstreak (775 kg m3), Pronghorn (774 kg m3), Denali and Buckskin (772 kg m3), Bill Brown (767 kg m3), Settler CL (765 kg m3), Hatcher (764 kg m3), and Robidoux (762 kg m3).In\n",
      "24 :  the Wyoming irrigated state variety trial, grain yield of Cowboy (7879 kg ha1) was the highest among the entries in a combined analysis across years (2010Œ2012, 3 locations), similar to (P > 0.05)\n",
      "25 :  Denali (7700 kg ha1), Robidoux (7343 kg ha1), and ‚Freeman™ (PI 667038) (7284 kg ha1), and greater than (P < 0.05)\n",
      "26 :  all other entries tested, including Settler CL (2981 kg ha1), ‚Wesley™ (PI 605742; Peterson et al., 2001) (7151 kg ha1), ˆunder CL (7088 kg ha1), and\n",
      "27 :  ‚Antelope™ (PI 633910; Graybosch et al., 2005) (6567 kg ha1).\n",
      "28 :  In these trials, Cowboy had above-average grain volume weight (773 kg m3), similar to (P >\n",
      "29 :  0.05) ˆunder CL (784 kg m3), Wesley (775 kg m3), Denali (772 kg m3), Antelope and Settler CL (770 kg m3), and Freeman (\n",
      "30 :  763 kg m3).Cowboy was tested in the 2010 and 2011 Southern Regional Performance Nursery.\n",
      "31 :  Averaged across the hard winter wheat region, Cowboy was the third-highest-yielding entry in the trial in 2010 (3965 kg ha1;\n",
      "32 :  48 total entries; 30 locations) and the ˙h-highest-yielding entry in the trial in 2011 (3698 kg ha1; 34 total entries; 25 locations).End-Use QualityMilling and bread baking characteristics of Cowboy and common check entries were determined using approved methods of the American Association of Cereal Chemists (AACC, 2000) in the CSU Wheauality Laboratory.\n",
      "33 :  Multiple location-year samples from the 2008, 2009, and 2010 growing seasons were available to enable comparison between Cowboy and Hatcher, Ripper, and ‚\n",
      "34 :  Above™ (PI 631449; Haley et al., 2003)\n",
      "35 :  as check entries.\n",
      "36 :  ˆe three check varieties have overall good milling properties while overall baking properties for Hatcher and Ripper are good and Above is poor.\n",
      "37 :  Values for milling-related variables were generally good for Cowboy, with kernel characteristics, grain protein concentration, and Brabendeuadrumat Senior (\n",
      "38 :  C.W. Brabenderur extraction comparable to the check entries (Table 1).\n",
      "39 :  Values Table 1.\n",
      "40 :  Milling, dough mixing, and bread baking characteristics of wheat cultivar Cowboy and check entries across multiple evaluations from the 2008, 2009, and 2010 growing seasons in Colorado.\n",
      "41 :  Trait (unit of measurement)SamplesCowboyHatcherRipperAboveSKCS kernel weight\n",
      "42 :  (mg)ƒ3729.429.9 ns⁄31.1*\n",
      "43 :  30.8*SKCS kernel diameter (mm)372.582.59 ns2.67\n",
      "44 :  *2.68*SKCS kernel hardness (score)3767.868.6\n",
      "45 :  ns67.4 ns72.0*Grain protein (g kg1)33133130 ns138\n",
      "46 :  *\n",
      "47 :  130 nsGrain ash (g kg1)3314.914.8 ns15.0 ns15.2\n",
      "48 :  nsFlour extraction\n",
      "49 :  (g kg1)32667666 ns669\n",
      "50 :  ns643*Flour ash (g kg1)334.54.5 ns4.7*\n",
      "51 :  4.6 nsMixograph mixing time\n",
      "52 :  (min)333.84.3*3.3*\n",
      "53 :  2.7*Mixograph tolerance (0Œ6)§322.83.8\n",
      "54 :  *3.5\n",
      "55 :  *2.2*Bake mix time (min)323.64.1*\n",
      "56 :  3.2\n",
      "57 :  *2.6*Bake absorption (g kg1)32629631 ns647\n",
      "58 :  *\n",
      "59 :  620*Loaf volume (\n",
      "60 :  L)320.850.90\n",
      "61 :  *\n",
      "62 :  0.87 ns0.80*Crumb grain (0Œ6)§323.04.0\n",
      "63 :  *2.9 ns3.1\n",
      "64 :  ns\n",
      "65 :  * Signi˚cance of the di˜erence between Cowboy and the check cultivar based on a Student™s paired t test procedure at the 0.05 probability level.ƒ SKCS, single kernel characterization\n",
      "66 :  system.⁄\n",
      "67 :  ns, not\n",
      "68 :  signi˚cant.§ Mixograph tolerance and crumb grain score scales: 6\n",
      "69 :  = outstanding, 0 = unacceptable.\n"
     ]
    }
   ],
   "source": [
    "import spacy\n",
    "import PyPDF2\n",
    "# import slate3k as slate\n",
    "nlp = spacy.load('en_core_web_sm')\n",
    "\n",
    "#filename = \"BarCvDescLJ11.pdf\"\n",
    "filename = \"Data/CSU/Cowboy-reprint.pdf\"\n",
    "\n",
    "#Open PDF file for reading\n",
    "pdfFile = open(filename, mode=\"rb\")\n",
    "pdfReader = PyPDF2.PdfFileReader(pdfFile)\n",
    "\n",
    "# Select a page to work on\n",
    "pageNumber = 3\n",
    "\n",
    "# Get text\n",
    "OnePage = pdfReader.getPage(pageNumber-1) #0-based count\n",
    "OnePageText = OnePage.extractText()\n",
    "\n",
    "# Close PDF file\n",
    "pdfFile.close()\n",
    "\n",
    "# Replacement code to use slate which handles spacing within some PDFs better\n",
    "# with open(filename, 'rb') as f:\n",
    "#     OnePageText = slate.PDF(f).text()\n",
    "\n",
    "# Remove newlinesxmx82k-&a. It appears multiple newlines together makes\n",
    "# Spacy think that is the end of a sentence. The PDF reader reads the text in\n",
    "# an odd fashion\n",
    "OnePageText = OnePageText.replace('\\n','')\n",
    "\n",
    "# create a spaCy doc object from the page and break it into sentences\n",
    "doc = nlp(OnePageText)\n",
    "l=0\n",
    "for sent in doc.sents:\n",
    "     print(l, \": \", sent)\n",
    "     l = l+1\n"
   ]
  },
  {
   "cell_type": "markdown",
   "metadata": {},
   "source": [
    "## Read in Per-line named entity file and match entities to sentence positions."
   ]
  },
  {
   "cell_type": "code",
   "execution_count": 40,
   "metadata": {},
   "outputs": [
    {
     "name": "stdout",
     "output_type": "stream",
     "text": [
      "   Index                                           Sentence  \\\n",
      "0     22  In these trials, Cowboy had average grain volu...   \n",
      "1     22  In these trials, Cowboy had average grain volu...   \n",
      "2     24  the Wyoming irrigated state variety trial, gra...   \n",
      "3     28  In these trials, Cowboy had above-average grai...   \n",
      "4     28  In these trials, Cowboy had above-average grai...   \n",
      "5     36  ˆe three check varieties have overall good mil...   \n",
      "6     36  ˆe three check varieties have overall good mil...   \n",
      "7     36  ˆe three check varieties have overall good mil...   \n",
      "8     36  ˆe three check varieties have overall good mil...   \n",
      "9     36  ˆe three check varieties have overall good mil...   \n",
      "10    37  Values for milling-related variables were gene...   \n",
      "11    37  Values for milling-related variables were gene...   \n",
      "12    37  Values for milling-related variables were gene...   \n",
      "13    37  Values for milling-related variables were gene...   \n",
      "\n",
      "                         Phrase           MatchInfo  \n",
      "0                        Cowboy    (17, 23, 'CVAR')  \n",
      "1           grain volume weight    (36, 55, 'TRAT')  \n",
      "2                   grain yield    (43, 54, 'TRAT')  \n",
      "3                        Cowboy    (17, 23, 'CVAR')  \n",
      "4           grain volume weight    (42, 61, 'TRAT')  \n",
      "5            milling properties    (43, 61, 'TRAT')  \n",
      "6             baking properties    (76, 93, 'TRAT')  \n",
      "7                       Hatcher   (98, 105, 'CVAR')  \n",
      "8                        Ripper  (110, 116, 'CVAR')  \n",
      "9                         Above  (130, 135, 'CVAR')  \n",
      "10    milling-related variables    (11, 36, 'TRAT')  \n",
      "11                       Cowboy    (61, 67, 'CVAR')  \n",
      "12       kernel characteristics    (74, 96, 'TRAT')  \n",
      "13  grain protein concentration   (98, 125, 'TRAT')  \n"
     ]
    }
   ],
   "source": [
    "import re\n",
    "import csv\n",
    "import pandas as pd\n",
    "\n",
    "fname = \"Data/DavisLJ11/barley_p\"+str(pageNumber)+\"_ner.txt\"\n",
    "#fname = \"Data/UIdaho2019/barley_p\"+str(pageNumber-40)+\"_ner.txt\" # Note p1 = 41 in the document\n",
    "fname = \"Data/CSU/Cowboy_p\"+str(pageNumber)+\"_ner.txt\"\n",
    "\n",
    "# Covert the nlp senetence generator into a list of sentences\n",
    "sentences = list(doc.sents)\n",
    "\n",
    "# Open the file of manually matched pairs (sentence # <tab> word phrase <tab> named entity)\n",
    "# e.g.:\n",
    "#  0      AC Metcalfe     CVAR\n",
    "#  0      two-rowed       TRAT\n",
    "#  0      barley          CROP\n",
    "#  1      Agri-Food Candada   ORG\n",
    "#  1      1997    DATE\n",
    "file = open(fname)\n",
    "reader = csv.reader(file, delimiter='\\t', quoting=csv.QUOTE_NONE)\n",
    "data = list()\n",
    "\n",
    "for row in reader:\n",
    "    try:\n",
    "        (sentIndex, phrase, label) = row\n",
    "        sent = sentences[int(sentIndex)].string.rstrip()\n",
    "        \n",
    "        # find all instances of the 'phrase' in the 'sent'.\n",
    "        iter = re.finditer(r\"\\b\"+phrase+r\"\\b\", sent)\n",
    "        indices = [m.start(0) for m in iter]\n",
    "        \n",
    "        # check to make sure the phrase the user said was there was indeed found\n",
    "        if len(indices) == 0:\n",
    "            raise ValueError\n",
    "                \n",
    "        # print out all instances\n",
    "        for i in indices:\n",
    "#            print(sentIndex, sent, phrase, \"(\"+str(i), i+len(phrase), \"'\"+label+\"')\")\n",
    "            data.append([sentIndex, sent, phrase, \"(\"+str(i)+\", \"+str(i+len(phrase))+\", '\"+label+\"')\"])\n",
    "            \n",
    "    except:\n",
    "        print(\"Handle manually: \", row)\n",
    "        \n",
    "df = pd.DataFrame(data, columns = [\"Index\", \"Sentence\", \"Phrase\", \"MatchInfo\"])\n",
    "print(df)\n"
   ]
  },
  {
   "cell_type": "markdown",
   "metadata": {},
   "source": [
    "## Create a function to clean up overlapping intervals"
   ]
  },
  {
   "cell_type": "code",
   "execution_count": 41,
   "metadata": {},
   "outputs": [
    {
     "data": {
      "text/plain": [
       "\"(0, 12, 'CVAR'), (39, 49, 'CVAR'), (71, 77, 'CVAR'), (92, 113, 'TRAT'), (140, 150, 'CVAR'), (181, 187, 'CVAR')\""
      ]
     },
     "execution_count": 41,
     "metadata": {},
     "output_type": "execute_result"
    }
   ],
   "source": [
    "import re\n",
    "coordRegex = re.compile(r'(\\d+), (\\d+)')\n",
    "\n",
    "def sortByStart(coords):\n",
    "    \"\"\"For use in sort routines, return object with lowest (X,Y) values\"\"\"\n",
    "    # split out coordinates that come in as (5, 7, 'CVAR')\n",
    "    mo = coordRegex.search(coords)\n",
    "    return(int(mo.group(1)))\n",
    "\n",
    "def overlaps(coord1, coord2):\n",
    "    \"\"\"Check if coordinates of the form 5, 7, 'CVAR' and 32, 46, 'TRAT' overlap\"\"\"\n",
    "    mo1 = coordRegex.search(coord1)\n",
    "    mo2 = coordRegex.search(coord2)\n",
    "    coord1Low = int(mo1.group(1))\n",
    "    coord1High = int(mo1.group(2))\n",
    "    coord2Low = int(mo2.group(1))\n",
    "    coord2High = int(mo2.group(2))\n",
    "    \n",
    "    if ((coord1High >= coord2Low) and (coord1Low <= coord2Low) or\n",
    "        (coord2High >= coord1Low) and (coord2Low <= coord1Low)):\n",
    "        return True\n",
    "    else:\n",
    "        return False\n",
    "\n",
    "def keepFirst(coord1, coord2):\n",
    "    \"\"\"Given overlapping coordinates, return the wider encompassing one.\"\"\"\n",
    "    mo1 = coordRegex.search(coord1)\n",
    "    mo2 = coordRegex.search(coord2)\n",
    "    coord1Low = int(mo1.group(1))\n",
    "    coord1High = int(mo1.group(2))\n",
    "    coord2Low = int(mo2.group(1))\n",
    "    coord2High = int(mo2.group(2))\n",
    " \n",
    "    if (int(coord1High) - int(coord1Low)) >= (int(coord2High) - int(coord2Low)):\n",
    "        return True\n",
    "    else:\n",
    "        return False\n",
    "\n",
    "# print(\"Should be false:\", overlaps(\"(5, 7, 'CVAR')\", \"(32, 46, 'TRAT')\"))\n",
    "# print(\"Should be true:\", overlaps(\"(26, 46, 'TRAT')\", \"(32, 46, 'TRAT')\"))\n",
    "# print(\"Should be true:\", overlaps(\"(26, 46, 'TRAT')\", \"(26, 46, 'TRAT')\"))\n",
    "# print(\"Keeper:\", keepFirst(\"34, 46, 'TRAT'\", \"34, 46, 'TRAT'\"))\n",
    "\n",
    "def cleanIntervals(inputString=\"\"):\n",
    "    \"\"\"order intervals like (5, 7, 'CVAR'), (32, 46, 'TRAT'), (26, 46, 'TRAT') and remove overlapping ones.\"\"\"\n",
    "    inputString = inputString.lstrip(\"(\").rstrip(\")\")\n",
    "    intervalList = inputString.split(\"), (\")\n",
    "    intervalList.sort(key = sortByStart)\n",
    "#    print(\"Sorted Interval List:\", intervalList)\n",
    "\n",
    "    # Pairwise compare every interval in the list to every other interval to check overlap\n",
    "    keeperList = [True]*len(intervalList) # Logic array to determine if each interval should be kept\n",
    "    i=0\n",
    "    for interval1 in intervalList:\n",
    "        for interval2 in intervalList:\n",
    "            if interval1 == interval2:\n",
    "                if intervalList.index(interval1) != i: # when both are the same we reject the higher one\n",
    "                    keeperList[i] = False\n",
    "            else:\n",
    "                if overlaps(interval1, interval2) and keepFirst(interval1, interval2) == False:\n",
    "                    keeperList[i] = False\n",
    "        i = i+1\n",
    "        \n",
    "#    print(\"keeperList:\", keeperList)\n",
    "   \n",
    "    # Build up the return interval list\n",
    "    returnStr = \"(\"\n",
    "    for interval, isKeeper in zip(intervalList, keeperList):\n",
    "        if isKeeper:\n",
    "            returnStr = returnStr + interval + \"), (\"\n",
    "    return (returnStr.rstrip(\"), (\") + \")\")\n",
    "        \n",
    "# cleanIntervals(\"(5, 7, 'CVAR'), (32, 46, 'TRAT'), (5, 9, 'CVAR'), (48, 55, 'ORG'), (26, 46, 'TRAT')\")\n",
    "# cleanIntervals(\"(0, 8, 'CVAR'), (0, 5, 'CVAR'), (21, 26, 'PLAN'), (32, 37, 'CVAR')\")\n",
    "cleanIntervals(\"(0, 12, 'CVAR'), (39, 49, 'CVAR'), (39, 49, 'CVAR'), (71, 77, 'CVAR'), (71, 77, 'CVAR'), (92, 113, 'TRAT'), (140, 150, 'CVAR'), (140, 150, 'CVAR'), (181, 187, 'CVAR'), (181, 187, 'CVAR')\")\n"
   ]
  },
  {
   "cell_type": "markdown",
   "metadata": {},
   "source": [
    "## Aggregate all matches for each sentence on a single line and output in spaCy training format"
   ]
  },
  {
   "cell_type": "code",
   "execution_count": 42,
   "metadata": {
    "scrolled": false
   },
   "outputs": [
    {
     "name": "stdout",
     "output_type": "stream",
     "text": [
      "TRAIN_DATA = [\n",
      "    ('In these trials, Cowboy had average grain volume weight (764 kg m3), greater than (P < 0.05)', {'entities': [(17, 23, 'CVAR'), (36, 55, 'TRAT')]}),\n",
      "    ('the Wyoming irrigated state variety trial, grain yield of Cowboy (7879 kg ha1) was the highest among the entries in a combined analysis across years (2010Œ2012, 3 locations), similar to (P > 0.05)', {'entities': [(43, 54, 'TRAT')]}),\n",
      "    ('In these trials, Cowboy had above-average grain volume weight (773 kg m3), similar to (P >', {'entities': [(17, 23, 'CVAR'), (42, 61, 'TRAT')]}),\n",
      "    ('ˆe three check varieties have overall good milling properties while overall baking properties for Hatcher and Ripper are good and Above is poor.', {'entities': [(43, 61, 'TRAT'), (76, 93, 'TRAT'), (98, 105, 'CVAR'), (110, 116, 'CVAR'), (130, 135, 'CVAR')]}),\n",
      "    ('Values for milling-related variables were generally good for Cowboy, with kernel characteristics, grain protein concentration, and Brabendeuadrumat Senior (', {'entities': [(11, 36, 'TRAT'), (61, 67, 'CVAR'), (74, 96, 'TRAT'), (98, 125, 'TRAT')]})\n",
      "]\n"
     ]
    }
   ],
   "source": [
    "# use Pandas dataframes to aggregate all entity matches together for a single sentence\n",
    "agg_rules = {'Sentence': 'first', 'Phrase': 'first', 'MatchInfo': lambda x: ', '.join(x)}\n",
    "res = df.groupby('Index').agg(agg_rules)\n",
    "#print(res)\n",
    "\n",
    "# Now format it just like what is needed for the spaCy training module: \n",
    "# E.g.:\n",
    "# ('Eight-Twelve is a six-rowed winter feed barley', {'entities': [(0, 12, 'CVAR'), (18, 27, 'TRAT'), (28, 39, 'TRAT'),(40, 46, 'CROP')]}),\n",
    "records = res.to_dict('records')\n",
    "print(\"TRAIN_DATA = [\")\n",
    "maxr = len(records)\n",
    "for i in range(0,maxr):\n",
    "    print(\"    ('\"+records[i]['Sentence']+\"', {'entities': [\"+cleanIntervals(records[i]['MatchInfo'])+\"]})\", end='')\n",
    "    if (i == maxr-1):\n",
    "        print()\n",
    "    else:\n",
    "        print(\",\")\n",
    "\n",
    "print(\"]\")"
   ]
  },
  {
   "cell_type": "markdown",
   "metadata": {},
   "source": [
    "In my current process, I am writing the above content to a file e.g., `Data/DavisLJ11/barley_p5_td.py`, adding any manual corrections (usually PED and JRNL entries) and then running the script `python3 py2json.py --doc 'BarCvDescLJ11.pdf' --url 'https://smallgrains.ucdavis.edu/cereal_files/BarCvDescLJ11.pdf' --chunk 5 Data/DavisLJ11/barley_p5_td.py Data/DavisLJ11/barley_p5_td.json` to create the JSON file for Training."
   ]
  }
 ],
 "metadata": {
  "kernelspec": {
   "display_name": "Python 3",
   "language": "python",
   "name": "python3"
  },
  "language_info": {
   "codemirror_mode": {
    "name": "ipython",
    "version": 3
   },
   "file_extension": ".py",
   "mimetype": "text/x-python",
   "name": "python",
   "nbconvert_exporter": "python",
   "pygments_lexer": "ipython3",
   "version": "3.7.7"
  }
 },
 "nbformat": 4,
 "nbformat_minor": 2
}
