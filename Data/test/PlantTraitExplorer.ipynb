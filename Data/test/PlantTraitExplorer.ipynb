{
 "cells": [
  {
   "cell_type": "markdown",
   "id": "7e917a14-82f3-4e57-aafe-4afcdf17c23a",
   "metadata": {},
   "source": [
    "# Plant Trait Explorer\n",
    "\n",
    "Instructions for testing plant trait explorer API.\n",
    "\n",
    "**TODO**\n",
    "- Login credentials are hard coded. This needs to be fixed.\n",
    "- Get info currently returns (if available) year the variety was introduced and where geographically was it produced. We need to add what institution produced it. \n"
   ]
  },
  {
   "cell_type": "markdown",
   "id": "51f4ad96-6199-408f-a534-d3cbe925c833",
   "metadata": {},
   "source": [
    "# Installation and Setup\n",
    "\n",
    "Details to come.. \n",
    "\n",
    "Before proceeding, make sure you have PostgreSQL installed and the source code store in a folder e.g., '/Users/gonsongo/Desktop/research/gems/IaaAgDataNER/src' "
   ]
  },
  {
   "cell_type": "markdown",
   "id": "9ce4aaca-6d6b-4153-8202-3abdfbfcb6cf",
   "metadata": {},
   "source": [
    "### Import code and data files\n",
    "The code is in prototype phase and as a result, it is not packaged and cannot be installed. Download the code and source data files and add the paths so the notebook can find them."
   ]
  },
  {
   "cell_type": "code",
   "execution_count": null,
   "id": "820141e9-d0ba-4568-91d8-fa65e59218bc",
   "metadata": {},
   "outputs": [],
   "source": [
    "import os\n",
    "import sys\n",
    "\n",
    "# Path to source code\n",
    "sys.path.append('/Users/gonsongo/Desktop/research/gems/IaaAgDataNER/src')\n",
    "# Path to data source\n",
    "sys.path.append('/Users/gonsongo/Desktop/research/gems/IaaAgDataNER/test')\n",
    "\n",
    "# Load the source code\n",
    "from queryOpenAI import *\n",
    "\n",
    "# Load module for displaying PDF and HTML documents\n",
    "from IPython.display import IFrame"
   ]
  },
  {
   "cell_type": "code",
   "execution_count": 18,
   "id": "e9ec97dd-8119-400c-96ac-528478206778",
   "metadata": {},
   "outputs": [
    {
     "data": {
      "text/html": [
       "<div>\n",
       "<style scoped>\n",
       "    .dataframe tbody tr th:only-of-type {\n",
       "        vertical-align: middle;\n",
       "    }\n",
       "\n",
       "    .dataframe tbody tr th {\n",
       "        vertical-align: top;\n",
       "    }\n",
       "\n",
       "    .dataframe thead th {\n",
       "        text-align: right;\n",
       "    }\n",
       "</style>\n",
       "<table border=\"1\" class=\"dataframe\">\n",
       "  <thead>\n",
       "    <tr style=\"text-align: right;\">\n",
       "      <th></th>\n",
       "      <th>Variety Name</th>\n",
       "    </tr>\n",
       "  </thead>\n",
       "  <tbody>\n",
       "    <tr>\n",
       "      <th>0</th>\n",
       "      <td>bond cl</td>\n",
       "    </tr>\n",
       "    <tr>\n",
       "      <th>1</th>\n",
       "      <td>incline ax</td>\n",
       "    </tr>\n",
       "  </tbody>\n",
       "</table>\n",
       "</div>"
      ],
      "text/plain": [
       "  Variety Name\n",
       "0      bond cl\n",
       "1   incline ax"
      ]
     },
     "execution_count": 18,
     "metadata": {},
     "output_type": "execute_result"
    }
   ],
   "source": [
    "get_crop_varieties(\"wheat\")"
   ]
  },
  {
   "cell_type": "code",
   "execution_count": 19,
   "id": "f93e9828-4f2b-43cd-b91c-c7121620cac4",
   "metadata": {},
   "outputs": [
    {
     "data": {
      "text/html": [
       "<div>\n",
       "<style scoped>\n",
       "    .dataframe tbody tr th:only-of-type {\n",
       "        vertical-align: middle;\n",
       "    }\n",
       "\n",
       "    .dataframe tbody tr th {\n",
       "        vertical-align: top;\n",
       "    }\n",
       "\n",
       "    .dataframe thead th {\n",
       "        text-align: right;\n",
       "    }\n",
       "</style>\n",
       "<table border=\"1\" class=\"dataframe\">\n",
       "  <thead>\n",
       "    <tr style=\"text-align: right;\">\n",
       "      <th></th>\n",
       "      <th>Variety Name</th>\n",
       "      <th>Category Name</th>\n",
       "      <th>Info</th>\n",
       "    </tr>\n",
       "  </thead>\n",
       "  <tbody>\n",
       "    <tr>\n",
       "      <th>0</th>\n",
       "      <td>yukon gold</td>\n",
       "      <td>geographic range</td>\n",
       "      <td>nebraska</td>\n",
       "    </tr>\n",
       "    <tr>\n",
       "      <th>1</th>\n",
       "      <td>yukon gold</td>\n",
       "      <td>geographic range</td>\n",
       "      <td>ontario</td>\n",
       "    </tr>\n",
       "    <tr>\n",
       "      <th>2</th>\n",
       "      <td>yukon gold</td>\n",
       "      <td>release date</td>\n",
       "      <td>1981</td>\n",
       "    </tr>\n",
       "  </tbody>\n",
       "</table>\n",
       "</div>"
      ],
      "text/plain": [
       "  Variety Name     Category Name      Info\n",
       "0   yukon gold  geographic range  nebraska\n",
       "1   yukon gold  geographic range   ontario\n",
       "2   yukon gold      release date      1981"
      ]
     },
     "execution_count": 19,
     "metadata": {},
     "output_type": "execute_result"
    }
   ],
   "source": [
    "get_crop_info('potato', 'yukon gold')"
   ]
  },
  {
   "cell_type": "code",
   "execution_count": 20,
   "id": "e4060458-a829-45e1-ad4c-49811914c3c1",
   "metadata": {},
   "outputs": [
    {
     "data": {
      "text/html": [
       "<div>\n",
       "<style scoped>\n",
       "    .dataframe tbody tr th:only-of-type {\n",
       "        vertical-align: middle;\n",
       "    }\n",
       "\n",
       "    .dataframe tbody tr th {\n",
       "        vertical-align: top;\n",
       "    }\n",
       "\n",
       "    .dataframe thead th {\n",
       "        text-align: right;\n",
       "    }\n",
       "</style>\n",
       "<table border=\"1\" class=\"dataframe\">\n",
       "  <thead>\n",
       "    <tr style=\"text-align: right;\">\n",
       "      <th></th>\n",
       "      <th>Variety Name</th>\n",
       "      <th>Category Name</th>\n",
       "      <th>Info</th>\n",
       "    </tr>\n",
       "  </thead>\n",
       "  <tbody>\n",
       "    <tr>\n",
       "      <th>0</th>\n",
       "      <td>incline ax</td>\n",
       "      <td>disease traits</td>\n",
       "      <td>excellent resistance to leaf rust</td>\n",
       "    </tr>\n",
       "    <tr>\n",
       "      <th>1</th>\n",
       "      <td>incline ax</td>\n",
       "      <td>disease traits</td>\n",
       "      <td>excellent resistance to stripe rust</td>\n",
       "    </tr>\n",
       "    <tr>\n",
       "      <th>2</th>\n",
       "      <td>incline ax</td>\n",
       "      <td>disease traits</td>\n",
       "      <td>excellent resistance to wheat streak mosaic</td>\n",
       "    </tr>\n",
       "    <tr>\n",
       "      <th>3</th>\n",
       "      <td>incline ax</td>\n",
       "      <td>general traits</td>\n",
       "      <td>fair protein</td>\n",
       "    </tr>\n",
       "    <tr>\n",
       "      <th>4</th>\n",
       "      <td>incline ax</td>\n",
       "      <td>general traits</td>\n",
       "      <td>fair yield</td>\n",
       "    </tr>\n",
       "    <tr>\n",
       "      <th>5</th>\n",
       "      <td>incline ax</td>\n",
       "      <td>general traits</td>\n",
       "      <td>good drought tolerance</td>\n",
       "    </tr>\n",
       "    <tr>\n",
       "      <th>6</th>\n",
       "      <td>incline ax</td>\n",
       "      <td>general traits</td>\n",
       "      <td>medium-long coleoptile length</td>\n",
       "    </tr>\n",
       "    <tr>\n",
       "      <th>7</th>\n",
       "      <td>incline ax</td>\n",
       "      <td>general traits</td>\n",
       "      <td>medium-short height</td>\n",
       "    </tr>\n",
       "    <tr>\n",
       "      <th>8</th>\n",
       "      <td>incline ax</td>\n",
       "      <td>general traits</td>\n",
       "      <td>poor test weight</td>\n",
       "    </tr>\n",
       "    <tr>\n",
       "      <th>9</th>\n",
       "      <td>incline ax</td>\n",
       "      <td>general traits</td>\n",
       "      <td>very good baking quality</td>\n",
       "    </tr>\n",
       "    <tr>\n",
       "      <th>10</th>\n",
       "      <td>incline ax</td>\n",
       "      <td>general traits</td>\n",
       "      <td>very good straw strength</td>\n",
       "    </tr>\n",
       "  </tbody>\n",
       "</table>\n",
       "</div>"
      ],
      "text/plain": [
       "   Variety Name   Category Name                                         Info\n",
       "0    incline ax  disease traits            excellent resistance to leaf rust\n",
       "1    incline ax  disease traits          excellent resistance to stripe rust\n",
       "2    incline ax  disease traits  excellent resistance to wheat streak mosaic\n",
       "3    incline ax  general traits                                 fair protein\n",
       "4    incline ax  general traits                                   fair yield\n",
       "5    incline ax  general traits                       good drought tolerance\n",
       "6    incline ax  general traits                medium-long coleoptile length\n",
       "7    incline ax  general traits                          medium-short height\n",
       "8    incline ax  general traits                             poor test weight\n",
       "9    incline ax  general traits                     very good baking quality\n",
       "10   incline ax  general traits                     very good straw strength"
      ]
     },
     "execution_count": 20,
     "metadata": {},
     "output_type": "execute_result"
    }
   ],
   "source": [
    "get_traits('wheat', 'incline ax')"
   ]
  },
  {
   "cell_type": "code",
   "execution_count": 21,
   "id": "f494e2af-58ea-43a9-bab5-c4f78a611196",
   "metadata": {},
   "outputs": [
    {
     "data": {
      "text/html": [
       "<div>\n",
       "<style scoped>\n",
       "    .dataframe tbody tr th:only-of-type {\n",
       "        vertical-align: middle;\n",
       "    }\n",
       "\n",
       "    .dataframe tbody tr th {\n",
       "        vertical-align: top;\n",
       "    }\n",
       "\n",
       "    .dataframe thead th {\n",
       "        text-align: right;\n",
       "    }\n",
       "</style>\n",
       "<table border=\"1\" class=\"dataframe\">\n",
       "  <thead>\n",
       "    <tr style=\"text-align: right;\">\n",
       "      <th></th>\n",
       "      <th>Source Number</th>\n",
       "      <th>Trait</th>\n",
       "    </tr>\n",
       "  </thead>\n",
       "  <tbody>\n",
       "    <tr>\n",
       "      <th>0</th>\n",
       "      <td>4</td>\n",
       "      <td>excellent resistance to stripe rust</td>\n",
       "    </tr>\n",
       "  </tbody>\n",
       "</table>\n",
       "</div>"
      ],
      "text/plain": [
       "   Source Number                                Trait\n",
       "0              4  excellent resistance to stripe rust"
      ]
     },
     "execution_count": 21,
     "metadata": {},
     "output_type": "execute_result"
    }
   ],
   "source": [
    "get_source('wheat', 'incline ax', 'excellent resistance to stripe rust')"
   ]
  },
  {
   "cell_type": "markdown",
   "id": "f52da63c-9bab-45ba-9d87-1e3841babebf",
   "metadata": {},
   "source": [
    " **Display document** "
   ]
  },
  {
   "cell_type": "code",
   "execution_count": 22,
   "id": "6653eee2-47e8-4f78-961e-868f0b86bf97",
   "metadata": {},
   "outputs": [
    {
     "data": {
      "text/html": [
       "\n",
       "        <iframe\n",
       "            width=\"600\"\n",
       "            height=\"300\"\n",
       "            src=\"Incline-AX.pdf\"\n",
       "            frameborder=\"0\"\n",
       "            allowfullscreen\n",
       "            \n",
       "        ></iframe>\n",
       "        "
      ],
      "text/plain": [
       "<IPython.lib.display.IFrame at 0x1777b7ed0>"
      ]
     },
     "execution_count": 22,
     "metadata": {},
     "output_type": "execute_result"
    }
   ],
   "source": [
    "file = get_file_name(4)\n",
    "path_to_file = \"./\"+file\n",
    "IFrame(file , width=600, height=300)"
   ]
  },
  {
   "cell_type": "code",
   "execution_count": 23,
   "id": "7b52d58e-bdfc-4ee5-b17f-e4975b705499",
   "metadata": {},
   "outputs": [
    {
     "data": {
      "text/html": [
       "<div>\n",
       "<style scoped>\n",
       "    .dataframe tbody tr th:only-of-type {\n",
       "        vertical-align: middle;\n",
       "    }\n",
       "\n",
       "    .dataframe tbody tr th {\n",
       "        vertical-align: top;\n",
       "    }\n",
       "\n",
       "    .dataframe thead th {\n",
       "        text-align: right;\n",
       "    }\n",
       "</style>\n",
       "<table border=\"1\" class=\"dataframe\">\n",
       "  <thead>\n",
       "    <tr style=\"text-align: right;\">\n",
       "      <th></th>\n",
       "      <th>Source Number</th>\n",
       "      <th>Trait</th>\n",
       "    </tr>\n",
       "  </thead>\n",
       "  <tbody>\n",
       "    <tr>\n",
       "      <th>0</th>\n",
       "      <td>3</td>\n",
       "      <td>susceptible to common scab</td>\n",
       "    </tr>\n",
       "    <tr>\n",
       "      <th>1</th>\n",
       "      <td>7</td>\n",
       "      <td>susceptible to common scab</td>\n",
       "    </tr>\n",
       "    <tr>\n",
       "      <th>2</th>\n",
       "      <td>8</td>\n",
       "      <td>susceptible to common scab</td>\n",
       "    </tr>\n",
       "  </tbody>\n",
       "</table>\n",
       "</div>"
      ],
      "text/plain": [
       "   Source Number                       Trait\n",
       "0              3  susceptible to common scab\n",
       "1              7  susceptible to common scab\n",
       "2              8  susceptible to common scab"
      ]
     },
     "execution_count": 23,
     "metadata": {},
     "output_type": "execute_result"
    }
   ],
   "source": [
    "get_source('potato', 'yukon gold', 'susceptible to common scab')"
   ]
  },
  {
   "cell_type": "code",
   "execution_count": 24,
   "id": "d67ae365-5cc9-4a6f-bef9-6a79c76751da",
   "metadata": {},
   "outputs": [
    {
     "data": {
      "text/html": [
       "\n",
       "        <iframe\n",
       "            width=\"600\"\n",
       "            height=\"300\"\n",
       "            src=\"yukon-gold-potato-fact-sheet-3.html\"\n",
       "            frameborder=\"0\"\n",
       "            allowfullscreen\n",
       "            \n",
       "        ></iframe>\n",
       "        "
      ],
      "text/plain": [
       "<IPython.lib.display.IFrame at 0x1103b90d0>"
      ]
     },
     "execution_count": 24,
     "metadata": {},
     "output_type": "execute_result"
    }
   ],
   "source": [
    "file = get_file_name(7)\n",
    "path_to_file = \"./\"+file\n",
    "IFrame(file , width=600, height=300)\n",
    "# NOTE: To search for term in document...."
   ]
  },
  {
   "cell_type": "code",
   "execution_count": 25,
   "id": "d911bd3b-b4e5-4d9a-b3d9-ac924d049204",
   "metadata": {},
   "outputs": [
    {
     "data": {
      "text/html": [
       "\n",
       "        <iframe\n",
       "            width=\"600\"\n",
       "            height=\"300\"\n",
       "            src=\"yukon-gold-solanum-tuberosum.html\"\n",
       "            frameborder=\"0\"\n",
       "            allowfullscreen\n",
       "            \n",
       "        ></iframe>\n",
       "        "
      ],
      "text/plain": [
       "<IPython.lib.display.IFrame at 0x177711f50>"
      ]
     },
     "execution_count": 25,
     "metadata": {},
     "output_type": "execute_result"
    }
   ],
   "source": [
    "file = get_file_name(8)\n",
    "path_to_file = \"./\"+file\n",
    "IFrame(file , width=600, height=300)"
   ]
  },
  {
   "cell_type": "code",
   "execution_count": 26,
   "id": "8204844d-dc54-48a5-b490-f8fd48aa4110",
   "metadata": {},
   "outputs": [
    {
     "data": {
      "text/html": [
       "<div>\n",
       "<style scoped>\n",
       "    .dataframe tbody tr th:only-of-type {\n",
       "        vertical-align: middle;\n",
       "    }\n",
       "\n",
       "    .dataframe tbody tr th {\n",
       "        vertical-align: top;\n",
       "    }\n",
       "\n",
       "    .dataframe thead th {\n",
       "        text-align: right;\n",
       "    }\n",
       "</style>\n",
       "<table border=\"1\" class=\"dataframe\">\n",
       "  <thead>\n",
       "    <tr style=\"text-align: right;\">\n",
       "      <th></th>\n",
       "      <th>Variety Name</th>\n",
       "    </tr>\n",
       "  </thead>\n",
       "  <tbody>\n",
       "    <tr>\n",
       "      <th>0</th>\n",
       "      <td>clearwater russet</td>\n",
       "    </tr>\n",
       "  </tbody>\n",
       "</table>\n",
       "</div>"
      ],
      "text/plain": [
       "        Variety Name\n",
       "0  clearwater russet"
      ]
     },
     "execution_count": 26,
     "metadata": {},
     "output_type": "execute_result"
    }
   ],
   "source": [
    "cropName = 'potato'\n",
    "trait_inclusion_list = ['resistant to verticillium wilt', 'white creamy flesh']\n",
    "trait_exclusion_list = ['susceptible to common scab']\n",
    "match_traits(cropName , trait_inclusion_list, trait_exclusion_list)"
   ]
  },
  {
   "cell_type": "code",
   "execution_count": 27,
   "id": "2248a2d1-328c-4d4e-a922-b804ccdf52ae",
   "metadata": {},
   "outputs": [
    {
     "data": {
      "text/html": [
       "<div>\n",
       "<style scoped>\n",
       "    .dataframe tbody tr th:only-of-type {\n",
       "        vertical-align: middle;\n",
       "    }\n",
       "\n",
       "    .dataframe tbody tr th {\n",
       "        vertical-align: top;\n",
       "    }\n",
       "\n",
       "    .dataframe thead th {\n",
       "        text-align: right;\n",
       "    }\n",
       "</style>\n",
       "<table border=\"1\" class=\"dataframe\">\n",
       "  <thead>\n",
       "    <tr style=\"text-align: right;\">\n",
       "      <th></th>\n",
       "      <th>Variety Name</th>\n",
       "    </tr>\n",
       "  </thead>\n",
       "  <tbody>\n",
       "    <tr>\n",
       "      <th>0</th>\n",
       "      <td>yukon gold</td>\n",
       "    </tr>\n",
       "  </tbody>\n",
       "</table>\n",
       "</div>"
      ],
      "text/plain": [
       "  Variety Name\n",
       "0   yukon gold"
      ]
     },
     "execution_count": 27,
     "metadata": {},
     "output_type": "execute_result"
    }
   ],
   "source": [
    "trait_inclusion_list = ['yellow white tuber skin']\n",
    "trait_exclusion_list = ['none']\n",
    "match_traits(cropName , trait_inclusion_list, trait_exclusion_list)"
   ]
  },
  {
   "cell_type": "code",
   "execution_count": null,
   "id": "9a42b943-cfc6-4a33-89b1-cd5b473cf736",
   "metadata": {},
   "outputs": [],
   "source": []
  }
 ],
 "metadata": {
  "kernelspec": {
   "display_name": "spacyLLM",
   "language": "python",
   "name": "spacyllm"
  },
  "language_info": {
   "codemirror_mode": {
    "name": "ipython",
    "version": 3
   },
   "file_extension": ".py",
   "mimetype": "text/x-python",
   "name": "python",
   "nbconvert_exporter": "python",
   "pygments_lexer": "ipython3",
   "version": "3.11.4"
  }
 },
 "nbformat": 4,
 "nbformat_minor": 5
}
